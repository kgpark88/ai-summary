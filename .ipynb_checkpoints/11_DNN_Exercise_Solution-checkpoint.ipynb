{
 "cells": [
  {
   "cell_type": "markdown",
   "metadata": {
    "id": "W8p15qvhKu8f"
   },
   "source": [
    "# 통신사 이탈고객 예측 분류기 구현 실습\n",
    "\n",
    "### 데이터셋 설명\n",
    "- customerID: 고객ID  \n",
    "- gender: 고객 성별  \n",
    "- SeniorCitizen: 시니어 여부  \n",
    "- Partner: 고객에게 파트너가 있는지 여부(결혼 여부)    \n",
    "- Dependents: 고객의 부양 가족 여부  \n",
    "- tenure: 고객이 회사에 머물렀던 개월 수  \n",
    "- PhoneService: 고객에게 전화 서비스가 있는지 여부  \n",
    "- MultipleLines: 고객이 여러 회선을 사용하는지 여부  \n",
    "- InternetService: 고객의 인터넷 서비스 제공업체  \n",
    "- OnlineSecurity: 고객의 온라인 보안 여부  \n",
    "- OnlineBackup: 고객이 온라인 백업을 했는지 여부  \n",
    "- DeviceProtection: 고객에게 기기 보호 기능이 있는지 여부  \n",
    "- TechSupport: 고객이 기술 지원을 받았는지 여부  \n",
    "- StreamingTV: 고객이 스트리밍TV을 가지고 있는지 여부  \n",
    "- StreamingMovies: 고객이 영화를 스트리밍하는지 여부  \n",
    "- Contract: 고객의 계약기간  \n",
    "- PaperlessBilling: 고객의 종이 없는 청구서 수신 여부(모바일 청구서)  \n",
    "- PaymentMethod: 고객의 결제 수단  \n",
    "- MonthlyCharges: 매월 고객에게 청구되는 금액  \n",
    "- TotalCharges: 고객에게 청구된 총 금액  \n",
    "- Churn: 고객 이탈 여부, 종속 변수  "
   ]
  },
  {
   "cell_type": "markdown",
   "metadata": {
    "id": "xznFHOI7Ku8j"
   },
   "source": [
    "### 라이브러리 임포트"
   ]
  },
  {
   "cell_type": "code",
   "execution_count": 1,
   "metadata": {
    "id": "1Xh5Bo7GKu8j"
   },
   "outputs": [],
   "source": [
    "import numpy as np\n",
    "import pandas as pd\n",
    "import seaborn as sns\n",
    "from sklearn.model_selection import train_test_split"
   ]
  },
  {
   "cell_type": "markdown",
   "metadata": {
    "id": "KcEkPszQKu8j"
   },
   "source": [
    "### 데이터 로드"
   ]
  },
  {
   "cell_type": "code",
   "execution_count": null,
   "metadata": {},
   "outputs": [],
   "source": [
    "# from aicentro.session import Session\n",
    "# from aicentro.framework.keras import Keras as AiduFrm\n",
    "\n",
    "# aidu_session = Session(verify=False)\n",
    "# aidu_framework = AiduFrm(session=aidu_session)\n",
    "\n",
    "# df = pd.read_csv(aidu_framework.config.data_dir + '/churn_data.csv')"
   ]
  },
  {
   "cell_type": "code",
   "execution_count": 2,
   "metadata": {
    "id": "IoFa3qY0Ku8j"
   },
   "outputs": [],
   "source": [
    "# df = pd.read_csv('churn_data.csv')\n",
    "df = pd.read_csv('https://raw.githubusercontent.com/kgpark88/ai-summary/main/churn_data.csv')"
   ]
  },
  {
   "cell_type": "markdown",
   "metadata": {
    "id": "GTKqo1pSKu8j"
   },
   "source": [
    "### 데이터 분석"
   ]
  },
  {
   "cell_type": "code",
   "execution_count": 3,
   "metadata": {
    "colab": {
     "base_uri": "https://localhost:8080/"
    },
    "id": "OLi7Xv6XKu8j",
    "outputId": "439a5c0d-25b2-4e04-9dea-1c0c31830c33"
   },
   "outputs": [
    {
     "name": "stdout",
     "output_type": "stream",
     "text": [
      "<class 'pandas.core.frame.DataFrame'>\n",
      "RangeIndex: 7043 entries, 0 to 7042\n",
      "Data columns (total 21 columns):\n",
      " #   Column            Non-Null Count  Dtype  \n",
      "---  ------            --------------  -----  \n",
      " 0   customerID        7043 non-null   object \n",
      " 1   gender            7043 non-null   object \n",
      " 2   SeniorCitizen     7043 non-null   int64  \n",
      " 3   Partner           7043 non-null   object \n",
      " 4   Dependents        7043 non-null   object \n",
      " 5   tenure            7043 non-null   int64  \n",
      " 6   PhoneService      7043 non-null   object \n",
      " 7   MultipleLines     7043 non-null   object \n",
      " 8   InternetService   7043 non-null   object \n",
      " 9   OnlineSecurity    7043 non-null   object \n",
      " 10  OnlineBackup      7043 non-null   object \n",
      " 11  DeviceProtection  7043 non-null   object \n",
      " 12  TechSupport       7043 non-null   object \n",
      " 13  StreamingTV       7043 non-null   object \n",
      " 14  StreamingMovies   7043 non-null   object \n",
      " 15  Contract          7043 non-null   object \n",
      " 16  PaperlessBilling  7043 non-null   object \n",
      " 17  PaymentMethod     7043 non-null   object \n",
      " 18  MonthlyCharges    7043 non-null   float64\n",
      " 19  TotalCharges      7043 non-null   object \n",
      " 20  Churn             7043 non-null   object \n",
      "dtypes: float64(1), int64(2), object(18)\n",
      "memory usage: 1.1+ MB\n"
     ]
    }
   ],
   "source": [
    "df.info()"
   ]
  },
  {
   "cell_type": "code",
   "execution_count": 4,
   "metadata": {
    "colab": {
     "base_uri": "https://localhost:8080/"
    },
    "id": "omfjNiq4Ku8j",
    "outputId": "e29f00de-e64d-429f-e51f-5c7c43675bab"
   },
   "outputs": [
    {
     "data": {
      "text/plain": [
       "customerID          0\n",
       "gender              0\n",
       "SeniorCitizen       0\n",
       "Partner             0\n",
       "Dependents          0\n",
       "tenure              0\n",
       "PhoneService        0\n",
       "MultipleLines       0\n",
       "InternetService     0\n",
       "OnlineSecurity      0\n",
       "OnlineBackup        0\n",
       "DeviceProtection    0\n",
       "TechSupport         0\n",
       "StreamingTV         0\n",
       "StreamingMovies     0\n",
       "Contract            0\n",
       "PaperlessBilling    0\n",
       "PaymentMethod       0\n",
       "MonthlyCharges      0\n",
       "TotalCharges        0\n",
       "Churn               0\n",
       "dtype: int64"
      ]
     },
     "execution_count": 4,
     "metadata": {},
     "output_type": "execute_result"
    }
   ],
   "source": [
    "df.isnull().sum()"
   ]
  },
  {
   "cell_type": "code",
   "execution_count": 5,
   "metadata": {
    "colab": {
     "base_uri": "https://localhost:8080/",
     "height": 142
    },
    "id": "FvUDbj_DKu8j",
    "outputId": "b826f8cd-c29c-4bb1-a7e0-872729858da6"
   },
   "outputs": [
    {
     "data": {
      "text/html": [
       "<div>\n",
       "<style scoped>\n",
       "    .dataframe tbody tr th:only-of-type {\n",
       "        vertical-align: middle;\n",
       "    }\n",
       "\n",
       "    .dataframe tbody tr th {\n",
       "        vertical-align: top;\n",
       "    }\n",
       "\n",
       "    .dataframe thead th {\n",
       "        text-align: right;\n",
       "    }\n",
       "</style>\n",
       "<table border=\"1\" class=\"dataframe\">\n",
       "  <thead>\n",
       "    <tr style=\"text-align: right;\">\n",
       "      <th></th>\n",
       "      <th>count</th>\n",
       "      <th>mean</th>\n",
       "      <th>std</th>\n",
       "      <th>min</th>\n",
       "      <th>25%</th>\n",
       "      <th>50%</th>\n",
       "      <th>75%</th>\n",
       "      <th>max</th>\n",
       "    </tr>\n",
       "  </thead>\n",
       "  <tbody>\n",
       "    <tr>\n",
       "      <th>SeniorCitizen</th>\n",
       "      <td>7043.0</td>\n",
       "      <td>0.162147</td>\n",
       "      <td>0.368612</td>\n",
       "      <td>0.00</td>\n",
       "      <td>0.0</td>\n",
       "      <td>0.00</td>\n",
       "      <td>0.00</td>\n",
       "      <td>1.00</td>\n",
       "    </tr>\n",
       "    <tr>\n",
       "      <th>tenure</th>\n",
       "      <td>7043.0</td>\n",
       "      <td>32.371149</td>\n",
       "      <td>24.559481</td>\n",
       "      <td>0.00</td>\n",
       "      <td>9.0</td>\n",
       "      <td>29.00</td>\n",
       "      <td>55.00</td>\n",
       "      <td>72.00</td>\n",
       "    </tr>\n",
       "    <tr>\n",
       "      <th>MonthlyCharges</th>\n",
       "      <td>7043.0</td>\n",
       "      <td>64.761692</td>\n",
       "      <td>30.090047</td>\n",
       "      <td>18.25</td>\n",
       "      <td>35.5</td>\n",
       "      <td>70.35</td>\n",
       "      <td>89.85</td>\n",
       "      <td>118.75</td>\n",
       "    </tr>\n",
       "  </tbody>\n",
       "</table>\n",
       "</div>"
      ],
      "text/plain": [
       "                 count       mean        std    min   25%    50%    75%  \\\n",
       "SeniorCitizen   7043.0   0.162147   0.368612   0.00   0.0   0.00   0.00   \n",
       "tenure          7043.0  32.371149  24.559481   0.00   9.0  29.00  55.00   \n",
       "MonthlyCharges  7043.0  64.761692  30.090047  18.25  35.5  70.35  89.85   \n",
       "\n",
       "                   max  \n",
       "SeniorCitizen     1.00  \n",
       "tenure           72.00  \n",
       "MonthlyCharges  118.75  "
      ]
     },
     "execution_count": 5,
     "metadata": {},
     "output_type": "execute_result"
    }
   ],
   "source": [
    "df.describe().transpose()"
   ]
  },
  {
   "cell_type": "code",
   "execution_count": 6,
   "metadata": {
    "colab": {
     "base_uri": "https://localhost:8080/",
     "height": 339
    },
    "id": "yDhgvD15Ku8j",
    "outputId": "b08b1378-d300-4c58-f217-41228c6028df"
   },
   "outputs": [
    {
     "data": {
      "text/plain": [
       "<AxesSubplot:>"
      ]
     },
     "execution_count": 6,
     "metadata": {},
     "output_type": "execute_result"
    },
    {
     "data": {
      "image/png": "[encoded data removed]",
      "text/plain": [
       "<Figure size 432x288 with 1 Axes>"
      ]
     },
     "metadata": {
      "needs_background": "light"
     },
     "output_type": "display_data"
    }
   ],
   "source": [
    "df.corr()['MonthlyCharges'][:-1].sort_values().plot(kind='bar')"
   ]
  },
  {
   "cell_type": "markdown",
   "metadata": {
    "id": "WTvo7E9IKu8j"
   },
   "source": [
    "### 데이터 전처리"
   ]
  },
  {
   "cell_type": "code",
   "execution_count": 7,
   "metadata": {
    "id": "EXoe4UgGKu8j"
   },
   "outputs": [],
   "source": [
    "df.drop('customerID', axis=1, inplace=True)"
   ]
  },
  {
   "cell_type": "code",
   "execution_count": 8,
   "metadata": {
    "id": "ix2MxklMKu8j"
   },
   "outputs": [],
   "source": [
    "df['TotalCharges'].replace([' '], ['0'], inplace=True)"
   ]
  },
  {
   "cell_type": "code",
   "execution_count": 9,
   "metadata": {
    "id": "9YIGe9P3Ku8j"
   },
   "outputs": [],
   "source": [
    "df['TotalCharges'] = df['TotalCharges'].astype(float)"
   ]
  },
  {
   "cell_type": "code",
   "execution_count": 10,
   "metadata": {
    "id": "5JnBDm85Ku8j"
   },
   "outputs": [],
   "source": [
    "df['Churn'].replace(['Yes', 'No'], [1, 0], inplace=True)"
   ]
  },
  {
   "cell_type": "markdown",
   "metadata": {
    "id": "OuWj2mlvKu8j"
   },
   "source": [
    "### 더미 특성 생성"
   ]
  },
  {
   "cell_type": "code",
   "execution_count": 11,
   "metadata": {
    "id": "VYpdqLJhKu8j"
   },
   "outputs": [],
   "source": [
    "cols = ['gender', 'Partner', 'Dependents', 'PhoneService', 'MultipleLines', \n",
    "        'InternetService', 'OnlineSecurity', 'OnlineBackup', 'DeviceProtection', \n",
    "        'TechSupport', 'StreamingTV', 'StreamingMovies', 'Contract', \n",
    "        'PaperlessBilling', 'PaymentMethod']"
   ]
  },
  {
   "cell_type": "code",
   "execution_count": 12,
   "metadata": {
    "id": "CyF-ixcVKu8j"
   },
   "outputs": [],
   "source": [
    "dummies = pd.get_dummies(df[cols], drop_first=True)"
   ]
  },
  {
   "cell_type": "code",
   "execution_count": 13,
   "metadata": {
    "id": "16FejSRAKu8j"
   },
   "outputs": [],
   "source": [
    "df = df.drop(cols, axis=1)"
   ]
  },
  {
   "cell_type": "code",
   "execution_count": 14,
   "metadata": {
    "id": "WCO9vB6eKu8j"
   },
   "outputs": [],
   "source": [
    "df = pd.concat([df, dummies], axis=1)"
   ]
  },
  {
   "cell_type": "code",
   "execution_count": 15,
   "metadata": {
    "id": "_W4nTny7Ku8j"
   },
   "outputs": [],
   "source": [
    "# df = pd.get_dummies(df)\n",
    "# cols = list(df.select_dtypes('object').columns)"
   ]
  },
  {
   "cell_type": "markdown",
   "metadata": {
    "id": "pyKBvo_gKu8j"
   },
   "source": [
    "### Train, Test  데이터셋 분할"
   ]
  },
  {
   "cell_type": "code",
   "execution_count": 16,
   "metadata": {
    "id": "uBzPO0bTKu8j"
   },
   "outputs": [],
   "source": [
    "from sklearn.model_selection import train_test_split"
   ]
  },
  {
   "cell_type": "code",
   "execution_count": 17,
   "metadata": {
    "id": "kVxOkKkwKu8j"
   },
   "outputs": [],
   "source": [
    "X = df.drop('Churn', axis=1).values\n",
    "y = df['Churn'].values"
   ]
  },
  {
   "cell_type": "code",
   "execution_count": 18,
   "metadata": {
    "id": "xViKA0VeKu8j"
   },
   "outputs": [],
   "source": [
    "X_train, X_valid, y_train, y_valid = train_test_split(X, y, \n",
    "                                                    test_size=0.3, \n",
    "                                                    random_state=42)"
   ]
  },
  {
   "cell_type": "code",
   "execution_count": 19,
   "metadata": {
    "colab": {
     "base_uri": "https://localhost:8080/"
    },
    "id": "WOB04re_Ku8j",
    "outputId": "1e77618c-9296-4adb-cb2b-74f1def13839"
   },
   "outputs": [
    {
     "data": {
      "text/plain": [
       "(4930, 30)"
      ]
     },
     "execution_count": 19,
     "metadata": {},
     "output_type": "execute_result"
    }
   ],
   "source": [
    "X_train.shape"
   ]
  },
  {
   "cell_type": "code",
   "execution_count": 20,
   "metadata": {
    "colab": {
     "base_uri": "https://localhost:8080/"
    },
    "id": "WYzAtawMKu8j",
    "outputId": "286b3e7a-e5f2-474d-a22b-7c68548bdc1d"
   },
   "outputs": [
    {
     "data": {
      "text/plain": [
       "(4930,)"
      ]
     },
     "execution_count": 20,
     "metadata": {},
     "output_type": "execute_result"
    }
   ],
   "source": [
    "y_train.shape"
   ]
  },
  {
   "cell_type": "markdown",
   "metadata": {
    "id": "SqCsgHxiKu8j"
   },
   "source": [
    "### <font color='blue'>1. X_train, X_valid 값을 1,0 사이의 값으로 스케일링 하세요.</font>"
   ]
  },
  {
   "cell_type": "code",
   "execution_count": 21,
   "metadata": {
    "id": "HlwzqwefKu8j"
   },
   "outputs": [],
   "source": [
    "from sklearn.preprocessing import MinMaxScaler\n",
    "\n",
    "scaler = MinMaxScaler()\n",
    "scaler.fit(X_train)\n",
    "X_train = scaler.transform(X_train)\n",
    "X_valid = scaler.transform(X_valid)"
   ]
  },
  {
   "cell_type": "markdown",
   "metadata": {
    "id": "qeJNY_B3Ku8k"
   },
   "source": [
    "### 모델 입력갯수, 출력갯수 확인"
   ]
  },
  {
   "cell_type": "code",
   "execution_count": 22,
   "metadata": {
    "colab": {
     "base_uri": "https://localhost:8080/"
    },
    "id": "Cf4SXnH9Ku8k",
    "outputId": "3015816d-86cb-4f1e-9e03-0fbca4fdb7b4"
   },
   "outputs": [
    {
     "data": {
      "text/plain": [
       "(4930, 30)"
      ]
     },
     "execution_count": 22,
     "metadata": {},
     "output_type": "execute_result"
    }
   ],
   "source": [
    "X_train.shape"
   ]
  },
  {
   "cell_type": "code",
   "execution_count": 23,
   "metadata": {
    "colab": {
     "base_uri": "https://localhost:8080/"
    },
    "id": "SZVMsZTLKu8k",
    "outputId": "980cedcb-0c7b-4909-ac07-f5794eba8953"
   },
   "outputs": [
    {
     "data": {
      "text/plain": [
       "(4930,)"
      ]
     },
     "execution_count": 23,
     "metadata": {},
     "output_type": "execute_result"
    }
   ],
   "source": [
    "y_train.shape"
   ]
  },
  {
   "cell_type": "markdown",
   "metadata": {
    "id": "spOGOLdWKu8k"
   },
   "source": [
    "### <font color='blue'>2. 딥러닝 심층신경망모델(DNN)로 통신사이탈고객을 예측하는 분류기를 만드세요.<br>검증정확도(val_acc)가 80% 이상이 나오도록 하이퍼 파라미터를 설정하세요.<br>그리고, 검증 정확도가 가장 높은 모델을 파일명 best_model.h5로 저장하세요.</font>"
   ]
  },
  {
   "cell_type": "code",
   "execution_count": 24,
   "metadata": {
    "id": "kB0tNJLPKu8k"
   },
   "outputs": [
    {
     "name": "stdout",
     "output_type": "stream",
     "text": [
      "Epoch 1/50\n",
      "493/493 [==============================] - 1s 2ms/step - loss: 0.4937 - acc: 0.7546 - val_loss: 0.4209 - val_acc: 0.7984\n",
      "Epoch 2/50\n",
      "493/493 [==============================] - 1s 2ms/step - loss: 0.4491 - acc: 0.7923 - val_loss: 0.4178 - val_acc: 0.7984\n",
      "Epoch 3/50\n",
      "493/493 [==============================] - 1s 2ms/step - loss: 0.4441 - acc: 0.7970 - val_loss: 0.4182 - val_acc: 0.8022\n",
      "Epoch 4/50\n",
      "493/493 [==============================] - 1s 2ms/step - loss: 0.4378 - acc: 0.7951 - val_loss: 0.4173 - val_acc: 0.7989\n",
      "Epoch 5/50\n",
      "493/493 [==============================] - 1s 2ms/step - loss: 0.4373 - acc: 0.7963 - val_loss: 0.4174 - val_acc: 0.8012\n",
      "Epoch 6/50\n",
      "493/493 [==============================] - 1s 2ms/step - loss: 0.4322 - acc: 0.8012 - val_loss: 0.4200 - val_acc: 0.7951\n",
      "Epoch 7/50\n",
      "493/493 [==============================] - 1s 2ms/step - loss: 0.4265 - acc: 0.7982 - val_loss: 0.4204 - val_acc: 0.8017\n",
      "Epoch 8/50\n",
      "493/493 [==============================] - 1s 2ms/step - loss: 0.4299 - acc: 0.8010 - val_loss: 0.4178 - val_acc: 0.8055\n",
      "Epoch 9/50\n",
      "493/493 [==============================] - 1s 2ms/step - loss: 0.4252 - acc: 0.8012 - val_loss: 0.4165 - val_acc: 0.8060\n",
      "Epoch 10/50\n",
      "493/493 [==============================] - 1s 2ms/step - loss: 0.4204 - acc: 0.8053 - val_loss: 0.4153 - val_acc: 0.8045\n",
      "Epoch 11/50\n",
      "493/493 [==============================] - 1s 2ms/step - loss: 0.4161 - acc: 0.8063 - val_loss: 0.4171 - val_acc: 0.8079\n",
      "Epoch 12/50\n",
      "493/493 [==============================] - 1s 2ms/step - loss: 0.4158 - acc: 0.8065 - val_loss: 0.4177 - val_acc: 0.8036\n",
      "Epoch 13/50\n",
      "493/493 [==============================] - 1s 2ms/step - loss: 0.4122 - acc: 0.8053 - val_loss: 0.4229 - val_acc: 0.8055\n",
      "Epoch 14/50\n",
      "493/493 [==============================] - 1s 2ms/step - loss: 0.4099 - acc: 0.8108 - val_loss: 0.4271 - val_acc: 0.7974\n",
      "Epoch 15/50\n",
      "493/493 [==============================] - 1s 2ms/step - loss: 0.4084 - acc: 0.8079 - val_loss: 0.4294 - val_acc: 0.8055\n",
      "Epoch 16/50\n",
      "493/493 [==============================] - 1s 2ms/step - loss: 0.4044 - acc: 0.8099 - val_loss: 0.4353 - val_acc: 0.7889\n",
      "Epoch 00016: early stopping\n"
     ]
    }
   ],
   "source": [
    "import tensorflow as tf\n",
    "from tensorflow.keras.models import Sequential\n",
    "from tensorflow.keras.layers import Dense, Activation, Dropout\n",
    "from tensorflow.keras.callbacks import EarlyStopping, ModelCheckpoint\n",
    "\n",
    "epochs=50\n",
    "batch_size=10\n",
    "\n",
    "model = Sequential()\n",
    "model.add(Dense(128, activation='relu', input_shape=(30,)))\n",
    "model.add(Dropout(0.3))\n",
    "model.add(Dense(64, activation='relu'))\n",
    "model.add(Dropout(0.3))\n",
    "model.add(Dense(64, activation='relu'))\n",
    "model.add(Dropout(0.3))\n",
    "model.add(Dense(32, activation='relu'))\n",
    "model.add(Dropout(0.3))\n",
    "model.add(Dense(1, activation='sigmoid'))\n",
    "\n",
    "model.compile(optimizer='adam',  loss='binary_crossentropy',  metrics=['acc']) \n",
    "\n",
    "es = EarlyStopping(monitor='val_acc', mode='max', verbose=1, patience=5)\n",
    "mc = ModelCheckpoint('best_model.h5', monitor='val_acc', mode='max', save_best_only=True)\n",
    "\n",
    "history = model.fit(x=X_train, y=y_train, \n",
    "                    epochs=epochs , \n",
    "                    batch_size=batch_size,\n",
    "                    validation_data=(X_valid, y_valid), \n",
    "                    callbacks=[es, mc],\n",
    "                    verbose=1)          "
   ]
  },
  {
   "cell_type": "markdown",
   "metadata": {
    "id": "GXJFTfrZKu8k"
   },
   "source": [
    "### <font color='blue'>3. 학습 정확도, 학습손실, 검증 정확도, 검증손실을 그래프로 표시하세요.</font>"
   ]
  },
  {
   "cell_type": "code",
   "execution_count": 25,
   "metadata": {
    "id": "-togVAJGKu8k"
   },
   "outputs": [
    {
     "data": {
      "image/png": "[encoded data removed]",
      "text/plain": [
       "<Figure size 432x288 with 1 Axes>"
      ]
     },
     "metadata": {
      "needs_background": "light"
     },
     "output_type": "display_data"
    }
   ],
   "source": [
    "import matplotlib.pyplot as plt\n",
    "\n",
    "plt.plot(history.history['acc'])\n",
    "plt.plot(history.history['val_acc'])\n",
    "plt.title('Accuracy')\n",
    "plt.xlabel('Epochs')\n",
    "plt.ylabel('Acc')\n",
    "plt.legend(['acc', 'val_acc'])\n",
    "plt.show()"
   ]
  },
  {
   "cell_type": "code",
   "execution_count": null,
   "metadata": {},
   "outputs": [],
   "source": []
  }
 ],
 "metadata": {
  "colab": {
   "collapsed_sections": [],
   "name": "ai_modeling.ipynb",
   "provenance": []
  },
  "kernelspec": {
   "display_name": "Python 3",
   "language": "python",
   "name": "python3"
  },
  "language_info": {
   "codemirror_mode": {
    "name": "ipython",
    "version": 3
   },
   "file_extension": ".py",
   "mimetype": "text/x-python",
   "name": "python",
   "nbconvert_exporter": "python",
   "pygments_lexer": "ipython3",
   "version": "3.7.9"
  }
 },
 "nbformat": 4,
 "nbformat_minor": 4
}
