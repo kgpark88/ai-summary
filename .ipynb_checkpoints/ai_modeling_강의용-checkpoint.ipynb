{
 "cells": [
  {
   "cell_type": "markdown",
   "metadata": {},
   "source": [
    "# 고객 해지 예측 모델링 절차\n",
    "#### 1. KT Dataset 가져오기 (완료)\n",
    "#### 2. Jupyter Lab 노트북 파일 생성 (완료)\n",
    "#### 3. 데이터 로드하기\n",
    "#### 4. 데이터 구성 확인 및 결측치 처리, 불필요 컬럼(Feature)을 데이터셋에서 제외\n",
    "#### 5. 카테고리형 데이터를 수치형으로 변환\n",
    "#### 6. 정규화(MinMaxScaling)\n",
    "#### 7.  Train, Test 데이터셋 분할하기\n",
    "#### 8. 머신러닝 모델 구현\n",
    "#### 9. 딥러닝 심층신경망 모델 구현\n",
    "#### 10. 모델 평가하기"
   ]
  },
  {
   "cell_type": "markdown",
   "metadata": {},
   "source": [
    "### seaborn 라이브러리 설치"
   ]
  },
  {
   "cell_type": "code",
   "execution_count": 127,
   "metadata": {},
   "outputs": [
    {
     "name": "stdout",
     "output_type": "stream",
     "text": [
      "Requirement already satisfied: seaborn in c:\\users\\danny\\.conda\\envs\\tfenv\\lib\\site-packages (0.11.0)\n",
      "Requirement already satisfied: pandas>=0.23 in c:\\users\\danny\\.conda\\envs\\tfenv\\lib\\site-packages (from seaborn) (1.1.2)\n",
      "Requirement already satisfied: scipy>=1.0 in c:\\users\\danny\\.conda\\envs\\tfenv\\lib\\site-packages (from seaborn) (1.5.2)\n",
      "Requirement already satisfied: matplotlib>=2.2 in c:\\users\\danny\\.conda\\envs\\tfenv\\lib\\site-packages (from seaborn) (3.3.1)\n",
      "Requirement already satisfied: numpy>=1.15 in c:\\users\\danny\\.conda\\envs\\tfenv\\lib\\site-packages (from seaborn) (1.19.2)\n",
      "Requirement already satisfied: python-dateutil>=2.7.3 in c:\\users\\danny\\.conda\\envs\\tfenv\\lib\\site-packages (from pandas>=0.23->seaborn) (2.8.1)\n",
      "Requirement already satisfied: pytz>=2017.2 in c:\\users\\danny\\.conda\\envs\\tfenv\\lib\\site-packages (from pandas>=0.23->seaborn) (2020.1)\n",
      "Requirement already satisfied: certifi>=2020.06.20 in c:\\users\\danny\\.conda\\envs\\tfenv\\lib\\site-packages (from matplotlib>=2.2->seaborn) (2020.6.20)\n",
      "Requirement already satisfied: kiwisolver>=1.0.1 in c:\\users\\danny\\.conda\\envs\\tfenv\\lib\\site-packages (from matplotlib>=2.2->seaborn) (1.2.0)\n",
      "Requirement already satisfied: pillow>=6.2.0 in c:\\users\\danny\\.conda\\envs\\tfenv\\lib\\site-packages (from matplotlib>=2.2->seaborn) (7.2.0)\n",
      "Requirement already satisfied: pyparsing!=2.0.4,!=2.1.2,!=2.1.6,>=2.0.3 in c:\\users\\danny\\.conda\\envs\\tfenv\\lib\\site-packages (from matplotlib>=2.2->seaborn) (2.4.7)\n",
      "Requirement already satisfied: cycler>=0.10 in c:\\users\\danny\\.conda\\envs\\tfenv\\lib\\site-packages (from matplotlib>=2.2->seaborn) (0.10.0)\n",
      "Requirement already satisfied: six>=1.5 in c:\\users\\danny\\.conda\\envs\\tfenv\\lib\\site-packages (from python-dateutil>=2.7.3->pandas>=0.23->seaborn) (1.15.0)\n"
     ]
    }
   ],
   "source": [
    "!pip install seaborn"
   ]
  },
  {
   "cell_type": "markdown",
   "metadata": {},
   "source": [
    "### 라이브러리 임포트(numpy, pandas, matplotlib, seaborn)"
   ]
  },
  {
   "cell_type": "code",
   "execution_count": 128,
   "metadata": {},
   "outputs": [],
   "source": [
    "import numpy as np\n",
    "import pandas as pd\n",
    "import matplotlib.pyplot as plt\n",
    "import seaborn as sns\n",
    "%matplotlib inline"
   ]
  },
  {
   "cell_type": "markdown",
   "metadata": {},
   "source": [
    "### AIDU 라이브러리 임포트 및 AIDU 연동 변수 설정"
   ]
  },
  {
   "cell_type": "code",
   "execution_count": 129,
   "metadata": {},
   "outputs": [],
   "source": [
    "from aicentro.session import Session\n",
    "from aicentro.framework.keras import Keras as AiduFrm\n",
    "\n",
    "aidu_session = Session(verify=False)\n",
    "aidu_framework = AiduFrm(session=aidu_session)"
   ]
  },
  {
   "cell_type": "markdown",
   "metadata": {},
   "source": [
    "#  \n",
    "# 3. 데이터 로드"
   ]
  },
  {
   "cell_type": "code",
   "execution_count": 130,
   "metadata": {},
   "outputs": [],
   "source": [
    "df = pd.read_csv(aidu_framework.config.data_dir + '/voc_rcp_test.csv')"
   ]
  },
  {
   "cell_type": "code",
   "execution_count": 131,
   "metadata": {},
   "outputs": [
    {
     "data": {
      "text/html": [
       "<div>\n",
       "<style scoped>\n",
       "    .dataframe tbody tr th:only-of-type {\n",
       "        vertical-align: middle;\n",
       "    }\n",
       "\n",
       "    .dataframe tbody tr th {\n",
       "        vertical-align: top;\n",
       "    }\n",
       "\n",
       "    .dataframe thead th {\n",
       "        text-align: right;\n",
       "    }\n",
       "</style>\n",
       "<table border=\"1\" class=\"dataframe\">\n",
       "  <thead>\n",
       "    <tr style=\"text-align: right;\">\n",
       "      <th></th>\n",
       "      <th>voc_trt_perd_itg_cd</th>\n",
       "      <th>voc_prod_sbt_id</th>\n",
       "      <th>voc_wjt_sorc_id</th>\n",
       "      <th>voc_type_itg_cd</th>\n",
       "      <th>voc_sttus_itg_cd</th>\n",
       "      <th>voc_trt_reslt_itg_cd</th>\n",
       "      <th>cust_clas_itg_cd</th>\n",
       "      <th>bprod_sbt_id</th>\n",
       "      <th>age_itg_cd</th>\n",
       "      <th>cont_sttus_itg_cd</th>\n",
       "      <th>...</th>\n",
       "      <th>voc_dupl_tmscnt</th>\n",
       "      <th>oos_cause_type_itg_cd</th>\n",
       "      <th>voc_trt_need_time_itg_cd</th>\n",
       "      <th>engt_cperd_type_itg_cd</th>\n",
       "      <th>engt_tgt_div_itg_cd</th>\n",
       "      <th>cont_fns_pam_date</th>\n",
       "      <th>voc_mis_pbls_yn</th>\n",
       "      <th>fclt_oos_yn</th>\n",
       "      <th>cust_snsry_base_conf_need_time</th>\n",
       "      <th>trm_yn</th>\n",
       "    </tr>\n",
       "  </thead>\n",
       "  <tbody>\n",
       "    <tr>\n",
       "      <th>0</th>\n",
       "      <td>_</td>\n",
       "      <td>1000665328</td>\n",
       "      <td>2153</td>\n",
       "      <td>10009</td>\n",
       "      <td>10002</td>\n",
       "      <td>_</td>\n",
       "      <td>F</td>\n",
       "      <td>1000001126</td>\n",
       "      <td>036</td>\n",
       "      <td>10001</td>\n",
       "      <td>...</td>\n",
       "      <td>0.0</td>\n",
       "      <td>_</td>\n",
       "      <td>10001</td>\n",
       "      <td>_</td>\n",
       "      <td>_</td>\n",
       "      <td>99991231</td>\n",
       "      <td>N</td>\n",
       "      <td>_</td>\n",
       "      <td>0.0</td>\n",
       "      <td>N</td>\n",
       "    </tr>\n",
       "    <tr>\n",
       "      <th>1</th>\n",
       "      <td>_</td>\n",
       "      <td>1001028714</td>\n",
       "      <td>3311</td>\n",
       "      <td>10009</td>\n",
       "      <td>10002</td>\n",
       "      <td>10081</td>\n",
       "      <td>G</td>\n",
       "      <td>1000852226</td>\n",
       "      <td>032</td>\n",
       "      <td>10001</td>\n",
       "      <td>...</td>\n",
       "      <td>0.0</td>\n",
       "      <td>_</td>\n",
       "      <td>10001</td>\n",
       "      <td>15098</td>\n",
       "      <td>15244</td>\n",
       "      <td>20220319</td>\n",
       "      <td>N</td>\n",
       "      <td>_</td>\n",
       "      <td>0.0</td>\n",
       "      <td>N</td>\n",
       "    </tr>\n",
       "    <tr>\n",
       "      <th>2</th>\n",
       "      <td>_</td>\n",
       "      <td>1001028567</td>\n",
       "      <td>1575</td>\n",
       "      <td>10009</td>\n",
       "      <td>10002</td>\n",
       "      <td>_</td>\n",
       "      <td>G</td>\n",
       "      <td>1000851875</td>\n",
       "      <td>052</td>\n",
       "      <td>10001</td>\n",
       "      <td>...</td>\n",
       "      <td>0.0</td>\n",
       "      <td>10268</td>\n",
       "      <td>10001</td>\n",
       "      <td>15097</td>\n",
       "      <td>15244</td>\n",
       "      <td>20220508</td>\n",
       "      <td>N</td>\n",
       "      <td>N</td>\n",
       "      <td>0.0</td>\n",
       "      <td>N</td>\n",
       "    </tr>\n",
       "    <tr>\n",
       "      <th>3</th>\n",
       "      <td>10000</td>\n",
       "      <td>1000665328</td>\n",
       "      <td>3546</td>\n",
       "      <td>10009</td>\n",
       "      <td>10002</td>\n",
       "      <td>_</td>\n",
       "      <td>_</td>\n",
       "      <td>1000001126</td>\n",
       "      <td>_</td>\n",
       "      <td>10001</td>\n",
       "      <td>...</td>\n",
       "      <td>0.0</td>\n",
       "      <td>_</td>\n",
       "      <td>10001</td>\n",
       "      <td>_</td>\n",
       "      <td>_</td>\n",
       "      <td>99991231</td>\n",
       "      <td>N</td>\n",
       "      <td>_</td>\n",
       "      <td>0.0</td>\n",
       "      <td>N</td>\n",
       "    </tr>\n",
       "    <tr>\n",
       "      <th>4</th>\n",
       "      <td>_</td>\n",
       "      <td>1000779276</td>\n",
       "      <td>3086</td>\n",
       "      <td>10009</td>\n",
       "      <td>10002</td>\n",
       "      <td>_</td>\n",
       "      <td>G</td>\n",
       "      <td>1000764639</td>\n",
       "      <td>050</td>\n",
       "      <td>10001</td>\n",
       "      <td>...</td>\n",
       "      <td>0.0</td>\n",
       "      <td>_</td>\n",
       "      <td>10001</td>\n",
       "      <td>_</td>\n",
       "      <td>_</td>\n",
       "      <td>99991231</td>\n",
       "      <td>N</td>\n",
       "      <td>_</td>\n",
       "      <td>0.0</td>\n",
       "      <td>N</td>\n",
       "    </tr>\n",
       "  </tbody>\n",
       "</table>\n",
       "<p>5 rows × 24 columns</p>\n",
       "</div>"
      ],
      "text/plain": [
       "  voc_trt_perd_itg_cd  voc_prod_sbt_id  voc_wjt_sorc_id  voc_type_itg_cd  \\\n",
       "0                   _       1000665328             2153            10009   \n",
       "1                   _       1001028714             3311            10009   \n",
       "2                   _       1001028567             1575            10009   \n",
       "3               10000       1000665328             3546            10009   \n",
       "4                   _       1000779276             3086            10009   \n",
       "\n",
       "   voc_sttus_itg_cd voc_trt_reslt_itg_cd cust_clas_itg_cd  bprod_sbt_id  \\\n",
       "0             10002                    _                F    1000001126   \n",
       "1             10002                10081                G    1000852226   \n",
       "2             10002                    _                G    1000851875   \n",
       "3             10002                    _                _    1000001126   \n",
       "4             10002                    _                G    1000764639   \n",
       "\n",
       "  age_itg_cd cont_sttus_itg_cd  ...  voc_dupl_tmscnt  oos_cause_type_itg_cd  \\\n",
       "0        036             10001  ...              0.0                      _   \n",
       "1        032             10001  ...              0.0                      _   \n",
       "2        052             10001  ...              0.0                  10268   \n",
       "3          _             10001  ...              0.0                      _   \n",
       "4        050             10001  ...              0.0                      _   \n",
       "\n",
       "  voc_trt_need_time_itg_cd  engt_cperd_type_itg_cd  engt_tgt_div_itg_cd  \\\n",
       "0                    10001                       _                    _   \n",
       "1                    10001                   15098                15244   \n",
       "2                    10001                   15097                15244   \n",
       "3                    10001                       _                    _   \n",
       "4                    10001                       _                    _   \n",
       "\n",
       "  cont_fns_pam_date  voc_mis_pbls_yn fclt_oos_yn  \\\n",
       "0          99991231                N           _   \n",
       "1          20220319                N           _   \n",
       "2          20220508                N           N   \n",
       "3          99991231                N           _   \n",
       "4          99991231                N           _   \n",
       "\n",
       "  cust_snsry_base_conf_need_time  trm_yn  \n",
       "0                            0.0       N  \n",
       "1                            0.0       N  \n",
       "2                            0.0       N  \n",
       "3                            0.0       N  \n",
       "4                            0.0       N  \n",
       "\n",
       "[5 rows x 24 columns]"
      ]
     },
     "execution_count": 131,
     "metadata": {},
     "output_type": "execute_result"
    }
   ],
   "source": [
    "df.head()"
   ]
  },
  {
   "cell_type": "code",
   "execution_count": 132,
   "metadata": {},
   "outputs": [
    {
     "data": {
      "text/html": [
       "<div>\n",
       "<style scoped>\n",
       "    .dataframe tbody tr th:only-of-type {\n",
       "        vertical-align: middle;\n",
       "    }\n",
       "\n",
       "    .dataframe tbody tr th {\n",
       "        vertical-align: top;\n",
       "    }\n",
       "\n",
       "    .dataframe thead th {\n",
       "        text-align: right;\n",
       "    }\n",
       "</style>\n",
       "<table border=\"1\" class=\"dataframe\">\n",
       "  <thead>\n",
       "    <tr style=\"text-align: right;\">\n",
       "      <th></th>\n",
       "      <th>voc_trt_perd_itg_cd</th>\n",
       "      <th>voc_prod_sbt_id</th>\n",
       "      <th>voc_wjt_sorc_id</th>\n",
       "      <th>voc_type_itg_cd</th>\n",
       "      <th>voc_sttus_itg_cd</th>\n",
       "      <th>voc_trt_reslt_itg_cd</th>\n",
       "      <th>cust_clas_itg_cd</th>\n",
       "      <th>bprod_sbt_id</th>\n",
       "      <th>age_itg_cd</th>\n",
       "      <th>cont_sttus_itg_cd</th>\n",
       "      <th>...</th>\n",
       "      <th>voc_dupl_tmscnt</th>\n",
       "      <th>oos_cause_type_itg_cd</th>\n",
       "      <th>voc_trt_need_time_itg_cd</th>\n",
       "      <th>engt_cperd_type_itg_cd</th>\n",
       "      <th>engt_tgt_div_itg_cd</th>\n",
       "      <th>cont_fns_pam_date</th>\n",
       "      <th>voc_mis_pbls_yn</th>\n",
       "      <th>fclt_oos_yn</th>\n",
       "      <th>cust_snsry_base_conf_need_time</th>\n",
       "      <th>trm_yn</th>\n",
       "    </tr>\n",
       "  </thead>\n",
       "  <tbody>\n",
       "    <tr>\n",
       "      <th>1003</th>\n",
       "      <td>_</td>\n",
       "      <td>1001027746</td>\n",
       "      <td>329</td>\n",
       "      <td>10009</td>\n",
       "      <td>10002</td>\n",
       "      <td>_</td>\n",
       "      <td>L</td>\n",
       "      <td>1000702598</td>\n",
       "      <td>031</td>\n",
       "      <td>10001</td>\n",
       "      <td>...</td>\n",
       "      <td>0.0</td>\n",
       "      <td>_</td>\n",
       "      <td>10001</td>\n",
       "      <td>15097</td>\n",
       "      <td>15244</td>\n",
       "      <td>20230305</td>\n",
       "      <td>N</td>\n",
       "      <td>_</td>\n",
       "      <td>0.0</td>\n",
       "      <td>N</td>\n",
       "    </tr>\n",
       "    <tr>\n",
       "      <th>1004</th>\n",
       "      <td>_</td>\n",
       "      <td>1000787867</td>\n",
       "      <td>2153</td>\n",
       "      <td>10009</td>\n",
       "      <td>10002</td>\n",
       "      <td>_</td>\n",
       "      <td>_</td>\n",
       "      <td>-998</td>\n",
       "      <td>_</td>\n",
       "      <td>_</td>\n",
       "      <td>...</td>\n",
       "      <td>0.0</td>\n",
       "      <td>_</td>\n",
       "      <td>10001</td>\n",
       "      <td>_</td>\n",
       "      <td>_</td>\n",
       "      <td>99991231</td>\n",
       "      <td>N</td>\n",
       "      <td>_</td>\n",
       "      <td>0.0</td>\n",
       "      <td>N</td>\n",
       "    </tr>\n",
       "    <tr>\n",
       "      <th>1005</th>\n",
       "      <td>10000</td>\n",
       "      <td>1001027747</td>\n",
       "      <td>2153</td>\n",
       "      <td>10009</td>\n",
       "      <td>10002</td>\n",
       "      <td>_</td>\n",
       "      <td>_</td>\n",
       "      <td>-998</td>\n",
       "      <td>_</td>\n",
       "      <td>_</td>\n",
       "      <td>...</td>\n",
       "      <td>0.0</td>\n",
       "      <td>_</td>\n",
       "      <td>10001</td>\n",
       "      <td>_</td>\n",
       "      <td>_</td>\n",
       "      <td>99991231</td>\n",
       "      <td>N</td>\n",
       "      <td>_</td>\n",
       "      <td>0.0</td>\n",
       "      <td>N</td>\n",
       "    </tr>\n",
       "    <tr>\n",
       "      <th>1006</th>\n",
       "      <td>10002</td>\n",
       "      <td>1001027747</td>\n",
       "      <td>329</td>\n",
       "      <td>10011</td>\n",
       "      <td>10002</td>\n",
       "      <td>_</td>\n",
       "      <td>J</td>\n",
       "      <td>1000737200</td>\n",
       "      <td>_</td>\n",
       "      <td>10001</td>\n",
       "      <td>...</td>\n",
       "      <td>0.0</td>\n",
       "      <td>_</td>\n",
       "      <td>10022</td>\n",
       "      <td>15097</td>\n",
       "      <td>15249</td>\n",
       "      <td>20190926</td>\n",
       "      <td>N</td>\n",
       "      <td>_</td>\n",
       "      <td>0.0</td>\n",
       "      <td>N</td>\n",
       "    </tr>\n",
       "    <tr>\n",
       "      <th>1007</th>\n",
       "      <td>10000</td>\n",
       "      <td>1001028565</td>\n",
       "      <td>294</td>\n",
       "      <td>10009</td>\n",
       "      <td>10002</td>\n",
       "      <td>_</td>\n",
       "      <td>G</td>\n",
       "      <td>1000851873</td>\n",
       "      <td>037</td>\n",
       "      <td>10001</td>\n",
       "      <td>...</td>\n",
       "      <td>0.0</td>\n",
       "      <td>_</td>\n",
       "      <td>10001</td>\n",
       "      <td>15097</td>\n",
       "      <td>15244</td>\n",
       "      <td>20220403</td>\n",
       "      <td>N</td>\n",
       "      <td>_</td>\n",
       "      <td>0.0</td>\n",
       "      <td>N</td>\n",
       "    </tr>\n",
       "  </tbody>\n",
       "</table>\n",
       "<p>5 rows × 24 columns</p>\n",
       "</div>"
      ],
      "text/plain": [
       "     voc_trt_perd_itg_cd  voc_prod_sbt_id  voc_wjt_sorc_id  voc_type_itg_cd  \\\n",
       "1003                   _       1001027746              329            10009   \n",
       "1004                   _       1000787867             2153            10009   \n",
       "1005               10000       1001027747             2153            10009   \n",
       "1006               10002       1001027747              329            10011   \n",
       "1007               10000       1001028565              294            10009   \n",
       "\n",
       "      voc_sttus_itg_cd voc_trt_reslt_itg_cd cust_clas_itg_cd  bprod_sbt_id  \\\n",
       "1003             10002                    _                L    1000702598   \n",
       "1004             10002                    _                _          -998   \n",
       "1005             10002                    _                _          -998   \n",
       "1006             10002                    _                J    1000737200   \n",
       "1007             10002                    _                G    1000851873   \n",
       "\n",
       "     age_itg_cd cont_sttus_itg_cd  ...  voc_dupl_tmscnt  \\\n",
       "1003        031             10001  ...              0.0   \n",
       "1004          _                 _  ...              0.0   \n",
       "1005          _                 _  ...              0.0   \n",
       "1006          _             10001  ...              0.0   \n",
       "1007        037             10001  ...              0.0   \n",
       "\n",
       "      oos_cause_type_itg_cd voc_trt_need_time_itg_cd  engt_cperd_type_itg_cd  \\\n",
       "1003                      _                    10001                   15097   \n",
       "1004                      _                    10001                       _   \n",
       "1005                      _                    10001                       _   \n",
       "1006                      _                    10022                   15097   \n",
       "1007                      _                    10001                   15097   \n",
       "\n",
       "      engt_tgt_div_itg_cd cont_fns_pam_date  voc_mis_pbls_yn fclt_oos_yn  \\\n",
       "1003                15244          20230305                N           _   \n",
       "1004                    _          99991231                N           _   \n",
       "1005                    _          99991231                N           _   \n",
       "1006                15249          20190926                N           _   \n",
       "1007                15244          20220403                N           _   \n",
       "\n",
       "     cust_snsry_base_conf_need_time  trm_yn  \n",
       "1003                            0.0       N  \n",
       "1004                            0.0       N  \n",
       "1005                            0.0       N  \n",
       "1006                            0.0       N  \n",
       "1007                            0.0       N  \n",
       "\n",
       "[5 rows x 24 columns]"
      ]
     },
     "execution_count": 132,
     "metadata": {},
     "output_type": "execute_result"
    }
   ],
   "source": [
    "df.tail()"
   ]
  },
  {
   "cell_type": "markdown",
   "metadata": {},
   "source": [
    "#  \n",
    "# 4. 데이터 구성 확인 및 결측치 처리"
   ]
  },
  {
   "cell_type": "markdown",
   "metadata": {},
   "source": [
    "데이터프레임 정보 확인"
   ]
  },
  {
   "cell_type": "code",
   "execution_count": 133,
   "metadata": {},
   "outputs": [
    {
     "name": "stdout",
     "output_type": "stream",
     "text": [
      "<class 'pandas.core.frame.DataFrame'>\n",
      "RangeIndex: 1008 entries, 0 to 1007\n",
      "Data columns (total 24 columns):\n",
      " #   Column                          Non-Null Count  Dtype  \n",
      "---  ------                          --------------  -----  \n",
      " 0   voc_trt_perd_itg_cd             1008 non-null   object \n",
      " 1   voc_prod_sbt_id                 1008 non-null   int64  \n",
      " 2   voc_wjt_sorc_id                 1008 non-null   int64  \n",
      " 3   voc_type_itg_cd                 1008 non-null   int64  \n",
      " 4   voc_sttus_itg_cd                1008 non-null   int64  \n",
      " 5   voc_trt_reslt_itg_cd            1008 non-null   object \n",
      " 6   cust_clas_itg_cd                1008 non-null   object \n",
      " 7   bprod_sbt_id                    1008 non-null   int64  \n",
      " 8   age_itg_cd                      1008 non-null   object \n",
      " 9   cont_sttus_itg_cd               1008 non-null   object \n",
      " 10  new_date                        1008 non-null   int64  \n",
      " 11  opn_nfl_chg_date                1008 non-null   int64  \n",
      " 12  cust_dtl_ctg_itg_cd             1008 non-null   object \n",
      " 13  voc_trt_degr_div_itg_cd         1008 non-null   int64  \n",
      " 14  voc_dupl_tmscnt                 1008 non-null   float64\n",
      " 15  oos_cause_type_itg_cd           1008 non-null   object \n",
      " 16  voc_trt_need_time_itg_cd        1008 non-null   int64  \n",
      " 17  engt_cperd_type_itg_cd          1008 non-null   object \n",
      " 18  engt_tgt_div_itg_cd             1008 non-null   object \n",
      " 19  cont_fns_pam_date               1008 non-null   int64  \n",
      " 20  voc_mis_pbls_yn                 1008 non-null   object \n",
      " 21  fclt_oos_yn                     1008 non-null   object \n",
      " 22  cust_snsry_base_conf_need_time  1008 non-null   float64\n",
      " 23  trm_yn                          1008 non-null   object \n",
      "dtypes: float64(2), int64(10), object(12)\n",
      "memory usage: 189.1+ KB\n"
     ]
    }
   ],
   "source": [
    "df.info()"
   ]
  },
  {
   "cell_type": "markdown",
   "metadata": {},
   "source": [
    "### 데이터프레임 인덱스 확인"
   ]
  },
  {
   "cell_type": "code",
   "execution_count": 134,
   "metadata": {},
   "outputs": [
    {
     "data": {
      "text/plain": [
       "RangeIndex(start=0, stop=1008, step=1)"
      ]
     },
     "execution_count": 134,
     "metadata": {},
     "output_type": "execute_result"
    }
   ],
   "source": [
    "df.index"
   ]
  },
  {
   "cell_type": "markdown",
   "metadata": {},
   "source": [
    "### 데이터프레임 컬럼 확인"
   ]
  },
  {
   "cell_type": "code",
   "execution_count": 135,
   "metadata": {},
   "outputs": [
    {
     "data": {
      "text/plain": [
       "Index(['voc_trt_perd_itg_cd', 'voc_prod_sbt_id', 'voc_wjt_sorc_id',\n",
       "       'voc_type_itg_cd', 'voc_sttus_itg_cd', 'voc_trt_reslt_itg_cd',\n",
       "       'cust_clas_itg_cd', 'bprod_sbt_id', 'age_itg_cd', 'cont_sttus_itg_cd',\n",
       "       'new_date', 'opn_nfl_chg_date', 'cust_dtl_ctg_itg_cd',\n",
       "       'voc_trt_degr_div_itg_cd', 'voc_dupl_tmscnt', 'oos_cause_type_itg_cd',\n",
       "       'voc_trt_need_time_itg_cd', 'engt_cperd_type_itg_cd',\n",
       "       'engt_tgt_div_itg_cd', 'cont_fns_pam_date', 'voc_mis_pbls_yn',\n",
       "       'fclt_oos_yn', 'cust_snsry_base_conf_need_time', 'trm_yn'],\n",
       "      dtype='object')"
      ]
     },
     "execution_count": 135,
     "metadata": {},
     "output_type": "execute_result"
    }
   ],
   "source": [
    "df.columns"
   ]
  },
  {
   "cell_type": "markdown",
   "metadata": {},
   "source": [
    "### 데이터프레임  값(value) 확인"
   ]
  },
  {
   "cell_type": "code",
   "execution_count": 136,
   "metadata": {},
   "outputs": [
    {
     "data": {
      "text/plain": [
       "array([['_', 1000665328, 2153, ..., '_', 0.0, 'N'],\n",
       "       ['_', 1001028714, 3311, ..., '_', 0.0, 'N'],\n",
       "       ['_', 1001028567, 1575, ..., 'N', 0.0, 'N'],\n",
       "       ...,\n",
       "       ['10000', 1001027747, 2153, ..., '_', 0.0, 'N'],\n",
       "       ['10002', 1001027747, 329, ..., '_', 0.0, 'N'],\n",
       "       ['10000', 1001028565, 294, ..., '_', 0.0, 'N']], dtype=object)"
      ]
     },
     "execution_count": 136,
     "metadata": {},
     "output_type": "execute_result"
    }
   ],
   "source": [
    "df.values"
   ]
  },
  {
   "cell_type": "markdown",
   "metadata": {},
   "source": [
    "### 데이터프레임의  계산 가능한 값들에 대한 통계치 확인"
   ]
  },
  {
   "cell_type": "code",
   "execution_count": 137,
   "metadata": {},
   "outputs": [
    {
     "data": {
      "text/html": [
       "<div>\n",
       "<style scoped>\n",
       "    .dataframe tbody tr th:only-of-type {\n",
       "        vertical-align: middle;\n",
       "    }\n",
       "\n",
       "    .dataframe tbody tr th {\n",
       "        vertical-align: top;\n",
       "    }\n",
       "\n",
       "    .dataframe thead th {\n",
       "        text-align: right;\n",
       "    }\n",
       "</style>\n",
       "<table border=\"1\" class=\"dataframe\">\n",
       "  <thead>\n",
       "    <tr style=\"text-align: right;\">\n",
       "      <th></th>\n",
       "      <th>voc_prod_sbt_id</th>\n",
       "      <th>voc_wjt_sorc_id</th>\n",
       "      <th>voc_type_itg_cd</th>\n",
       "      <th>voc_sttus_itg_cd</th>\n",
       "      <th>bprod_sbt_id</th>\n",
       "      <th>new_date</th>\n",
       "      <th>opn_nfl_chg_date</th>\n",
       "      <th>voc_trt_degr_div_itg_cd</th>\n",
       "      <th>voc_dupl_tmscnt</th>\n",
       "      <th>voc_trt_need_time_itg_cd</th>\n",
       "      <th>cont_fns_pam_date</th>\n",
       "      <th>cust_snsry_base_conf_need_time</th>\n",
       "    </tr>\n",
       "  </thead>\n",
       "  <tbody>\n",
       "    <tr>\n",
       "      <th>count</th>\n",
       "      <td>1.008000e+03</td>\n",
       "      <td>1008.000000</td>\n",
       "      <td>1008.000000</td>\n",
       "      <td>1008.000000</td>\n",
       "      <td>1.008000e+03</td>\n",
       "      <td>1.008000e+03</td>\n",
       "      <td>1.008000e+03</td>\n",
       "      <td>1008.000000</td>\n",
       "      <td>1008.000000</td>\n",
       "      <td>1008.000000</td>\n",
       "      <td>1.008000e+03</td>\n",
       "      <td>1008.000000</td>\n",
       "    </tr>\n",
       "    <tr>\n",
       "      <th>mean</th>\n",
       "      <td>9.890182e+08</td>\n",
       "      <td>1594.523810</td>\n",
       "      <td>10008.466270</td>\n",
       "      <td>10002.042659</td>\n",
       "      <td>8.726181e+08</td>\n",
       "      <td>1.723687e+07</td>\n",
       "      <td>1.723906e+07</td>\n",
       "      <td>20001.074405</td>\n",
       "      <td>0.006944</td>\n",
       "      <td>10002.669643</td>\n",
       "      <td>7.046557e+07</td>\n",
       "      <td>0.625000</td>\n",
       "    </tr>\n",
       "    <tr>\n",
       "      <th>std</th>\n",
       "      <td>1.086130e+08</td>\n",
       "      <td>1077.378766</td>\n",
       "      <td>1.671317</td>\n",
       "      <td>0.307415</td>\n",
       "      <td>3.344575e+08</td>\n",
       "      <td>7.065129e+06</td>\n",
       "      <td>7.066027e+06</td>\n",
       "      <td>0.262559</td>\n",
       "      <td>0.083085</td>\n",
       "      <td>6.610529</td>\n",
       "      <td>3.854319e+07</td>\n",
       "      <td>19.465097</td>\n",
       "    </tr>\n",
       "    <tr>\n",
       "      <th>min</th>\n",
       "      <td>-9.980000e+02</td>\n",
       "      <td>126.000000</td>\n",
       "      <td>10003.000000</td>\n",
       "      <td>10002.000000</td>\n",
       "      <td>-9.980000e+02</td>\n",
       "      <td>1.010100e+04</td>\n",
       "      <td>1.010100e+04</td>\n",
       "      <td>20001.000000</td>\n",
       "      <td>0.000000</td>\n",
       "      <td>10001.000000</td>\n",
       "      <td>2.005112e+07</td>\n",
       "      <td>0.000000</td>\n",
       "    </tr>\n",
       "    <tr>\n",
       "      <th>25%</th>\n",
       "      <td>1.000783e+09</td>\n",
       "      <td>371.000000</td>\n",
       "      <td>10009.000000</td>\n",
       "      <td>10002.000000</td>\n",
       "      <td>1.000002e+09</td>\n",
       "      <td>2.006100e+07</td>\n",
       "      <td>2.007079e+07</td>\n",
       "      <td>20001.000000</td>\n",
       "      <td>0.000000</td>\n",
       "      <td>10001.000000</td>\n",
       "      <td>2.022021e+07</td>\n",
       "      <td>0.000000</td>\n",
       "    </tr>\n",
       "    <tr>\n",
       "      <th>50%</th>\n",
       "      <td>1.001028e+09</td>\n",
       "      <td>2064.000000</td>\n",
       "      <td>10009.000000</td>\n",
       "      <td>10002.000000</td>\n",
       "      <td>1.000749e+09</td>\n",
       "      <td>2.014102e+07</td>\n",
       "      <td>2.015030e+07</td>\n",
       "      <td>20001.000000</td>\n",
       "      <td>0.000000</td>\n",
       "      <td>10001.000000</td>\n",
       "      <td>9.999123e+07</td>\n",
       "      <td>0.000000</td>\n",
       "    </tr>\n",
       "    <tr>\n",
       "      <th>75%</th>\n",
       "      <td>1.001037e+09</td>\n",
       "      <td>2153.000000</td>\n",
       "      <td>10009.000000</td>\n",
       "      <td>10002.000000</td>\n",
       "      <td>1.001044e+09</td>\n",
       "      <td>2.018015e+07</td>\n",
       "      <td>2.018033e+07</td>\n",
       "      <td>20001.000000</td>\n",
       "      <td>0.000000</td>\n",
       "      <td>10001.000000</td>\n",
       "      <td>9.999123e+07</td>\n",
       "      <td>0.000000</td>\n",
       "    </tr>\n",
       "    <tr>\n",
       "      <th>max</th>\n",
       "      <td>1.001079e+09</td>\n",
       "      <td>3856.000000</td>\n",
       "      <td>10011.000000</td>\n",
       "      <td>10005.000000</td>\n",
       "      <td>1.001078e+09</td>\n",
       "      <td>2.020041e+07</td>\n",
       "      <td>2.020041e+07</td>\n",
       "      <td>20002.000000</td>\n",
       "      <td>1.000000</td>\n",
       "      <td>10038.000000</td>\n",
       "      <td>9.999123e+07</td>\n",
       "      <td>618.000000</td>\n",
       "    </tr>\n",
       "  </tbody>\n",
       "</table>\n",
       "</div>"
      ],
      "text/plain": [
       "       voc_prod_sbt_id  voc_wjt_sorc_id  voc_type_itg_cd  voc_sttus_itg_cd  \\\n",
       "count     1.008000e+03      1008.000000      1008.000000       1008.000000   \n",
       "mean      9.890182e+08      1594.523810     10008.466270      10002.042659   \n",
       "std       1.086130e+08      1077.378766         1.671317          0.307415   \n",
       "min      -9.980000e+02       126.000000     10003.000000      10002.000000   \n",
       "25%       1.000783e+09       371.000000     10009.000000      10002.000000   \n",
       "50%       1.001028e+09      2064.000000     10009.000000      10002.000000   \n",
       "75%       1.001037e+09      2153.000000     10009.000000      10002.000000   \n",
       "max       1.001079e+09      3856.000000     10011.000000      10005.000000   \n",
       "\n",
       "       bprod_sbt_id      new_date  opn_nfl_chg_date  voc_trt_degr_div_itg_cd  \\\n",
       "count  1.008000e+03  1.008000e+03      1.008000e+03              1008.000000   \n",
       "mean   8.726181e+08  1.723687e+07      1.723906e+07             20001.074405   \n",
       "std    3.344575e+08  7.065129e+06      7.066027e+06                 0.262559   \n",
       "min   -9.980000e+02  1.010100e+04      1.010100e+04             20001.000000   \n",
       "25%    1.000002e+09  2.006100e+07      2.007079e+07             20001.000000   \n",
       "50%    1.000749e+09  2.014102e+07      2.015030e+07             20001.000000   \n",
       "75%    1.001044e+09  2.018015e+07      2.018033e+07             20001.000000   \n",
       "max    1.001078e+09  2.020041e+07      2.020041e+07             20002.000000   \n",
       "\n",
       "       voc_dupl_tmscnt  voc_trt_need_time_itg_cd  cont_fns_pam_date  \\\n",
       "count      1008.000000               1008.000000       1.008000e+03   \n",
       "mean          0.006944              10002.669643       7.046557e+07   \n",
       "std           0.083085                  6.610529       3.854319e+07   \n",
       "min           0.000000              10001.000000       2.005112e+07   \n",
       "25%           0.000000              10001.000000       2.022021e+07   \n",
       "50%           0.000000              10001.000000       9.999123e+07   \n",
       "75%           0.000000              10001.000000       9.999123e+07   \n",
       "max           1.000000              10038.000000       9.999123e+07   \n",
       "\n",
       "       cust_snsry_base_conf_need_time  \n",
       "count                     1008.000000  \n",
       "mean                         0.625000  \n",
       "std                         19.465097  \n",
       "min                          0.000000  \n",
       "25%                          0.000000  \n",
       "50%                          0.000000  \n",
       "75%                          0.000000  \n",
       "max                        618.000000  "
      ]
     },
     "execution_count": 137,
     "metadata": {},
     "output_type": "execute_result"
    }
   ],
   "source": [
    "df.describe()"
   ]
  },
  {
   "cell_type": "markdown",
   "metadata": {},
   "source": [
    "### 널(null)값 확인"
   ]
  },
  {
   "cell_type": "code",
   "execution_count": 138,
   "metadata": {},
   "outputs": [
    {
     "data": {
      "text/plain": [
       "voc_trt_perd_itg_cd               0\n",
       "voc_prod_sbt_id                   0\n",
       "voc_wjt_sorc_id                   0\n",
       "voc_type_itg_cd                   0\n",
       "voc_sttus_itg_cd                  0\n",
       "voc_trt_reslt_itg_cd              0\n",
       "cust_clas_itg_cd                  0\n",
       "bprod_sbt_id                      0\n",
       "age_itg_cd                        0\n",
       "cont_sttus_itg_cd                 0\n",
       "new_date                          0\n",
       "opn_nfl_chg_date                  0\n",
       "cust_dtl_ctg_itg_cd               0\n",
       "voc_trt_degr_div_itg_cd           0\n",
       "voc_dupl_tmscnt                   0\n",
       "oos_cause_type_itg_cd             0\n",
       "voc_trt_need_time_itg_cd          0\n",
       "engt_cperd_type_itg_cd            0\n",
       "engt_tgt_div_itg_cd               0\n",
       "cont_fns_pam_date                 0\n",
       "voc_mis_pbls_yn                   0\n",
       "fclt_oos_yn                       0\n",
       "cust_snsry_base_conf_need_time    0\n",
       "trm_yn                            0\n",
       "dtype: int64"
      ]
     },
     "execution_count": 138,
     "metadata": {},
     "output_type": "execute_result"
    }
   ],
   "source": [
    "df.isnull().sum()"
   ]
  },
  {
   "cell_type": "markdown",
   "metadata": {},
   "source": [
    "### voc_trt_perd_itg_cd 컬럼 데이터 확인"
   ]
  },
  {
   "cell_type": "code",
   "execution_count": 139,
   "metadata": {},
   "outputs": [
    {
     "data": {
      "text/plain": [
       "0           _\n",
       "1           _\n",
       "2           _\n",
       "3       10000\n",
       "4           _\n",
       "        ...  \n",
       "1003        _\n",
       "1004        _\n",
       "1005    10000\n",
       "1006    10002\n",
       "1007    10000\n",
       "Name: voc_trt_perd_itg_cd, Length: 1008, dtype: object"
      ]
     },
     "execution_count": 139,
     "metadata": {},
     "output_type": "execute_result"
    }
   ],
   "source": [
    "df['voc_trt_perd_itg_cd']"
   ]
  },
  {
   "cell_type": "markdown",
   "metadata": {},
   "source": [
    "### voc_trt_perd_itg_cd 컬럼 데이터별 건수 확인"
   ]
  },
  {
   "cell_type": "code",
   "execution_count": 140,
   "metadata": {},
   "outputs": [
    {
     "data": {
      "text/plain": [
       "_        562\n",
       "10000    415\n",
       "10001     19\n",
       "10002      4\n",
       "10003      3\n",
       "10005      2\n",
       "10013      1\n",
       "10006      1\n",
       "10004      1\n",
       "Name: voc_trt_perd_itg_cd, dtype: int64"
      ]
     },
     "execution_count": 140,
     "metadata": {},
     "output_type": "execute_result"
    }
   ],
   "source": [
    "df['voc_trt_perd_itg_cd'].value_counts()"
   ]
  },
  {
   "cell_type": "code",
   "execution_count": 141,
   "metadata": {},
   "outputs": [
    {
     "data": {
      "text/plain": [
       "_        0.557540\n",
       "10000    0.411706\n",
       "10001    0.018849\n",
       "10002    0.003968\n",
       "10003    0.002976\n",
       "10005    0.001984\n",
       "10013    0.000992\n",
       "10006    0.000992\n",
       "10004    0.000992\n",
       "Name: voc_trt_perd_itg_cd, dtype: float64"
      ]
     },
     "execution_count": 141,
     "metadata": {},
     "output_type": "execute_result"
    }
   ],
   "source": [
    "df['voc_trt_perd_itg_cd'].value_counts(normalize=True)"
   ]
  },
  {
   "cell_type": "markdown",
   "metadata": {},
   "source": [
    "### 모든 컬럼에 대한 데이터 분포 건수 확인"
   ]
  },
  {
   "cell_type": "code",
   "execution_count": 142,
   "metadata": {},
   "outputs": [
    {
     "data": {
      "text/plain": [
       "[_        562\n",
       " 10000    415\n",
       " 10001     19\n",
       " 10002      4\n",
       " 10003      3\n",
       " 10005      2\n",
       " 10013      1\n",
       " 10006      1\n",
       " 10004      1\n",
       " Name: voc_trt_perd_itg_cd, dtype: int64,\n",
       " 1001027747    141\n",
       " 1000665328    103\n",
       " 1001044841     48\n",
       " 1001047801     48\n",
       " 1001027746     41\n",
       "              ... \n",
       " 1000808860      1\n",
       " 1001030358      1\n",
       " 1000808865      1\n",
       " 1000666539      1\n",
       " 1001054233      1\n",
       " Name: voc_prod_sbt_id, Length: 177, dtype: int64,\n",
       " 2153    218\n",
       " 3086     39\n",
       " 329      34\n",
       " 128      34\n",
       " 656      33\n",
       "        ... \n",
       " 524       1\n",
       " 327       1\n",
       " 520       1\n",
       " 2560      1\n",
       " 1996      1\n",
       " Name: voc_wjt_sorc_id, Length: 189, dtype: int64,\n",
       " 10009    881\n",
       " 10003     81\n",
       " 10007     36\n",
       " 10011     10\n",
       " Name: voc_type_itg_cd, dtype: int64,\n",
       " 10002    983\n",
       " 10003     16\n",
       " 10005      9\n",
       " Name: voc_sttus_itg_cd, dtype: int64,\n",
       " _        908\n",
       " 10081     33\n",
       " 10026     20\n",
       " 10082     13\n",
       " 10003      7\n",
       " 10098      6\n",
       " 10010      5\n",
       " 10009      4\n",
       " 10080      4\n",
       " 10097      3\n",
       " 10021      2\n",
       " 10046      1\n",
       " 10113      1\n",
       " 10109      1\n",
       " Name: voc_trt_reslt_itg_cd, dtype: int64,\n",
       " L    245\n",
       " _    216\n",
       " G    185\n",
       " I    131\n",
       " F    106\n",
       " J     95\n",
       " O     29\n",
       " H      1\n",
       " Name: cust_clas_itg_cd, dtype: int64,\n",
       " -998           129\n",
       "  1000001126    118\n",
       "  1000737200    109\n",
       "  1001046523     52\n",
       "  1001046521     38\n",
       "               ... \n",
       "  1000002244      1\n",
       "  1001037524      1\n",
       "  1000852208      1\n",
       "  1001062946      1\n",
       "  1000002878      1\n",
       " Name: bprod_sbt_id, Length: 113, dtype: int64,\n",
       " _      238\n",
       " 039     29\n",
       " 049     25\n",
       " 063     24\n",
       " 046     24\n",
       "       ... \n",
       " 084      1\n",
       " 015      1\n",
       " 014      1\n",
       " 081      1\n",
       " 018      1\n",
       " Name: age_itg_cd, Length: 82, dtype: int64,\n",
       " 10001    795\n",
       " _        129\n",
       " 10005     40\n",
       " 10003     20\n",
       " 10007     16\n",
       " 10002      5\n",
       " 10006      2\n",
       " 10004      1\n",
       " Name: cont_sttus_itg_cd, dtype: int64,\n",
       " 10101       145\n",
       " 20200410     15\n",
       " 20200409      6\n",
       " 20200407      6\n",
       " 20200406      4\n",
       "            ... \n",
       " 20180629      1\n",
       " 20131018      1\n",
       " 19860114      1\n",
       " 20091008      1\n",
       " 20130817      1\n",
       " Name: new_date, Length: 752, dtype: int64,\n",
       " 10101       145\n",
       " 20200410     20\n",
       " 20200407      7\n",
       " 20200409      7\n",
       " 20200406      4\n",
       "            ... \n",
       " 20120326      1\n",
       " 20090925      1\n",
       " 20170405      1\n",
       " 20000407      1\n",
       " 20130817      1\n",
       " Name: opn_nfl_chg_date, Length: 747, dtype: int64,\n",
       " 10003    503\n",
       " 10002    136\n",
       " _        129\n",
       " 90029    117\n",
       " 90056     42\n",
       " 10019     35\n",
       " 90027     19\n",
       " 90024     15\n",
       " 10018      6\n",
       " 10011      3\n",
       " 90030      2\n",
       " 10001      1\n",
       " Name: cust_dtl_ctg_itg_cd, dtype: int64,\n",
       " 20001    933\n",
       " 20002     75\n",
       " Name: voc_trt_degr_div_itg_cd, dtype: int64,\n",
       " 0.0    1001\n",
       " 1.0       7\n",
       " Name: voc_dupl_tmscnt, dtype: int64,\n",
       " _        898\n",
       " 10242     19\n",
       " 10258     15\n",
       " 10231     14\n",
       " 10268     12\n",
       " 10270     11\n",
       " 10761     10\n",
       " 10237      9\n",
       " 10246      5\n",
       " 10269      5\n",
       " 10233      2\n",
       " 10232      2\n",
       " 10299      1\n",
       " 10241      1\n",
       " 10239      1\n",
       " 10550      1\n",
       " 10567      1\n",
       " 10238      1\n",
       " Name: oos_cause_type_itg_cd, dtype: int64,\n",
       " 10001    876\n",
       " 10038     25\n",
       " 10002     17\n",
       " 10003     17\n",
       " 10004     11\n",
       " 10005     10\n",
       " 10006      9\n",
       " 10007      7\n",
       " 10009      6\n",
       " 10011      5\n",
       " 10008      5\n",
       " 10010      4\n",
       " 10037      4\n",
       " 10012      2\n",
       " 10016      2\n",
       " 10026      2\n",
       " 10030      1\n",
       " 10014      1\n",
       " 10018      1\n",
       " 10020      1\n",
       " 10022      1\n",
       " 10034      1\n",
       " Name: voc_trt_need_time_itg_cd, dtype: int64,\n",
       " _        637\n",
       " 15097    310\n",
       " 15098     58\n",
       " 15099      3\n",
       " Name: engt_cperd_type_itg_cd, dtype: int64,\n",
       " _        637\n",
       " 15244    297\n",
       " 15249     50\n",
       " 15277     24\n",
       " Name: engt_tgt_div_itg_cd, dtype: int64,\n",
       " 99991231    635\n",
       " 20230409     25\n",
       " 20230412      7\n",
       " 20230410      5\n",
       " 20230406      4\n",
       "            ... \n",
       " 20121214      1\n",
       " 20210305      1\n",
       " 20150920      1\n",
       " 20210315      1\n",
       " 20190212      1\n",
       " Name: cont_fns_pam_date, Length: 313, dtype: int64,\n",
       " N    996\n",
       " _     12\n",
       " Name: voc_mis_pbls_yn, dtype: int64,\n",
       " _    899\n",
       " N    109\n",
       " Name: fclt_oos_yn, dtype: int64,\n",
       " 0.0      995\n",
       " 1.0       12\n",
       " 618.0      1\n",
       " Name: cust_snsry_base_conf_need_time, dtype: int64,\n",
       " N    993\n",
       " Y     15\n",
       " Name: trm_yn, dtype: int64]"
      ]
     },
     "execution_count": 142,
     "metadata": {},
     "output_type": "execute_result"
    }
   ],
   "source": [
    "[df[c].value_counts() for c in df]"
   ]
  },
  {
   "cell_type": "code",
   "execution_count": 143,
   "metadata": {},
   "outputs": [
    {
     "data": {
      "text/plain": [
       "[_        0.557540\n",
       " 10000    0.411706\n",
       " 10001    0.018849\n",
       " 10002    0.003968\n",
       " 10003    0.002976\n",
       " 10005    0.001984\n",
       " 10013    0.000992\n",
       " 10006    0.000992\n",
       " 10004    0.000992\n",
       " Name: voc_trt_perd_itg_cd, dtype: float64,\n",
       " 1001027747    0.139881\n",
       " 1000665328    0.102183\n",
       " 1001044841    0.047619\n",
       " 1001047801    0.047619\n",
       " 1001027746    0.040675\n",
       "                 ...   \n",
       " 1000808860    0.000992\n",
       " 1001030358    0.000992\n",
       " 1000808865    0.000992\n",
       " 1000666539    0.000992\n",
       " 1001054233    0.000992\n",
       " Name: voc_prod_sbt_id, Length: 177, dtype: float64,\n",
       " 2153    0.216270\n",
       " 3086    0.038690\n",
       " 329     0.033730\n",
       " 128     0.033730\n",
       " 656     0.032738\n",
       "           ...   \n",
       " 524     0.000992\n",
       " 327     0.000992\n",
       " 520     0.000992\n",
       " 2560    0.000992\n",
       " 1996    0.000992\n",
       " Name: voc_wjt_sorc_id, Length: 189, dtype: float64,\n",
       " 10009    0.874008\n",
       " 10003    0.080357\n",
       " 10007    0.035714\n",
       " 10011    0.009921\n",
       " Name: voc_type_itg_cd, dtype: float64,\n",
       " 10002    0.975198\n",
       " 10003    0.015873\n",
       " 10005    0.008929\n",
       " Name: voc_sttus_itg_cd, dtype: float64,\n",
       " _        0.900794\n",
       " 10081    0.032738\n",
       " 10026    0.019841\n",
       " 10082    0.012897\n",
       " 10003    0.006944\n",
       " 10098    0.005952\n",
       " 10010    0.004960\n",
       " 10009    0.003968\n",
       " 10080    0.003968\n",
       " 10097    0.002976\n",
       " 10021    0.001984\n",
       " 10046    0.000992\n",
       " 10113    0.000992\n",
       " 10109    0.000992\n",
       " Name: voc_trt_reslt_itg_cd, dtype: float64,\n",
       " L    0.243056\n",
       " _    0.214286\n",
       " G    0.183532\n",
       " I    0.129960\n",
       " F    0.105159\n",
       " J    0.094246\n",
       " O    0.028770\n",
       " H    0.000992\n",
       " Name: cust_clas_itg_cd, dtype: float64,\n",
       " -998           0.127976\n",
       "  1000001126    0.117063\n",
       "  1000737200    0.108135\n",
       "  1001046523    0.051587\n",
       "  1001046521    0.037698\n",
       "                  ...   \n",
       "  1000002244    0.000992\n",
       "  1001037524    0.000992\n",
       "  1000852208    0.000992\n",
       "  1001062946    0.000992\n",
       "  1000002878    0.000992\n",
       " Name: bprod_sbt_id, Length: 113, dtype: float64,\n",
       " _      0.236111\n",
       " 039    0.028770\n",
       " 049    0.024802\n",
       " 063    0.023810\n",
       " 046    0.023810\n",
       "          ...   \n",
       " 084    0.000992\n",
       " 015    0.000992\n",
       " 014    0.000992\n",
       " 081    0.000992\n",
       " 018    0.000992\n",
       " Name: age_itg_cd, Length: 82, dtype: float64,\n",
       " 10001    0.788690\n",
       " _        0.127976\n",
       " 10005    0.039683\n",
       " 10003    0.019841\n",
       " 10007    0.015873\n",
       " 10002    0.004960\n",
       " 10006    0.001984\n",
       " 10004    0.000992\n",
       " Name: cont_sttus_itg_cd, dtype: float64,\n",
       " 10101       0.143849\n",
       " 20200410    0.014881\n",
       " 20200409    0.005952\n",
       " 20200407    0.005952\n",
       " 20200406    0.003968\n",
       "               ...   \n",
       " 20180629    0.000992\n",
       " 20131018    0.000992\n",
       " 19860114    0.000992\n",
       " 20091008    0.000992\n",
       " 20130817    0.000992\n",
       " Name: new_date, Length: 752, dtype: float64,\n",
       " 10101       0.143849\n",
       " 20200410    0.019841\n",
       " 20200407    0.006944\n",
       " 20200409    0.006944\n",
       " 20200406    0.003968\n",
       "               ...   \n",
       " 20120326    0.000992\n",
       " 20090925    0.000992\n",
       " 20170405    0.000992\n",
       " 20000407    0.000992\n",
       " 20130817    0.000992\n",
       " Name: opn_nfl_chg_date, Length: 747, dtype: float64,\n",
       " 10003    0.499008\n",
       " 10002    0.134921\n",
       " _        0.127976\n",
       " 90029    0.116071\n",
       " 90056    0.041667\n",
       " 10019    0.034722\n",
       " 90027    0.018849\n",
       " 90024    0.014881\n",
       " 10018    0.005952\n",
       " 10011    0.002976\n",
       " 90030    0.001984\n",
       " 10001    0.000992\n",
       " Name: cust_dtl_ctg_itg_cd, dtype: float64,\n",
       " 20001    0.925595\n",
       " 20002    0.074405\n",
       " Name: voc_trt_degr_div_itg_cd, dtype: float64,\n",
       " 0.0    0.993056\n",
       " 1.0    0.006944\n",
       " Name: voc_dupl_tmscnt, dtype: float64,\n",
       " _        0.890873\n",
       " 10242    0.018849\n",
       " 10258    0.014881\n",
       " 10231    0.013889\n",
       " 10268    0.011905\n",
       " 10270    0.010913\n",
       " 10761    0.009921\n",
       " 10237    0.008929\n",
       " 10246    0.004960\n",
       " 10269    0.004960\n",
       " 10233    0.001984\n",
       " 10232    0.001984\n",
       " 10299    0.000992\n",
       " 10241    0.000992\n",
       " 10239    0.000992\n",
       " 10550    0.000992\n",
       " 10567    0.000992\n",
       " 10238    0.000992\n",
       " Name: oos_cause_type_itg_cd, dtype: float64,\n",
       " 10001    0.869048\n",
       " 10038    0.024802\n",
       " 10002    0.016865\n",
       " 10003    0.016865\n",
       " 10004    0.010913\n",
       " 10005    0.009921\n",
       " 10006    0.008929\n",
       " 10007    0.006944\n",
       " 10009    0.005952\n",
       " 10011    0.004960\n",
       " 10008    0.004960\n",
       " 10010    0.003968\n",
       " 10037    0.003968\n",
       " 10012    0.001984\n",
       " 10016    0.001984\n",
       " 10026    0.001984\n",
       " 10030    0.000992\n",
       " 10014    0.000992\n",
       " 10018    0.000992\n",
       " 10020    0.000992\n",
       " 10022    0.000992\n",
       " 10034    0.000992\n",
       " Name: voc_trt_need_time_itg_cd, dtype: float64,\n",
       " _        0.631944\n",
       " 15097    0.307540\n",
       " 15098    0.057540\n",
       " 15099    0.002976\n",
       " Name: engt_cperd_type_itg_cd, dtype: float64,\n",
       " _        0.631944\n",
       " 15244    0.294643\n",
       " 15249    0.049603\n",
       " 15277    0.023810\n",
       " Name: engt_tgt_div_itg_cd, dtype: float64,\n",
       " 99991231    0.629960\n",
       " 20230409    0.024802\n",
       " 20230412    0.006944\n",
       " 20230410    0.004960\n",
       " 20230406    0.003968\n",
       "               ...   \n",
       " 20121214    0.000992\n",
       " 20210305    0.000992\n",
       " 20150920    0.000992\n",
       " 20210315    0.000992\n",
       " 20190212    0.000992\n",
       " Name: cont_fns_pam_date, Length: 313, dtype: float64,\n",
       " N    0.988095\n",
       " _    0.011905\n",
       " Name: voc_mis_pbls_yn, dtype: float64,\n",
       " _    0.891865\n",
       " N    0.108135\n",
       " Name: fclt_oos_yn, dtype: float64,\n",
       " 0.0      0.987103\n",
       " 1.0      0.011905\n",
       " 618.0    0.000992\n",
       " Name: cust_snsry_base_conf_need_time, dtype: float64,\n",
       " N    0.985119\n",
       " Y    0.014881\n",
       " Name: trm_yn, dtype: float64]"
      ]
     },
     "execution_count": 143,
     "metadata": {},
     "output_type": "execute_result"
    }
   ],
   "source": [
    "[df[c].value_counts(normalize=True) for c in df]   "
   ]
  },
  {
   "cell_type": "markdown",
   "metadata": {},
   "source": [
    "### 컬럼에서  '_' 값이 차지하는 비율\n",
    "- voc_trt_perd_itg_cd : 0.54\n",
    "- voc_trt_reslt_itg_cd : 0.88\n",
    "- oos_cause_type_itg_cd : 0.9\n",
    "- engt_cperd_type_itg_cd : 0.63\n",
    "- engt_tgt_div_itg_cd : 0.63\n",
    "- fclt_oos_yn : 0.90  \n",
    "-\n",
    "- cust_clas_itg_cd : 0.2\n",
    "- age_itg_cd : 0.22\n",
    "- cont_sttus_itg_cd : 0.11\n",
    "- cust_dtl_ctg_itg_cd : 0.11\n",
    "- voc_mis_pbls_yn : 0.008\n"
   ]
  },
  {
   "cell_type": "markdown",
   "metadata": {},
   "source": [
    "### '_'  값이 50% 이상 차지하는 컬럼 삭제하고 df1 변수에 대입"
   ]
  },
  {
   "cell_type": "code",
   "execution_count": 144,
   "metadata": {},
   "outputs": [],
   "source": [
    "df1 = df.drop(columns=['voc_trt_perd_itg_cd',\n",
    "                       'voc_trt_reslt_itg_cd',\n",
    "                       'oos_cause_type_itg_cd',\n",
    "                       'engt_cperd_type_itg_cd',\n",
    "                       'engt_tgt_div_itg_cd',\n",
    "                       'fclt_oos_yn'\n",
    "                      ])"
   ]
  },
  {
   "cell_type": "markdown",
   "metadata": {},
   "source": [
    "### df1 데이터프레임 정보 확인"
   ]
  },
  {
   "cell_type": "code",
   "execution_count": 145,
   "metadata": {},
   "outputs": [
    {
     "name": "stdout",
     "output_type": "stream",
     "text": [
      "<class 'pandas.core.frame.DataFrame'>\n",
      "RangeIndex: 1008 entries, 0 to 1007\n",
      "Data columns (total 18 columns):\n",
      " #   Column                          Non-Null Count  Dtype  \n",
      "---  ------                          --------------  -----  \n",
      " 0   voc_prod_sbt_id                 1008 non-null   int64  \n",
      " 1   voc_wjt_sorc_id                 1008 non-null   int64  \n",
      " 2   voc_type_itg_cd                 1008 non-null   int64  \n",
      " 3   voc_sttus_itg_cd                1008 non-null   int64  \n",
      " 4   cust_clas_itg_cd                1008 non-null   object \n",
      " 5   bprod_sbt_id                    1008 non-null   int64  \n",
      " 6   age_itg_cd                      1008 non-null   object \n",
      " 7   cont_sttus_itg_cd               1008 non-null   object \n",
      " 8   new_date                        1008 non-null   int64  \n",
      " 9   opn_nfl_chg_date                1008 non-null   int64  \n",
      " 10  cust_dtl_ctg_itg_cd             1008 non-null   object \n",
      " 11  voc_trt_degr_div_itg_cd         1008 non-null   int64  \n",
      " 12  voc_dupl_tmscnt                 1008 non-null   float64\n",
      " 13  voc_trt_need_time_itg_cd        1008 non-null   int64  \n",
      " 14  cont_fns_pam_date               1008 non-null   int64  \n",
      " 15  voc_mis_pbls_yn                 1008 non-null   object \n",
      " 16  cust_snsry_base_conf_need_time  1008 non-null   float64\n",
      " 17  trm_yn                          1008 non-null   object \n",
      "dtypes: float64(2), int64(10), object(6)\n",
      "memory usage: 141.9+ KB\n"
     ]
    }
   ],
   "source": [
    "df1.info()"
   ]
  },
  {
   "cell_type": "code",
   "execution_count": 146,
   "metadata": {},
   "outputs": [
    {
     "data": {
      "text/html": [
       "<div>\n",
       "<style scoped>\n",
       "    .dataframe tbody tr th:only-of-type {\n",
       "        vertical-align: middle;\n",
       "    }\n",
       "\n",
       "    .dataframe tbody tr th {\n",
       "        vertical-align: top;\n",
       "    }\n",
       "\n",
       "    .dataframe thead th {\n",
       "        text-align: right;\n",
       "    }\n",
       "</style>\n",
       "<table border=\"1\" class=\"dataframe\">\n",
       "  <thead>\n",
       "    <tr style=\"text-align: right;\">\n",
       "      <th></th>\n",
       "      <th>voc_prod_sbt_id</th>\n",
       "      <th>voc_wjt_sorc_id</th>\n",
       "      <th>voc_type_itg_cd</th>\n",
       "      <th>voc_sttus_itg_cd</th>\n",
       "      <th>cust_clas_itg_cd</th>\n",
       "      <th>bprod_sbt_id</th>\n",
       "      <th>age_itg_cd</th>\n",
       "      <th>cont_sttus_itg_cd</th>\n",
       "      <th>new_date</th>\n",
       "      <th>opn_nfl_chg_date</th>\n",
       "      <th>cust_dtl_ctg_itg_cd</th>\n",
       "      <th>voc_trt_degr_div_itg_cd</th>\n",
       "      <th>voc_dupl_tmscnt</th>\n",
       "      <th>voc_trt_need_time_itg_cd</th>\n",
       "      <th>cont_fns_pam_date</th>\n",
       "      <th>voc_mis_pbls_yn</th>\n",
       "      <th>cust_snsry_base_conf_need_time</th>\n",
       "      <th>trm_yn</th>\n",
       "    </tr>\n",
       "  </thead>\n",
       "  <tbody>\n",
       "    <tr>\n",
       "      <th>3</th>\n",
       "      <td>1000665328</td>\n",
       "      <td>3546</td>\n",
       "      <td>10009</td>\n",
       "      <td>10002</td>\n",
       "      <td>_</td>\n",
       "      <td>1000001126</td>\n",
       "      <td>_</td>\n",
       "      <td>10001</td>\n",
       "      <td>20190731</td>\n",
       "      <td>20190731</td>\n",
       "      <td>90024</td>\n",
       "      <td>20001</td>\n",
       "      <td>0.0</td>\n",
       "      <td>10001</td>\n",
       "      <td>99991231</td>\n",
       "      <td>N</td>\n",
       "      <td>0.0</td>\n",
       "      <td>N</td>\n",
       "    </tr>\n",
       "    <tr>\n",
       "      <th>6</th>\n",
       "      <td>1001044841</td>\n",
       "      <td>128</td>\n",
       "      <td>10009</td>\n",
       "      <td>10002</td>\n",
       "      <td>_</td>\n",
       "      <td>-998</td>\n",
       "      <td>_</td>\n",
       "      <td>_</td>\n",
       "      <td>10101</td>\n",
       "      <td>10101</td>\n",
       "      <td>_</td>\n",
       "      <td>20001</td>\n",
       "      <td>0.0</td>\n",
       "      <td>10004</td>\n",
       "      <td>99991231</td>\n",
       "      <td>N</td>\n",
       "      <td>0.0</td>\n",
       "      <td>N</td>\n",
       "    </tr>\n",
       "    <tr>\n",
       "      <th>9</th>\n",
       "      <td>1000665328</td>\n",
       "      <td>2064</td>\n",
       "      <td>10009</td>\n",
       "      <td>10002</td>\n",
       "      <td>_</td>\n",
       "      <td>-998</td>\n",
       "      <td>_</td>\n",
       "      <td>_</td>\n",
       "      <td>10101</td>\n",
       "      <td>10101</td>\n",
       "      <td>_</td>\n",
       "      <td>20001</td>\n",
       "      <td>0.0</td>\n",
       "      <td>10001</td>\n",
       "      <td>99991231</td>\n",
       "      <td>N</td>\n",
       "      <td>0.0</td>\n",
       "      <td>N</td>\n",
       "    </tr>\n",
       "    <tr>\n",
       "      <th>10</th>\n",
       "      <td>1001027844</td>\n",
       "      <td>656</td>\n",
       "      <td>10009</td>\n",
       "      <td>10002</td>\n",
       "      <td>_</td>\n",
       "      <td>1000003226</td>\n",
       "      <td>_</td>\n",
       "      <td>10001</td>\n",
       "      <td>20170905</td>\n",
       "      <td>20170905</td>\n",
       "      <td>90056</td>\n",
       "      <td>20001</td>\n",
       "      <td>0.0</td>\n",
       "      <td>10001</td>\n",
       "      <td>20200904</td>\n",
       "      <td>N</td>\n",
       "      <td>0.0</td>\n",
       "      <td>N</td>\n",
       "    </tr>\n",
       "    <tr>\n",
       "      <th>14</th>\n",
       "      <td>1000665524</td>\n",
       "      <td>2064</td>\n",
       "      <td>10009</td>\n",
       "      <td>10002</td>\n",
       "      <td>_</td>\n",
       "      <td>1000002244</td>\n",
       "      <td>071</td>\n",
       "      <td>10001</td>\n",
       "      <td>20101108</td>\n",
       "      <td>20101108</td>\n",
       "      <td>10003</td>\n",
       "      <td>20001</td>\n",
       "      <td>0.0</td>\n",
       "      <td>10001</td>\n",
       "      <td>99991231</td>\n",
       "      <td>N</td>\n",
       "      <td>0.0</td>\n",
       "      <td>N</td>\n",
       "    </tr>\n",
       "    <tr>\n",
       "      <th>...</th>\n",
       "      <td>...</td>\n",
       "      <td>...</td>\n",
       "      <td>...</td>\n",
       "      <td>...</td>\n",
       "      <td>...</td>\n",
       "      <td>...</td>\n",
       "      <td>...</td>\n",
       "      <td>...</td>\n",
       "      <td>...</td>\n",
       "      <td>...</td>\n",
       "      <td>...</td>\n",
       "      <td>...</td>\n",
       "      <td>...</td>\n",
       "      <td>...</td>\n",
       "      <td>...</td>\n",
       "      <td>...</td>\n",
       "      <td>...</td>\n",
       "      <td>...</td>\n",
       "    </tr>\n",
       "    <tr>\n",
       "      <th>989</th>\n",
       "      <td>1000787867</td>\n",
       "      <td>2153</td>\n",
       "      <td>10009</td>\n",
       "      <td>10002</td>\n",
       "      <td>_</td>\n",
       "      <td>-998</td>\n",
       "      <td>_</td>\n",
       "      <td>_</td>\n",
       "      <td>10101</td>\n",
       "      <td>10101</td>\n",
       "      <td>_</td>\n",
       "      <td>20001</td>\n",
       "      <td>0.0</td>\n",
       "      <td>10001</td>\n",
       "      <td>99991231</td>\n",
       "      <td>N</td>\n",
       "      <td>0.0</td>\n",
       "      <td>N</td>\n",
       "    </tr>\n",
       "    <tr>\n",
       "      <th>992</th>\n",
       "      <td>1000665328</td>\n",
       "      <td>314</td>\n",
       "      <td>10009</td>\n",
       "      <td>10002</td>\n",
       "      <td>_</td>\n",
       "      <td>1000001126</td>\n",
       "      <td>_</td>\n",
       "      <td>10001</td>\n",
       "      <td>20151230</td>\n",
       "      <td>20151230</td>\n",
       "      <td>90056</td>\n",
       "      <td>20001</td>\n",
       "      <td>0.0</td>\n",
       "      <td>10001</td>\n",
       "      <td>99991231</td>\n",
       "      <td>N</td>\n",
       "      <td>0.0</td>\n",
       "      <td>N</td>\n",
       "    </tr>\n",
       "    <tr>\n",
       "      <th>1002</th>\n",
       "      <td>1001027741</td>\n",
       "      <td>2153</td>\n",
       "      <td>10009</td>\n",
       "      <td>10002</td>\n",
       "      <td>_</td>\n",
       "      <td>-998</td>\n",
       "      <td>_</td>\n",
       "      <td>_</td>\n",
       "      <td>10101</td>\n",
       "      <td>10101</td>\n",
       "      <td>_</td>\n",
       "      <td>20001</td>\n",
       "      <td>0.0</td>\n",
       "      <td>10001</td>\n",
       "      <td>99991231</td>\n",
       "      <td>N</td>\n",
       "      <td>0.0</td>\n",
       "      <td>N</td>\n",
       "    </tr>\n",
       "    <tr>\n",
       "      <th>1004</th>\n",
       "      <td>1000787867</td>\n",
       "      <td>2153</td>\n",
       "      <td>10009</td>\n",
       "      <td>10002</td>\n",
       "      <td>_</td>\n",
       "      <td>-998</td>\n",
       "      <td>_</td>\n",
       "      <td>_</td>\n",
       "      <td>10101</td>\n",
       "      <td>10101</td>\n",
       "      <td>_</td>\n",
       "      <td>20001</td>\n",
       "      <td>0.0</td>\n",
       "      <td>10001</td>\n",
       "      <td>99991231</td>\n",
       "      <td>N</td>\n",
       "      <td>0.0</td>\n",
       "      <td>N</td>\n",
       "    </tr>\n",
       "    <tr>\n",
       "      <th>1005</th>\n",
       "      <td>1001027747</td>\n",
       "      <td>2153</td>\n",
       "      <td>10009</td>\n",
       "      <td>10002</td>\n",
       "      <td>_</td>\n",
       "      <td>-998</td>\n",
       "      <td>_</td>\n",
       "      <td>_</td>\n",
       "      <td>10101</td>\n",
       "      <td>10101</td>\n",
       "      <td>_</td>\n",
       "      <td>20001</td>\n",
       "      <td>0.0</td>\n",
       "      <td>10001</td>\n",
       "      <td>99991231</td>\n",
       "      <td>N</td>\n",
       "      <td>0.0</td>\n",
       "      <td>N</td>\n",
       "    </tr>\n",
       "  </tbody>\n",
       "</table>\n",
       "<p>216 rows × 18 columns</p>\n",
       "</div>"
      ],
      "text/plain": [
       "      voc_prod_sbt_id  voc_wjt_sorc_id  voc_type_itg_cd  voc_sttus_itg_cd  \\\n",
       "3          1000665328             3546            10009             10002   \n",
       "6          1001044841              128            10009             10002   \n",
       "9          1000665328             2064            10009             10002   \n",
       "10         1001027844              656            10009             10002   \n",
       "14         1000665524             2064            10009             10002   \n",
       "...               ...              ...              ...               ...   \n",
       "989        1000787867             2153            10009             10002   \n",
       "992        1000665328              314            10009             10002   \n",
       "1002       1001027741             2153            10009             10002   \n",
       "1004       1000787867             2153            10009             10002   \n",
       "1005       1001027747             2153            10009             10002   \n",
       "\n",
       "     cust_clas_itg_cd  bprod_sbt_id age_itg_cd cont_sttus_itg_cd  new_date  \\\n",
       "3                   _    1000001126          _             10001  20190731   \n",
       "6                   _          -998          _                 _     10101   \n",
       "9                   _          -998          _                 _     10101   \n",
       "10                  _    1000003226          _             10001  20170905   \n",
       "14                  _    1000002244        071             10001  20101108   \n",
       "...               ...           ...        ...               ...       ...   \n",
       "989                 _          -998          _                 _     10101   \n",
       "992                 _    1000001126          _             10001  20151230   \n",
       "1002                _          -998          _                 _     10101   \n",
       "1004                _          -998          _                 _     10101   \n",
       "1005                _          -998          _                 _     10101   \n",
       "\n",
       "      opn_nfl_chg_date cust_dtl_ctg_itg_cd  voc_trt_degr_div_itg_cd  \\\n",
       "3             20190731               90024                    20001   \n",
       "6                10101                   _                    20001   \n",
       "9                10101                   _                    20001   \n",
       "10            20170905               90056                    20001   \n",
       "14            20101108               10003                    20001   \n",
       "...                ...                 ...                      ...   \n",
       "989              10101                   _                    20001   \n",
       "992           20151230               90056                    20001   \n",
       "1002             10101                   _                    20001   \n",
       "1004             10101                   _                    20001   \n",
       "1005             10101                   _                    20001   \n",
       "\n",
       "      voc_dupl_tmscnt  voc_trt_need_time_itg_cd  cont_fns_pam_date  \\\n",
       "3                 0.0                     10001           99991231   \n",
       "6                 0.0                     10004           99991231   \n",
       "9                 0.0                     10001           99991231   \n",
       "10                0.0                     10001           20200904   \n",
       "14                0.0                     10001           99991231   \n",
       "...               ...                       ...                ...   \n",
       "989               0.0                     10001           99991231   \n",
       "992               0.0                     10001           99991231   \n",
       "1002              0.0                     10001           99991231   \n",
       "1004              0.0                     10001           99991231   \n",
       "1005              0.0                     10001           99991231   \n",
       "\n",
       "     voc_mis_pbls_yn  cust_snsry_base_conf_need_time trm_yn  \n",
       "3                  N                             0.0      N  \n",
       "6                  N                             0.0      N  \n",
       "9                  N                             0.0      N  \n",
       "10                 N                             0.0      N  \n",
       "14                 N                             0.0      N  \n",
       "...              ...                             ...    ...  \n",
       "989                N                             0.0      N  \n",
       "992                N                             0.0      N  \n",
       "1002               N                             0.0      N  \n",
       "1004               N                             0.0      N  \n",
       "1005               N                             0.0      N  \n",
       "\n",
       "[216 rows x 18 columns]"
      ]
     },
     "execution_count": 146,
     "metadata": {},
     "output_type": "execute_result"
    }
   ],
   "source": [
    "df1[df1['cust_clas_itg_cd'] == '_']"
   ]
  },
  {
   "cell_type": "markdown",
   "metadata": {},
   "source": [
    "### 남아있는 '_'값을 null로 변경"
   ]
  },
  {
   "cell_type": "code",
   "execution_count": 147,
   "metadata": {},
   "outputs": [],
   "source": [
    "df1.replace('_',np.nan,inplace=True)"
   ]
  },
  {
   "cell_type": "code",
   "execution_count": 148,
   "metadata": {},
   "outputs": [
    {
     "name": "stdout",
     "output_type": "stream",
     "text": [
      "<class 'pandas.core.frame.DataFrame'>\n",
      "RangeIndex: 1008 entries, 0 to 1007\n",
      "Data columns (total 18 columns):\n",
      " #   Column                          Non-Null Count  Dtype  \n",
      "---  ------                          --------------  -----  \n",
      " 0   voc_prod_sbt_id                 1008 non-null   int64  \n",
      " 1   voc_wjt_sorc_id                 1008 non-null   int64  \n",
      " 2   voc_type_itg_cd                 1008 non-null   int64  \n",
      " 3   voc_sttus_itg_cd                1008 non-null   int64  \n",
      " 4   cust_clas_itg_cd                792 non-null    object \n",
      " 5   bprod_sbt_id                    1008 non-null   int64  \n",
      " 6   age_itg_cd                      770 non-null    object \n",
      " 7   cont_sttus_itg_cd               879 non-null    object \n",
      " 8   new_date                        1008 non-null   int64  \n",
      " 9   opn_nfl_chg_date                1008 non-null   int64  \n",
      " 10  cust_dtl_ctg_itg_cd             879 non-null    object \n",
      " 11  voc_trt_degr_div_itg_cd         1008 non-null   int64  \n",
      " 12  voc_dupl_tmscnt                 1008 non-null   float64\n",
      " 13  voc_trt_need_time_itg_cd        1008 non-null   int64  \n",
      " 14  cont_fns_pam_date               1008 non-null   int64  \n",
      " 15  voc_mis_pbls_yn                 996 non-null    object \n",
      " 16  cust_snsry_base_conf_need_time  1008 non-null   float64\n",
      " 17  trm_yn                          1008 non-null   object \n",
      "dtypes: float64(2), int64(10), object(6)\n",
      "memory usage: 141.9+ KB\n"
     ]
    }
   ],
   "source": [
    "df1.info()"
   ]
  },
  {
   "cell_type": "code",
   "execution_count": 149,
   "metadata": {},
   "outputs": [
    {
     "data": {
      "text/plain": [
       "voc_prod_sbt_id                     0\n",
       "voc_wjt_sorc_id                     0\n",
       "voc_type_itg_cd                     0\n",
       "voc_sttus_itg_cd                    0\n",
       "cust_clas_itg_cd                  216\n",
       "bprod_sbt_id                        0\n",
       "age_itg_cd                        238\n",
       "cont_sttus_itg_cd                 129\n",
       "new_date                            0\n",
       "opn_nfl_chg_date                    0\n",
       "cust_dtl_ctg_itg_cd               129\n",
       "voc_trt_degr_div_itg_cd             0\n",
       "voc_dupl_tmscnt                     0\n",
       "voc_trt_need_time_itg_cd            0\n",
       "cont_fns_pam_date                   0\n",
       "voc_mis_pbls_yn                    12\n",
       "cust_snsry_base_conf_need_time      0\n",
       "trm_yn                              0\n",
       "dtype: int64"
      ]
     },
     "execution_count": 149,
     "metadata": {},
     "output_type": "execute_result"
    }
   ],
   "source": [
    "df1.isnull().sum()"
   ]
  },
  {
   "cell_type": "markdown",
   "metadata": {},
   "source": [
    "###  Object 데이터타입의 Null값 처리\n",
    "- cust_clas_itg_cd \n",
    "- age_itg_cd\n",
    "- cont_sttus_itg_cd\n",
    "- cust_dtl_ctg_itg_cd\n",
    "- voc_mis_pbls_yn"
   ]
  },
  {
   "cell_type": "code",
   "execution_count": 150,
   "metadata": {},
   "outputs": [
    {
     "data": {
      "text/plain": [
       "voc_prod_sbt_id                     int64\n",
       "voc_wjt_sorc_id                     int64\n",
       "voc_type_itg_cd                     int64\n",
       "voc_sttus_itg_cd                    int64\n",
       "cust_clas_itg_cd                   object\n",
       "bprod_sbt_id                        int64\n",
       "age_itg_cd                         object\n",
       "cont_sttus_itg_cd                  object\n",
       "new_date                            int64\n",
       "opn_nfl_chg_date                    int64\n",
       "cust_dtl_ctg_itg_cd                object\n",
       "voc_trt_degr_div_itg_cd             int64\n",
       "voc_dupl_tmscnt                   float64\n",
       "voc_trt_need_time_itg_cd            int64\n",
       "cont_fns_pam_date                   int64\n",
       "voc_mis_pbls_yn                    object\n",
       "cust_snsry_base_conf_need_time    float64\n",
       "trm_yn                             object\n",
       "dtype: object"
      ]
     },
     "execution_count": 150,
     "metadata": {},
     "output_type": "execute_result"
    }
   ],
   "source": [
    "df1.dtypes"
   ]
  },
  {
   "cell_type": "markdown",
   "metadata": {},
   "source": [
    "- cust_clas_itg_cd : 최빈값(mode)으로 변경"
   ]
  },
  {
   "cell_type": "code",
   "execution_count": 151,
   "metadata": {},
   "outputs": [
    {
     "data": {
      "text/plain": [
       "0         F\n",
       "1         G\n",
       "2         G\n",
       "3       NaN\n",
       "4         G\n",
       "       ... \n",
       "1003      L\n",
       "1004    NaN\n",
       "1005    NaN\n",
       "1006      J\n",
       "1007      G\n",
       "Name: cust_clas_itg_cd, Length: 1008, dtype: object"
      ]
     },
     "execution_count": 151,
     "metadata": {},
     "output_type": "execute_result"
    }
   ],
   "source": [
    "df1['cust_clas_itg_cd']"
   ]
  },
  {
   "cell_type": "code",
   "execution_count": 152,
   "metadata": {},
   "outputs": [
    {
     "data": {
      "text/plain": [
       "L    245\n",
       "G    185\n",
       "I    131\n",
       "F    106\n",
       "J     95\n",
       "O     29\n",
       "H      1\n",
       "Name: cust_clas_itg_cd, dtype: int64"
      ]
     },
     "execution_count": 152,
     "metadata": {},
     "output_type": "execute_result"
    }
   ],
   "source": [
    "df1['cust_clas_itg_cd'].value_counts()"
   ]
  },
  {
   "cell_type": "code",
   "execution_count": 153,
   "metadata": {},
   "outputs": [],
   "source": [
    "df1['cust_clas_itg_cd'].replace(np.nan, 'L', inplace=True)"
   ]
  },
  {
   "cell_type": "code",
   "execution_count": 154,
   "metadata": {},
   "outputs": [
    {
     "data": {
      "text/plain": [
       "0"
      ]
     },
     "execution_count": 154,
     "metadata": {},
     "output_type": "execute_result"
    }
   ],
   "source": [
    "df1['cust_clas_itg_cd'].isnull().sum()"
   ]
  },
  {
   "cell_type": "markdown",
   "metadata": {},
   "source": [
    "- age_itg_cd : 중앙값(median)으로 변경하고 데이터 타입을 정수(int)로 변경"
   ]
  },
  {
   "cell_type": "code",
   "execution_count": 155,
   "metadata": {},
   "outputs": [
    {
     "data": {
      "text/plain": [
       "0       036\n",
       "1       032\n",
       "2       052\n",
       "3       NaN\n",
       "4       050\n",
       "       ... \n",
       "1003    031\n",
       "1004    NaN\n",
       "1005    NaN\n",
       "1006    NaN\n",
       "1007    037\n",
       "Name: age_itg_cd, Length: 1008, dtype: object"
      ]
     },
     "execution_count": 155,
     "metadata": {},
     "output_type": "execute_result"
    }
   ],
   "source": [
    "df1['age_itg_cd']"
   ]
  },
  {
   "cell_type": "code",
   "execution_count": 156,
   "metadata": {},
   "outputs": [
    {
     "data": {
      "text/plain": [
       "49.0"
      ]
     },
     "execution_count": 156,
     "metadata": {},
     "output_type": "execute_result"
    }
   ],
   "source": [
    "df1['age_itg_cd'].median()"
   ]
  },
  {
   "cell_type": "code",
   "execution_count": 157,
   "metadata": {},
   "outputs": [],
   "source": [
    "df1['age_itg_cd'].replace(np.nan, 48, inplace=True)"
   ]
  },
  {
   "cell_type": "code",
   "execution_count": 158,
   "metadata": {},
   "outputs": [],
   "source": [
    "df1['age_itg_cd'] = df1['age_itg_cd'].astype(int)"
   ]
  },
  {
   "cell_type": "code",
   "execution_count": 159,
   "metadata": {},
   "outputs": [
    {
     "data": {
      "text/plain": [
       "0"
      ]
     },
     "execution_count": 159,
     "metadata": {},
     "output_type": "execute_result"
    }
   ],
   "source": [
    "df1['age_itg_cd'].isnull().sum()"
   ]
  },
  {
   "cell_type": "code",
   "execution_count": 160,
   "metadata": {},
   "outputs": [
    {
     "data": {
      "text/plain": [
       "0       36\n",
       "1       32\n",
       "2       52\n",
       "3       48\n",
       "4       50\n",
       "        ..\n",
       "1003    31\n",
       "1004    48\n",
       "1005    48\n",
       "1006    48\n",
       "1007    37\n",
       "Name: age_itg_cd, Length: 1008, dtype: int32"
      ]
     },
     "execution_count": 160,
     "metadata": {},
     "output_type": "execute_result"
    }
   ],
   "source": [
    "df1['age_itg_cd']"
   ]
  },
  {
   "cell_type": "code",
   "execution_count": 161,
   "metadata": {},
   "outputs": [
    {
     "name": "stdout",
     "output_type": "stream",
     "text": [
      "<class 'pandas.core.frame.DataFrame'>\n",
      "RangeIndex: 1008 entries, 0 to 1007\n",
      "Data columns (total 18 columns):\n",
      " #   Column                          Non-Null Count  Dtype  \n",
      "---  ------                          --------------  -----  \n",
      " 0   voc_prod_sbt_id                 1008 non-null   int64  \n",
      " 1   voc_wjt_sorc_id                 1008 non-null   int64  \n",
      " 2   voc_type_itg_cd                 1008 non-null   int64  \n",
      " 3   voc_sttus_itg_cd                1008 non-null   int64  \n",
      " 4   cust_clas_itg_cd                1008 non-null   object \n",
      " 5   bprod_sbt_id                    1008 non-null   int64  \n",
      " 6   age_itg_cd                      1008 non-null   int32  \n",
      " 7   cont_sttus_itg_cd               879 non-null    object \n",
      " 8   new_date                        1008 non-null   int64  \n",
      " 9   opn_nfl_chg_date                1008 non-null   int64  \n",
      " 10  cust_dtl_ctg_itg_cd             879 non-null    object \n",
      " 11  voc_trt_degr_div_itg_cd         1008 non-null   int64  \n",
      " 12  voc_dupl_tmscnt                 1008 non-null   float64\n",
      " 13  voc_trt_need_time_itg_cd        1008 non-null   int64  \n",
      " 14  cont_fns_pam_date               1008 non-null   int64  \n",
      " 15  voc_mis_pbls_yn                 996 non-null    object \n",
      " 16  cust_snsry_base_conf_need_time  1008 non-null   float64\n",
      " 17  trm_yn                          1008 non-null   object \n",
      "dtypes: float64(2), int32(1), int64(10), object(5)\n",
      "memory usage: 137.9+ KB\n"
     ]
    }
   ],
   "source": [
    "df1.info()"
   ]
  },
  {
   "cell_type": "markdown",
   "metadata": {},
   "source": [
    "- cont_sttus_itg_cd : 최빈값(mode)으로 변경"
   ]
  },
  {
   "cell_type": "code",
   "execution_count": 162,
   "metadata": {},
   "outputs": [
    {
     "data": {
      "text/plain": [
       "129"
      ]
     },
     "execution_count": 162,
     "metadata": {},
     "output_type": "execute_result"
    }
   ],
   "source": [
    "df1['cont_sttus_itg_cd'].isnull().sum()"
   ]
  },
  {
   "cell_type": "code",
   "execution_count": 163,
   "metadata": {},
   "outputs": [
    {
     "data": {
      "text/plain": [
       "10001    795\n",
       "10005     40\n",
       "10003     20\n",
       "10007     16\n",
       "10002      5\n",
       "10006      2\n",
       "10004      1\n",
       "Name: cont_sttus_itg_cd, dtype: int64"
      ]
     },
     "execution_count": 163,
     "metadata": {},
     "output_type": "execute_result"
    }
   ],
   "source": [
    "df1['cont_sttus_itg_cd'].value_counts()"
   ]
  },
  {
   "cell_type": "code",
   "execution_count": 164,
   "metadata": {},
   "outputs": [],
   "source": [
    "df1['cont_sttus_itg_cd'].replace(np.nan,'10001', inplace=True)"
   ]
  },
  {
   "cell_type": "code",
   "execution_count": 165,
   "metadata": {},
   "outputs": [
    {
     "data": {
      "text/plain": [
       "0"
      ]
     },
     "execution_count": 165,
     "metadata": {},
     "output_type": "execute_result"
    }
   ],
   "source": [
    "df1['cont_sttus_itg_cd'].isnull().sum()"
   ]
  },
  {
   "cell_type": "markdown",
   "metadata": {},
   "source": [
    "- cust_dtl_ctg_itg_cd : 최빈값(mode)으로 변경"
   ]
  },
  {
   "cell_type": "code",
   "execution_count": 166,
   "metadata": {},
   "outputs": [
    {
     "data": {
      "text/plain": [
       "129"
      ]
     },
     "execution_count": 166,
     "metadata": {},
     "output_type": "execute_result"
    }
   ],
   "source": [
    "df1['cust_dtl_ctg_itg_cd'].isnull().sum()"
   ]
  },
  {
   "cell_type": "code",
   "execution_count": 167,
   "metadata": {},
   "outputs": [
    {
     "data": {
      "text/plain": [
       "10003    503\n",
       "10002    136\n",
       "90029    117\n",
       "90056     42\n",
       "10019     35\n",
       "90027     19\n",
       "90024     15\n",
       "10018      6\n",
       "10011      3\n",
       "90030      2\n",
       "10001      1\n",
       "Name: cust_dtl_ctg_itg_cd, dtype: int64"
      ]
     },
     "execution_count": 167,
     "metadata": {},
     "output_type": "execute_result"
    }
   ],
   "source": [
    "df1['cust_dtl_ctg_itg_cd'].value_counts()"
   ]
  },
  {
   "cell_type": "code",
   "execution_count": 168,
   "metadata": {},
   "outputs": [],
   "source": [
    "df1['cust_dtl_ctg_itg_cd'].replace(np.nan,'10003', inplace=True)"
   ]
  },
  {
   "cell_type": "code",
   "execution_count": 169,
   "metadata": {},
   "outputs": [
    {
     "data": {
      "text/plain": [
       "0"
      ]
     },
     "execution_count": 169,
     "metadata": {},
     "output_type": "execute_result"
    }
   ],
   "source": [
    "df1['cust_dtl_ctg_itg_cd'].isnull().sum()"
   ]
  },
  {
   "cell_type": "markdown",
   "metadata": {},
   "source": [
    " - voc_mis_pbls_yn 컬럼의 경우 'N' 값이 99% 이상 차지하므로 삭제"
   ]
  },
  {
   "cell_type": "code",
   "execution_count": 170,
   "metadata": {},
   "outputs": [
    {
     "data": {
      "text/plain": [
       "N    996\n",
       "Name: voc_mis_pbls_yn, dtype: int64"
      ]
     },
     "execution_count": 170,
     "metadata": {},
     "output_type": "execute_result"
    }
   ],
   "source": [
    "df1['voc_mis_pbls_yn'].value_counts()"
   ]
  },
  {
   "cell_type": "code",
   "execution_count": 171,
   "metadata": {},
   "outputs": [],
   "source": [
    "df1.drop(columns=['voc_mis_pbls_yn'], inplace=True)"
   ]
  },
  {
   "cell_type": "markdown",
   "metadata": {},
   "source": [
    "### 처리 결과  확인"
   ]
  },
  {
   "cell_type": "code",
   "execution_count": 172,
   "metadata": {},
   "outputs": [
    {
     "name": "stdout",
     "output_type": "stream",
     "text": [
      "<class 'pandas.core.frame.DataFrame'>\n",
      "RangeIndex: 1008 entries, 0 to 1007\n",
      "Data columns (total 17 columns):\n",
      " #   Column                          Non-Null Count  Dtype  \n",
      "---  ------                          --------------  -----  \n",
      " 0   voc_prod_sbt_id                 1008 non-null   int64  \n",
      " 1   voc_wjt_sorc_id                 1008 non-null   int64  \n",
      " 2   voc_type_itg_cd                 1008 non-null   int64  \n",
      " 3   voc_sttus_itg_cd                1008 non-null   int64  \n",
      " 4   cust_clas_itg_cd                1008 non-null   object \n",
      " 5   bprod_sbt_id                    1008 non-null   int64  \n",
      " 6   age_itg_cd                      1008 non-null   int32  \n",
      " 7   cont_sttus_itg_cd               1008 non-null   object \n",
      " 8   new_date                        1008 non-null   int64  \n",
      " 9   opn_nfl_chg_date                1008 non-null   int64  \n",
      " 10  cust_dtl_ctg_itg_cd             1008 non-null   object \n",
      " 11  voc_trt_degr_div_itg_cd         1008 non-null   int64  \n",
      " 12  voc_dupl_tmscnt                 1008 non-null   float64\n",
      " 13  voc_trt_need_time_itg_cd        1008 non-null   int64  \n",
      " 14  cont_fns_pam_date               1008 non-null   int64  \n",
      " 15  cust_snsry_base_conf_need_time  1008 non-null   float64\n",
      " 16  trm_yn                          1008 non-null   object \n",
      "dtypes: float64(2), int32(1), int64(10), object(4)\n",
      "memory usage: 130.1+ KB\n"
     ]
    }
   ],
   "source": [
    "df1.info()"
   ]
  },
  {
   "cell_type": "markdown",
   "metadata": {},
   "source": [
    "### 날짜(Date) 관련 컬럼 확인 및 삭제\n",
    "- new_date \n",
    "- opn_nfl_chg_date\n",
    "-  cont_fns_pam_date"
   ]
  },
  {
   "cell_type": "code",
   "execution_count": 173,
   "metadata": {},
   "outputs": [
    {
     "data": {
      "text/plain": [
       "0    19881005\n",
       "1    20130817\n",
       "2    20190509\n",
       "Name: new_date, dtype: int64"
      ]
     },
     "execution_count": 173,
     "metadata": {},
     "output_type": "execute_result"
    }
   ],
   "source": [
    "df1['new_date'][:3]"
   ]
  },
  {
   "cell_type": "code",
   "execution_count": 174,
   "metadata": {},
   "outputs": [],
   "source": [
    "df1.drop(columns=['new_date', 'opn_nfl_chg_date', 'cont_fns_pam_date'], inplace=True)"
   ]
  },
  {
   "cell_type": "code",
   "execution_count": 175,
   "metadata": {},
   "outputs": [
    {
     "name": "stdout",
     "output_type": "stream",
     "text": [
      "<class 'pandas.core.frame.DataFrame'>\n",
      "RangeIndex: 1008 entries, 0 to 1007\n",
      "Data columns (total 14 columns):\n",
      " #   Column                          Non-Null Count  Dtype  \n",
      "---  ------                          --------------  -----  \n",
      " 0   voc_prod_sbt_id                 1008 non-null   int64  \n",
      " 1   voc_wjt_sorc_id                 1008 non-null   int64  \n",
      " 2   voc_type_itg_cd                 1008 non-null   int64  \n",
      " 3   voc_sttus_itg_cd                1008 non-null   int64  \n",
      " 4   cust_clas_itg_cd                1008 non-null   object \n",
      " 5   bprod_sbt_id                    1008 non-null   int64  \n",
      " 6   age_itg_cd                      1008 non-null   int32  \n",
      " 7   cont_sttus_itg_cd               1008 non-null   object \n",
      " 8   cust_dtl_ctg_itg_cd             1008 non-null   object \n",
      " 9   voc_trt_degr_div_itg_cd         1008 non-null   int64  \n",
      " 10  voc_dupl_tmscnt                 1008 non-null   float64\n",
      " 11  voc_trt_need_time_itg_cd        1008 non-null   int64  \n",
      " 12  cust_snsry_base_conf_need_time  1008 non-null   float64\n",
      " 13  trm_yn                          1008 non-null   object \n",
      "dtypes: float64(2), int32(1), int64(7), object(4)\n",
      "memory usage: 106.4+ KB\n"
     ]
    }
   ],
   "source": [
    "df1.info()"
   ]
  },
  {
   "cell_type": "markdown",
   "metadata": {},
   "source": [
    "#  \n",
    "# 5. 카테고리형 데이터를 수치형으로 변환"
   ]
  },
  {
   "cell_type": "code",
   "execution_count": 176,
   "metadata": {},
   "outputs": [],
   "source": [
    "from sklearn.preprocessing import LabelEncoder"
   ]
  },
  {
   "cell_type": "code",
   "execution_count": 177,
   "metadata": {},
   "outputs": [],
   "source": [
    "le = LabelEncoder()"
   ]
  },
  {
   "cell_type": "code",
   "execution_count": 178,
   "metadata": {},
   "outputs": [],
   "source": [
    "cat_cols = df1.select_dtypes(include='object')"
   ]
  },
  {
   "cell_type": "code",
   "execution_count": 179,
   "metadata": {},
   "outputs": [
    {
     "data": {
      "text/html": [
       "<div>\n",
       "<style scoped>\n",
       "    .dataframe tbody tr th:only-of-type {\n",
       "        vertical-align: middle;\n",
       "    }\n",
       "\n",
       "    .dataframe tbody tr th {\n",
       "        vertical-align: top;\n",
       "    }\n",
       "\n",
       "    .dataframe thead th {\n",
       "        text-align: right;\n",
       "    }\n",
       "</style>\n",
       "<table border=\"1\" class=\"dataframe\">\n",
       "  <thead>\n",
       "    <tr style=\"text-align: right;\">\n",
       "      <th></th>\n",
       "      <th>cust_clas_itg_cd</th>\n",
       "      <th>cont_sttus_itg_cd</th>\n",
       "      <th>cust_dtl_ctg_itg_cd</th>\n",
       "      <th>trm_yn</th>\n",
       "    </tr>\n",
       "  </thead>\n",
       "  <tbody>\n",
       "    <tr>\n",
       "      <th>0</th>\n",
       "      <td>F</td>\n",
       "      <td>10001</td>\n",
       "      <td>10003</td>\n",
       "      <td>N</td>\n",
       "    </tr>\n",
       "    <tr>\n",
       "      <th>1</th>\n",
       "      <td>G</td>\n",
       "      <td>10001</td>\n",
       "      <td>10002</td>\n",
       "      <td>N</td>\n",
       "    </tr>\n",
       "    <tr>\n",
       "      <th>2</th>\n",
       "      <td>G</td>\n",
       "      <td>10001</td>\n",
       "      <td>10003</td>\n",
       "      <td>N</td>\n",
       "    </tr>\n",
       "    <tr>\n",
       "      <th>3</th>\n",
       "      <td>L</td>\n",
       "      <td>10001</td>\n",
       "      <td>90024</td>\n",
       "      <td>N</td>\n",
       "    </tr>\n",
       "    <tr>\n",
       "      <th>4</th>\n",
       "      <td>G</td>\n",
       "      <td>10001</td>\n",
       "      <td>90024</td>\n",
       "      <td>N</td>\n",
       "    </tr>\n",
       "    <tr>\n",
       "      <th>...</th>\n",
       "      <td>...</td>\n",
       "      <td>...</td>\n",
       "      <td>...</td>\n",
       "      <td>...</td>\n",
       "    </tr>\n",
       "    <tr>\n",
       "      <th>1003</th>\n",
       "      <td>L</td>\n",
       "      <td>10001</td>\n",
       "      <td>10002</td>\n",
       "      <td>N</td>\n",
       "    </tr>\n",
       "    <tr>\n",
       "      <th>1004</th>\n",
       "      <td>L</td>\n",
       "      <td>10001</td>\n",
       "      <td>10003</td>\n",
       "      <td>N</td>\n",
       "    </tr>\n",
       "    <tr>\n",
       "      <th>1005</th>\n",
       "      <td>L</td>\n",
       "      <td>10001</td>\n",
       "      <td>10003</td>\n",
       "      <td>N</td>\n",
       "    </tr>\n",
       "    <tr>\n",
       "      <th>1006</th>\n",
       "      <td>J</td>\n",
       "      <td>10001</td>\n",
       "      <td>90029</td>\n",
       "      <td>N</td>\n",
       "    </tr>\n",
       "    <tr>\n",
       "      <th>1007</th>\n",
       "      <td>G</td>\n",
       "      <td>10001</td>\n",
       "      <td>10003</td>\n",
       "      <td>N</td>\n",
       "    </tr>\n",
       "  </tbody>\n",
       "</table>\n",
       "<p>1008 rows × 4 columns</p>\n",
       "</div>"
      ],
      "text/plain": [
       "     cust_clas_itg_cd cont_sttus_itg_cd cust_dtl_ctg_itg_cd trm_yn\n",
       "0                   F             10001               10003      N\n",
       "1                   G             10001               10002      N\n",
       "2                   G             10001               10003      N\n",
       "3                   L             10001               90024      N\n",
       "4                   G             10001               90024      N\n",
       "...               ...               ...                 ...    ...\n",
       "1003                L             10001               10002      N\n",
       "1004                L             10001               10003      N\n",
       "1005                L             10001               10003      N\n",
       "1006                J             10001               90029      N\n",
       "1007                G             10001               10003      N\n",
       "\n",
       "[1008 rows x 4 columns]"
      ]
     },
     "execution_count": 179,
     "metadata": {},
     "output_type": "execute_result"
    }
   ],
   "source": [
    "cat_cols"
   ]
  },
  {
   "cell_type": "code",
   "execution_count": 180,
   "metadata": {},
   "outputs": [],
   "source": [
    "df1['cust_clas_itg_cd'] = le.fit_transform(df1['cust_clas_itg_cd'])\n",
    "df1['cont_sttus_itg_cd'] = le.fit_transform(df1['cont_sttus_itg_cd'])\n",
    "df1['cont_sttus_itg_cd'] = le.fit_transform(df1['cont_sttus_itg_cd'])\n",
    "df1['cont_sttus_itg_cd'] = le.fit_transform(df1['cont_sttus_itg_cd'])\n",
    "df1['trm_yn'] = le.fit_transform(df1['trm_yn'])\n",
    "\n",
    "# for col in cat_cols:\n",
    "#     df1[col] = le.fit_transform(df1[col])"
   ]
  },
  {
   "cell_type": "code",
   "execution_count": 181,
   "metadata": {},
   "outputs": [
    {
     "data": {
      "text/html": [
       "<div>\n",
       "<style scoped>\n",
       "    .dataframe tbody tr th:only-of-type {\n",
       "        vertical-align: middle;\n",
       "    }\n",
       "\n",
       "    .dataframe tbody tr th {\n",
       "        vertical-align: top;\n",
       "    }\n",
       "\n",
       "    .dataframe thead th {\n",
       "        text-align: right;\n",
       "    }\n",
       "</style>\n",
       "<table border=\"1\" class=\"dataframe\">\n",
       "  <thead>\n",
       "    <tr style=\"text-align: right;\">\n",
       "      <th></th>\n",
       "      <th>cust_clas_itg_cd</th>\n",
       "      <th>cont_sttus_itg_cd</th>\n",
       "      <th>cust_dtl_ctg_itg_cd</th>\n",
       "      <th>trm_yn</th>\n",
       "    </tr>\n",
       "  </thead>\n",
       "  <tbody>\n",
       "    <tr>\n",
       "      <th>0</th>\n",
       "      <td>0</td>\n",
       "      <td>0</td>\n",
       "      <td>10003</td>\n",
       "      <td>0</td>\n",
       "    </tr>\n",
       "    <tr>\n",
       "      <th>1</th>\n",
       "      <td>1</td>\n",
       "      <td>0</td>\n",
       "      <td>10002</td>\n",
       "      <td>0</td>\n",
       "    </tr>\n",
       "    <tr>\n",
       "      <th>2</th>\n",
       "      <td>1</td>\n",
       "      <td>0</td>\n",
       "      <td>10003</td>\n",
       "      <td>0</td>\n",
       "    </tr>\n",
       "    <tr>\n",
       "      <th>3</th>\n",
       "      <td>5</td>\n",
       "      <td>0</td>\n",
       "      <td>90024</td>\n",
       "      <td>0</td>\n",
       "    </tr>\n",
       "    <tr>\n",
       "      <th>4</th>\n",
       "      <td>1</td>\n",
       "      <td>0</td>\n",
       "      <td>90024</td>\n",
       "      <td>0</td>\n",
       "    </tr>\n",
       "  </tbody>\n",
       "</table>\n",
       "</div>"
      ],
      "text/plain": [
       "   cust_clas_itg_cd  cont_sttus_itg_cd cust_dtl_ctg_itg_cd  trm_yn\n",
       "0                 0                  0               10003       0\n",
       "1                 1                  0               10002       0\n",
       "2                 1                  0               10003       0\n",
       "3                 5                  0               90024       0\n",
       "4                 1                  0               90024       0"
      ]
     },
     "execution_count": 181,
     "metadata": {},
     "output_type": "execute_result"
    }
   ],
   "source": [
    "df1[['cust_clas_itg_cd', 'cont_sttus_itg_cd', 'cust_dtl_ctg_itg_cd', 'trm_yn']].head()"
   ]
  },
  {
   "cell_type": "code",
   "execution_count": 182,
   "metadata": {},
   "outputs": [
    {
     "name": "stdout",
     "output_type": "stream",
     "text": [
      "<class 'pandas.core.frame.DataFrame'>\n",
      "RangeIndex: 1008 entries, 0 to 1007\n",
      "Data columns (total 14 columns):\n",
      " #   Column                          Non-Null Count  Dtype  \n",
      "---  ------                          --------------  -----  \n",
      " 0   voc_prod_sbt_id                 1008 non-null   int64  \n",
      " 1   voc_wjt_sorc_id                 1008 non-null   int64  \n",
      " 2   voc_type_itg_cd                 1008 non-null   int64  \n",
      " 3   voc_sttus_itg_cd                1008 non-null   int64  \n",
      " 4   cust_clas_itg_cd                1008 non-null   int32  \n",
      " 5   bprod_sbt_id                    1008 non-null   int64  \n",
      " 6   age_itg_cd                      1008 non-null   int32  \n",
      " 7   cont_sttus_itg_cd               1008 non-null   int64  \n",
      " 8   cust_dtl_ctg_itg_cd             1008 non-null   object \n",
      " 9   voc_trt_degr_div_itg_cd         1008 non-null   int64  \n",
      " 10  voc_dupl_tmscnt                 1008 non-null   float64\n",
      " 11  voc_trt_need_time_itg_cd        1008 non-null   int64  \n",
      " 12  cust_snsry_base_conf_need_time  1008 non-null   float64\n",
      " 13  trm_yn                          1008 non-null   int32  \n",
      "dtypes: float64(2), int32(3), int64(8), object(1)\n",
      "memory usage: 98.6+ KB\n"
     ]
    }
   ],
   "source": [
    "df1.info()"
   ]
  },
  {
   "cell_type": "markdown",
   "metadata": {},
   "source": [
    "#   \n",
    "# 6. 정규화(MinMaxScaling)"
   ]
  },
  {
   "cell_type": "code",
   "execution_count": 183,
   "metadata": {},
   "outputs": [],
   "source": [
    "from sklearn.preprocessing import MinMaxScaler"
   ]
  },
  {
   "cell_type": "markdown",
   "metadata": {},
   "source": [
    "- voc_prod_sbt_id 데이터 정규화"
   ]
  },
  {
   "cell_type": "code",
   "execution_count": 184,
   "metadata": {},
   "outputs": [
    {
     "data": {
      "text/plain": [
       "array([1000665328, 1001028714, 1001028567, ..., 1001027747, 1001027747,\n",
       "       1001028565], dtype=int64)"
      ]
     },
     "execution_count": 184,
     "metadata": {},
     "output_type": "execute_result"
    }
   ],
   "source": [
    "df1['voc_prod_sbt_id'].values"
   ]
  },
  {
   "cell_type": "code",
   "execution_count": 185,
   "metadata": {},
   "outputs": [],
   "source": [
    "scaler =  MinMaxScaler()"
   ]
  },
  {
   "cell_type": "code",
   "execution_count": 186,
   "metadata": {},
   "outputs": [],
   "source": [
    "# df1['voc_prod_sbt_id'].values.reshape(-1,1)"
   ]
  },
  {
   "cell_type": "code",
   "execution_count": 187,
   "metadata": {},
   "outputs": [],
   "source": [
    "df1['voc_prod_sbt_id'] = scaler.fit_transform(df1['voc_prod_sbt_id'].values.reshape(-1,1))"
   ]
  },
  {
   "cell_type": "code",
   "execution_count": 188,
   "metadata": {},
   "outputs": [
    {
     "data": {
      "text/plain": [
       "(0.0, 1.0)"
      ]
     },
     "execution_count": 188,
     "metadata": {},
     "output_type": "execute_result"
    }
   ],
   "source": [
    "df1['voc_prod_sbt_id'].min(), df1['voc_prod_sbt_id'].max()"
   ]
  },
  {
   "cell_type": "markdown",
   "metadata": {},
   "source": [
    "### 나머지 컬럼도 정규화 :  voc_prod_sbt_id, trm_yn 제외\n",
    "df1.columns.tolist()  \n",
    "column_list = ['voc_wjt_sorc_id',\n",
    " 'voc_type_itg_cd',\n",
    " 'voc_sttus_itg_cd',              \n",
    " 'cust_clas_itg_cd',\n",
    " 'bprod_sbt_id',\n",
    " 'age_itg_cd',\n",
    " 'cont_sttus_itg_cd',\n",
    " 'cust_dtl_ctg_itg_cd',\n",
    " 'voc_trt_degr_div_itg_cd',\n",
    " 'voc_dupl_tmscnt',\n",
    " 'voc_trt_need_time_itg_cd',\n",
    " 'cust_snsry_base_conf_need_time']"
   ]
  },
  {
   "cell_type": "code",
   "execution_count": 189,
   "metadata": {},
   "outputs": [],
   "source": [
    "# df1.columns.tolist()"
   ]
  },
  {
   "cell_type": "code",
   "execution_count": 190,
   "metadata": {},
   "outputs": [],
   "source": [
    "column_list = ['voc_wjt_sorc_id',\n",
    "               'voc_type_itg_cd', \n",
    "               'voc_sttus_itg_cd',              \n",
    "               'cust_clas_itg_cd',\n",
    "               'bprod_sbt_id',\n",
    "               'age_itg_cd',\n",
    "               'cont_sttus_itg_cd',\n",
    "               'cust_dtl_ctg_itg_cd',\n",
    "               'voc_trt_degr_div_itg_cd',\n",
    "               'voc_dupl_tmscnt',\n",
    "               'voc_trt_need_time_itg_cd',\n",
    "               'cust_snsry_base_conf_need_time']"
   ]
  },
  {
   "cell_type": "code",
   "execution_count": 191,
   "metadata": {},
   "outputs": [
    {
     "name": "stdout",
     "output_type": "stream",
     "text": [
      "voc_wjt_sorc_id\n",
      "voc_type_itg_cd\n",
      "voc_sttus_itg_cd\n",
      "cust_clas_itg_cd\n",
      "bprod_sbt_id\n",
      "age_itg_cd\n",
      "cont_sttus_itg_cd\n",
      "cust_dtl_ctg_itg_cd\n",
      "voc_trt_degr_div_itg_cd\n",
      "voc_dupl_tmscnt\n",
      "voc_trt_need_time_itg_cd\n",
      "cust_snsry_base_conf_need_time\n"
     ]
    }
   ],
   "source": [
    "for col in column_list:\n",
    "    print(col)\n",
    "    df1[col] = MinMaxScaler().fit_transform(df1[col].values.reshape(-1,1))"
   ]
  },
  {
   "cell_type": "code",
   "execution_count": 192,
   "metadata": {},
   "outputs": [
    {
     "data": {
      "text/html": [
       "<div>\n",
       "<style scoped>\n",
       "    .dataframe tbody tr th:only-of-type {\n",
       "        vertical-align: middle;\n",
       "    }\n",
       "\n",
       "    .dataframe tbody tr th {\n",
       "        vertical-align: top;\n",
       "    }\n",
       "\n",
       "    .dataframe thead th {\n",
       "        text-align: right;\n",
       "    }\n",
       "</style>\n",
       "<table border=\"1\" class=\"dataframe\">\n",
       "  <thead>\n",
       "    <tr style=\"text-align: right;\">\n",
       "      <th></th>\n",
       "      <th>voc_prod_sbt_id</th>\n",
       "      <th>voc_wjt_sorc_id</th>\n",
       "      <th>voc_type_itg_cd</th>\n",
       "      <th>voc_sttus_itg_cd</th>\n",
       "      <th>cust_clas_itg_cd</th>\n",
       "      <th>bprod_sbt_id</th>\n",
       "      <th>age_itg_cd</th>\n",
       "      <th>cont_sttus_itg_cd</th>\n",
       "      <th>cust_dtl_ctg_itg_cd</th>\n",
       "      <th>voc_trt_degr_div_itg_cd</th>\n",
       "      <th>voc_dupl_tmscnt</th>\n",
       "      <th>voc_trt_need_time_itg_cd</th>\n",
       "      <th>cust_snsry_base_conf_need_time</th>\n",
       "      <th>trm_yn</th>\n",
       "    </tr>\n",
       "  </thead>\n",
       "  <tbody>\n",
       "    <tr>\n",
       "      <th>0</th>\n",
       "      <td>0.999586</td>\n",
       "      <td>0.543432</td>\n",
       "      <td>0.75</td>\n",
       "      <td>0.0</td>\n",
       "      <td>0.000000</td>\n",
       "      <td>0.998924</td>\n",
       "      <td>0.344828</td>\n",
       "      <td>0.0</td>\n",
       "      <td>0.000025</td>\n",
       "      <td>0.0</td>\n",
       "      <td>0.0</td>\n",
       "      <td>0.0</td>\n",
       "      <td>0.0</td>\n",
       "      <td>0</td>\n",
       "    </tr>\n",
       "    <tr>\n",
       "      <th>1</th>\n",
       "      <td>0.999949</td>\n",
       "      <td>0.853887</td>\n",
       "      <td>0.75</td>\n",
       "      <td>0.0</td>\n",
       "      <td>0.166667</td>\n",
       "      <td>0.999774</td>\n",
       "      <td>0.298851</td>\n",
       "      <td>0.0</td>\n",
       "      <td>0.000012</td>\n",
       "      <td>0.0</td>\n",
       "      <td>0.0</td>\n",
       "      <td>0.0</td>\n",
       "      <td>0.0</td>\n",
       "      <td>0</td>\n",
       "    </tr>\n",
       "    <tr>\n",
       "      <th>2</th>\n",
       "      <td>0.999949</td>\n",
       "      <td>0.388472</td>\n",
       "      <td>0.75</td>\n",
       "      <td>0.0</td>\n",
       "      <td>0.166667</td>\n",
       "      <td>0.999774</td>\n",
       "      <td>0.528736</td>\n",
       "      <td>0.0</td>\n",
       "      <td>0.000025</td>\n",
       "      <td>0.0</td>\n",
       "      <td>0.0</td>\n",
       "      <td>0.0</td>\n",
       "      <td>0.0</td>\n",
       "      <td>0</td>\n",
       "    </tr>\n",
       "    <tr>\n",
       "      <th>3</th>\n",
       "      <td>0.999586</td>\n",
       "      <td>0.916890</td>\n",
       "      <td>0.75</td>\n",
       "      <td>0.0</td>\n",
       "      <td>0.833333</td>\n",
       "      <td>0.998924</td>\n",
       "      <td>0.482759</td>\n",
       "      <td>0.0</td>\n",
       "      <td>0.999600</td>\n",
       "      <td>0.0</td>\n",
       "      <td>0.0</td>\n",
       "      <td>0.0</td>\n",
       "      <td>0.0</td>\n",
       "      <td>0</td>\n",
       "    </tr>\n",
       "    <tr>\n",
       "      <th>4</th>\n",
       "      <td>0.999700</td>\n",
       "      <td>0.793566</td>\n",
       "      <td>0.75</td>\n",
       "      <td>0.0</td>\n",
       "      <td>0.166667</td>\n",
       "      <td>0.999687</td>\n",
       "      <td>0.505747</td>\n",
       "      <td>0.0</td>\n",
       "      <td>0.999600</td>\n",
       "      <td>0.0</td>\n",
       "      <td>0.0</td>\n",
       "      <td>0.0</td>\n",
       "      <td>0.0</td>\n",
       "      <td>0</td>\n",
       "    </tr>\n",
       "  </tbody>\n",
       "</table>\n",
       "</div>"
      ],
      "text/plain": [
       "   voc_prod_sbt_id  voc_wjt_sorc_id  voc_type_itg_cd  voc_sttus_itg_cd  \\\n",
       "0         0.999586         0.543432             0.75               0.0   \n",
       "1         0.999949         0.853887             0.75               0.0   \n",
       "2         0.999949         0.388472             0.75               0.0   \n",
       "3         0.999586         0.916890             0.75               0.0   \n",
       "4         0.999700         0.793566             0.75               0.0   \n",
       "\n",
       "   cust_clas_itg_cd  bprod_sbt_id  age_itg_cd  cont_sttus_itg_cd  \\\n",
       "0          0.000000      0.998924    0.344828                0.0   \n",
       "1          0.166667      0.999774    0.298851                0.0   \n",
       "2          0.166667      0.999774    0.528736                0.0   \n",
       "3          0.833333      0.998924    0.482759                0.0   \n",
       "4          0.166667      0.999687    0.505747                0.0   \n",
       "\n",
       "   cust_dtl_ctg_itg_cd  voc_trt_degr_div_itg_cd  voc_dupl_tmscnt  \\\n",
       "0             0.000025                      0.0              0.0   \n",
       "1             0.000012                      0.0              0.0   \n",
       "2             0.000025                      0.0              0.0   \n",
       "3             0.999600                      0.0              0.0   \n",
       "4             0.999600                      0.0              0.0   \n",
       "\n",
       "   voc_trt_need_time_itg_cd  cust_snsry_base_conf_need_time  trm_yn  \n",
       "0                       0.0                             0.0       0  \n",
       "1                       0.0                             0.0       0  \n",
       "2                       0.0                             0.0       0  \n",
       "3                       0.0                             0.0       0  \n",
       "4                       0.0                             0.0       0  "
      ]
     },
     "execution_count": 192,
     "metadata": {},
     "output_type": "execute_result"
    }
   ],
   "source": [
    "df1.head()"
   ]
  },
  {
   "cell_type": "markdown",
   "metadata": {},
   "source": [
    "### 전처리가 완료된 데이터를 파일로 저장"
   ]
  },
  {
   "cell_type": "code",
   "execution_count": 193,
   "metadata": {},
   "outputs": [
    {
     "data": {
      "text/html": [
       "<div>\n",
       "<style scoped>\n",
       "    .dataframe tbody tr th:only-of-type {\n",
       "        vertical-align: middle;\n",
       "    }\n",
       "\n",
       "    .dataframe tbody tr th {\n",
       "        vertical-align: top;\n",
       "    }\n",
       "\n",
       "    .dataframe thead th {\n",
       "        text-align: right;\n",
       "    }\n",
       "</style>\n",
       "<table border=\"1\" class=\"dataframe\">\n",
       "  <thead>\n",
       "    <tr style=\"text-align: right;\">\n",
       "      <th></th>\n",
       "      <th>voc_prod_sbt_id</th>\n",
       "      <th>voc_wjt_sorc_id</th>\n",
       "      <th>voc_type_itg_cd</th>\n",
       "      <th>voc_sttus_itg_cd</th>\n",
       "      <th>cust_clas_itg_cd</th>\n",
       "      <th>bprod_sbt_id</th>\n",
       "      <th>age_itg_cd</th>\n",
       "      <th>cont_sttus_itg_cd</th>\n",
       "      <th>cust_dtl_ctg_itg_cd</th>\n",
       "      <th>voc_trt_degr_div_itg_cd</th>\n",
       "      <th>voc_dupl_tmscnt</th>\n",
       "      <th>voc_trt_need_time_itg_cd</th>\n",
       "      <th>cust_snsry_base_conf_need_time</th>\n",
       "      <th>trm_yn</th>\n",
       "    </tr>\n",
       "  </thead>\n",
       "  <tbody>\n",
       "    <tr>\n",
       "      <th>0</th>\n",
       "      <td>0.999586</td>\n",
       "      <td>0.543432</td>\n",
       "      <td>0.75</td>\n",
       "      <td>0.0</td>\n",
       "      <td>0.000000</td>\n",
       "      <td>0.998924</td>\n",
       "      <td>0.344828</td>\n",
       "      <td>0.0</td>\n",
       "      <td>0.000025</td>\n",
       "      <td>0.0</td>\n",
       "      <td>0.0</td>\n",
       "      <td>0.0</td>\n",
       "      <td>0.0</td>\n",
       "      <td>0</td>\n",
       "    </tr>\n",
       "    <tr>\n",
       "      <th>1</th>\n",
       "      <td>0.999949</td>\n",
       "      <td>0.853887</td>\n",
       "      <td>0.75</td>\n",
       "      <td>0.0</td>\n",
       "      <td>0.166667</td>\n",
       "      <td>0.999774</td>\n",
       "      <td>0.298851</td>\n",
       "      <td>0.0</td>\n",
       "      <td>0.000012</td>\n",
       "      <td>0.0</td>\n",
       "      <td>0.0</td>\n",
       "      <td>0.0</td>\n",
       "      <td>0.0</td>\n",
       "      <td>0</td>\n",
       "    </tr>\n",
       "    <tr>\n",
       "      <th>2</th>\n",
       "      <td>0.999949</td>\n",
       "      <td>0.388472</td>\n",
       "      <td>0.75</td>\n",
       "      <td>0.0</td>\n",
       "      <td>0.166667</td>\n",
       "      <td>0.999774</td>\n",
       "      <td>0.528736</td>\n",
       "      <td>0.0</td>\n",
       "      <td>0.000025</td>\n",
       "      <td>0.0</td>\n",
       "      <td>0.0</td>\n",
       "      <td>0.0</td>\n",
       "      <td>0.0</td>\n",
       "      <td>0</td>\n",
       "    </tr>\n",
       "    <tr>\n",
       "      <th>3</th>\n",
       "      <td>0.999586</td>\n",
       "      <td>0.916890</td>\n",
       "      <td>0.75</td>\n",
       "      <td>0.0</td>\n",
       "      <td>0.833333</td>\n",
       "      <td>0.998924</td>\n",
       "      <td>0.482759</td>\n",
       "      <td>0.0</td>\n",
       "      <td>0.999600</td>\n",
       "      <td>0.0</td>\n",
       "      <td>0.0</td>\n",
       "      <td>0.0</td>\n",
       "      <td>0.0</td>\n",
       "      <td>0</td>\n",
       "    </tr>\n",
       "    <tr>\n",
       "      <th>4</th>\n",
       "      <td>0.999700</td>\n",
       "      <td>0.793566</td>\n",
       "      <td>0.75</td>\n",
       "      <td>0.0</td>\n",
       "      <td>0.166667</td>\n",
       "      <td>0.999687</td>\n",
       "      <td>0.505747</td>\n",
       "      <td>0.0</td>\n",
       "      <td>0.999600</td>\n",
       "      <td>0.0</td>\n",
       "      <td>0.0</td>\n",
       "      <td>0.0</td>\n",
       "      <td>0.0</td>\n",
       "      <td>0</td>\n",
       "    </tr>\n",
       "  </tbody>\n",
       "</table>\n",
       "</div>"
      ],
      "text/plain": [
       "   voc_prod_sbt_id  voc_wjt_sorc_id  voc_type_itg_cd  voc_sttus_itg_cd  \\\n",
       "0         0.999586         0.543432             0.75               0.0   \n",
       "1         0.999949         0.853887             0.75               0.0   \n",
       "2         0.999949         0.388472             0.75               0.0   \n",
       "3         0.999586         0.916890             0.75               0.0   \n",
       "4         0.999700         0.793566             0.75               0.0   \n",
       "\n",
       "   cust_clas_itg_cd  bprod_sbt_id  age_itg_cd  cont_sttus_itg_cd  \\\n",
       "0          0.000000      0.998924    0.344828                0.0   \n",
       "1          0.166667      0.999774    0.298851                0.0   \n",
       "2          0.166667      0.999774    0.528736                0.0   \n",
       "3          0.833333      0.998924    0.482759                0.0   \n",
       "4          0.166667      0.999687    0.505747                0.0   \n",
       "\n",
       "   cust_dtl_ctg_itg_cd  voc_trt_degr_div_itg_cd  voc_dupl_tmscnt  \\\n",
       "0             0.000025                      0.0              0.0   \n",
       "1             0.000012                      0.0              0.0   \n",
       "2             0.000025                      0.0              0.0   \n",
       "3             0.999600                      0.0              0.0   \n",
       "4             0.999600                      0.0              0.0   \n",
       "\n",
       "   voc_trt_need_time_itg_cd  cust_snsry_base_conf_need_time  trm_yn  \n",
       "0                       0.0                             0.0       0  \n",
       "1                       0.0                             0.0       0  \n",
       "2                       0.0                             0.0       0  \n",
       "3                       0.0                             0.0       0  \n",
       "4                       0.0                             0.0       0  "
      ]
     },
     "execution_count": 193,
     "metadata": {},
     "output_type": "execute_result"
    }
   ],
   "source": [
    "df1.head()"
   ]
  },
  {
   "cell_type": "code",
   "execution_count": 194,
   "metadata": {},
   "outputs": [],
   "source": [
    "df1.to_csv('preprocessd_data.csv', index=False)"
   ]
  },
  {
   "cell_type": "markdown",
   "metadata": {},
   "source": [
    "# \n",
    "# 7. Train, Test 데이터셋 분할하기"
   ]
  },
  {
   "cell_type": "code",
   "execution_count": 260,
   "metadata": {},
   "outputs": [],
   "source": [
    "df1 = pd.read_csv('preprocessd_data.csv')"
   ]
  },
  {
   "cell_type": "code",
   "execution_count": 261,
   "metadata": {},
   "outputs": [
    {
     "data": {
      "text/html": [
       "<div>\n",
       "<style scoped>\n",
       "    .dataframe tbody tr th:only-of-type {\n",
       "        vertical-align: middle;\n",
       "    }\n",
       "\n",
       "    .dataframe tbody tr th {\n",
       "        vertical-align: top;\n",
       "    }\n",
       "\n",
       "    .dataframe thead th {\n",
       "        text-align: right;\n",
       "    }\n",
       "</style>\n",
       "<table border=\"1\" class=\"dataframe\">\n",
       "  <thead>\n",
       "    <tr style=\"text-align: right;\">\n",
       "      <th></th>\n",
       "      <th>voc_prod_sbt_id</th>\n",
       "      <th>voc_wjt_sorc_id</th>\n",
       "      <th>voc_type_itg_cd</th>\n",
       "      <th>voc_sttus_itg_cd</th>\n",
       "      <th>cust_clas_itg_cd</th>\n",
       "      <th>bprod_sbt_id</th>\n",
       "      <th>age_itg_cd</th>\n",
       "      <th>cont_sttus_itg_cd</th>\n",
       "      <th>cust_dtl_ctg_itg_cd</th>\n",
       "      <th>voc_trt_degr_div_itg_cd</th>\n",
       "      <th>voc_dupl_tmscnt</th>\n",
       "      <th>voc_trt_need_time_itg_cd</th>\n",
       "      <th>cust_snsry_base_conf_need_time</th>\n",
       "      <th>trm_yn</th>\n",
       "    </tr>\n",
       "  </thead>\n",
       "  <tbody>\n",
       "    <tr>\n",
       "      <th>0</th>\n",
       "      <td>0.999586</td>\n",
       "      <td>0.543432</td>\n",
       "      <td>0.75</td>\n",
       "      <td>0.0</td>\n",
       "      <td>0.000000</td>\n",
       "      <td>0.998924</td>\n",
       "      <td>0.344828</td>\n",
       "      <td>0.0</td>\n",
       "      <td>0.000025</td>\n",
       "      <td>0.0</td>\n",
       "      <td>0.0</td>\n",
       "      <td>0.0</td>\n",
       "      <td>0.0</td>\n",
       "      <td>0</td>\n",
       "    </tr>\n",
       "    <tr>\n",
       "      <th>1</th>\n",
       "      <td>0.999949</td>\n",
       "      <td>0.853887</td>\n",
       "      <td>0.75</td>\n",
       "      <td>0.0</td>\n",
       "      <td>0.166667</td>\n",
       "      <td>0.999774</td>\n",
       "      <td>0.298851</td>\n",
       "      <td>0.0</td>\n",
       "      <td>0.000012</td>\n",
       "      <td>0.0</td>\n",
       "      <td>0.0</td>\n",
       "      <td>0.0</td>\n",
       "      <td>0.0</td>\n",
       "      <td>0</td>\n",
       "    </tr>\n",
       "    <tr>\n",
       "      <th>2</th>\n",
       "      <td>0.999949</td>\n",
       "      <td>0.388472</td>\n",
       "      <td>0.75</td>\n",
       "      <td>0.0</td>\n",
       "      <td>0.166667</td>\n",
       "      <td>0.999774</td>\n",
       "      <td>0.528736</td>\n",
       "      <td>0.0</td>\n",
       "      <td>0.000025</td>\n",
       "      <td>0.0</td>\n",
       "      <td>0.0</td>\n",
       "      <td>0.0</td>\n",
       "      <td>0.0</td>\n",
       "      <td>0</td>\n",
       "    </tr>\n",
       "    <tr>\n",
       "      <th>3</th>\n",
       "      <td>0.999586</td>\n",
       "      <td>0.916890</td>\n",
       "      <td>0.75</td>\n",
       "      <td>0.0</td>\n",
       "      <td>0.833333</td>\n",
       "      <td>0.998924</td>\n",
       "      <td>0.482759</td>\n",
       "      <td>0.0</td>\n",
       "      <td>0.999600</td>\n",
       "      <td>0.0</td>\n",
       "      <td>0.0</td>\n",
       "      <td>0.0</td>\n",
       "      <td>0.0</td>\n",
       "      <td>0</td>\n",
       "    </tr>\n",
       "    <tr>\n",
       "      <th>4</th>\n",
       "      <td>0.999700</td>\n",
       "      <td>0.793566</td>\n",
       "      <td>0.75</td>\n",
       "      <td>0.0</td>\n",
       "      <td>0.166667</td>\n",
       "      <td>0.999687</td>\n",
       "      <td>0.505747</td>\n",
       "      <td>0.0</td>\n",
       "      <td>0.999600</td>\n",
       "      <td>0.0</td>\n",
       "      <td>0.0</td>\n",
       "      <td>0.0</td>\n",
       "      <td>0.0</td>\n",
       "      <td>0</td>\n",
       "    </tr>\n",
       "  </tbody>\n",
       "</table>\n",
       "</div>"
      ],
      "text/plain": [
       "   voc_prod_sbt_id  voc_wjt_sorc_id  voc_type_itg_cd  voc_sttus_itg_cd  \\\n",
       "0         0.999586         0.543432             0.75               0.0   \n",
       "1         0.999949         0.853887             0.75               0.0   \n",
       "2         0.999949         0.388472             0.75               0.0   \n",
       "3         0.999586         0.916890             0.75               0.0   \n",
       "4         0.999700         0.793566             0.75               0.0   \n",
       "\n",
       "   cust_clas_itg_cd  bprod_sbt_id  age_itg_cd  cont_sttus_itg_cd  \\\n",
       "0          0.000000      0.998924    0.344828                0.0   \n",
       "1          0.166667      0.999774    0.298851                0.0   \n",
       "2          0.166667      0.999774    0.528736                0.0   \n",
       "3          0.833333      0.998924    0.482759                0.0   \n",
       "4          0.166667      0.999687    0.505747                0.0   \n",
       "\n",
       "   cust_dtl_ctg_itg_cd  voc_trt_degr_div_itg_cd  voc_dupl_tmscnt  \\\n",
       "0             0.000025                      0.0              0.0   \n",
       "1             0.000012                      0.0              0.0   \n",
       "2             0.000025                      0.0              0.0   \n",
       "3             0.999600                      0.0              0.0   \n",
       "4             0.999600                      0.0              0.0   \n",
       "\n",
       "   voc_trt_need_time_itg_cd  cust_snsry_base_conf_need_time  trm_yn  \n",
       "0                       0.0                             0.0       0  \n",
       "1                       0.0                             0.0       0  \n",
       "2                       0.0                             0.0       0  \n",
       "3                       0.0                             0.0       0  \n",
       "4                       0.0                             0.0       0  "
      ]
     },
     "execution_count": 261,
     "metadata": {},
     "output_type": "execute_result"
    }
   ],
   "source": [
    "df1.head()"
   ]
  },
  {
   "cell_type": "markdown",
   "metadata": {},
   "source": [
    "### 입력데이터(X)와 레이블(y) 선택"
   ]
  },
  {
   "cell_type": "code",
   "execution_count": 262,
   "metadata": {},
   "outputs": [],
   "source": [
    "X = df1.drop(columns=['trm_yn']).values"
   ]
  },
  {
   "cell_type": "code",
   "execution_count": 263,
   "metadata": {},
   "outputs": [
    {
     "data": {
      "text/plain": [
       "(1008, 13)"
      ]
     },
     "execution_count": 263,
     "metadata": {},
     "output_type": "execute_result"
    }
   ],
   "source": [
    "X.shape"
   ]
  },
  {
   "cell_type": "code",
   "execution_count": 264,
   "metadata": {},
   "outputs": [],
   "source": [
    "y = df1['trm_yn'].values"
   ]
  },
  {
   "cell_type": "code",
   "execution_count": 265,
   "metadata": {},
   "outputs": [
    {
     "data": {
      "text/plain": [
       "(1008,)"
      ]
     },
     "execution_count": 265,
     "metadata": {},
     "output_type": "execute_result"
    }
   ],
   "source": [
    "y.shape"
   ]
  },
  {
   "cell_type": "code",
   "execution_count": 266,
   "metadata": {},
   "outputs": [],
   "source": [
    "from sklearn.model_selection import train_test_split"
   ]
  },
  {
   "cell_type": "code",
   "execution_count": 267,
   "metadata": {},
   "outputs": [],
   "source": [
    "X_train, X_test, y_train, y_test = train_test_split(X, y, stratify=y, random_state=0)"
   ]
  },
  {
   "cell_type": "code",
   "execution_count": 268,
   "metadata": {},
   "outputs": [
    {
     "data": {
      "text/plain": [
       "(756, 13)"
      ]
     },
     "execution_count": 268,
     "metadata": {},
     "output_type": "execute_result"
    }
   ],
   "source": [
    "X_train.shape"
   ]
  },
  {
   "cell_type": "code",
   "execution_count": 269,
   "metadata": {},
   "outputs": [
    {
     "data": {
      "text/plain": [
       "(252, 13)"
      ]
     },
     "execution_count": 269,
     "metadata": {},
     "output_type": "execute_result"
    }
   ],
   "source": [
    "X_test.shape"
   ]
  },
  {
   "cell_type": "code",
   "execution_count": 270,
   "metadata": {},
   "outputs": [
    {
     "data": {
      "text/plain": [
       "array([[9.99948381e-01, 9.12600536e-01, 7.50000000e-01, 0.00000000e+00,\n",
       "        6.66666667e-01, 9.99624972e-01, 2.87356322e-01, 0.00000000e+00,\n",
       "        2.49828243e-05, 0.00000000e+00, 1.00000000e+00, 0.00000000e+00,\n",
       "        0.00000000e+00]])"
      ]
     },
     "execution_count": 270,
     "metadata": {},
     "output_type": "execute_result"
    }
   ],
   "source": [
    "X_train[:1]"
   ]
  },
  {
   "cell_type": "code",
   "execution_count": 271,
   "metadata": {},
   "outputs": [
    {
     "data": {
      "text/plain": [
       "array([0], dtype=int64)"
      ]
     },
     "execution_count": 271,
     "metadata": {},
     "output_type": "execute_result"
    }
   ],
   "source": [
    "y_train[:1]"
   ]
  },
  {
   "cell_type": "markdown",
   "metadata": {},
   "source": [
    "### 데이터 시각화"
   ]
  },
  {
   "cell_type": "markdown",
   "metadata": {},
   "source": [
    "- 데이터 상관관계(correlation) 확인"
   ]
  },
  {
   "cell_type": "code",
   "execution_count": 272,
   "metadata": {
    "scrolled": true
   },
   "outputs": [
    {
     "data": {
      "text/html": [
       "<div>\n",
       "<style scoped>\n",
       "    .dataframe tbody tr th:only-of-type {\n",
       "        vertical-align: middle;\n",
       "    }\n",
       "\n",
       "    .dataframe tbody tr th {\n",
       "        vertical-align: top;\n",
       "    }\n",
       "\n",
       "    .dataframe thead th {\n",
       "        text-align: right;\n",
       "    }\n",
       "</style>\n",
       "<table border=\"1\" class=\"dataframe\">\n",
       "  <thead>\n",
       "    <tr style=\"text-align: right;\">\n",
       "      <th></th>\n",
       "      <th>voc_prod_sbt_id</th>\n",
       "      <th>voc_wjt_sorc_id</th>\n",
       "      <th>voc_type_itg_cd</th>\n",
       "      <th>voc_sttus_itg_cd</th>\n",
       "      <th>cust_clas_itg_cd</th>\n",
       "      <th>bprod_sbt_id</th>\n",
       "      <th>age_itg_cd</th>\n",
       "      <th>cont_sttus_itg_cd</th>\n",
       "      <th>cust_dtl_ctg_itg_cd</th>\n",
       "      <th>voc_trt_degr_div_itg_cd</th>\n",
       "      <th>voc_dupl_tmscnt</th>\n",
       "      <th>voc_trt_need_time_itg_cd</th>\n",
       "      <th>cust_snsry_base_conf_need_time</th>\n",
       "      <th>trm_yn</th>\n",
       "    </tr>\n",
       "  </thead>\n",
       "  <tbody>\n",
       "    <tr>\n",
       "      <th>voc_prod_sbt_id</th>\n",
       "      <td>1.000000</td>\n",
       "      <td>0.007781</td>\n",
       "      <td>0.359078</td>\n",
       "      <td>0.015236</td>\n",
       "      <td>0.004611</td>\n",
       "      <td>-0.041837</td>\n",
       "      <td>-0.025676</td>\n",
       "      <td>0.030626</td>\n",
       "      <td>-0.015780</td>\n",
       "      <td>0.031132</td>\n",
       "      <td>0.009258</td>\n",
       "      <td>-0.060884</td>\n",
       "      <td>0.003554</td>\n",
       "      <td>0.013538</td>\n",
       "    </tr>\n",
       "    <tr>\n",
       "      <th>voc_wjt_sorc_id</th>\n",
       "      <td>0.007781</td>\n",
       "      <td>1.000000</td>\n",
       "      <td>0.034400</td>\n",
       "      <td>-0.025121</td>\n",
       "      <td>0.061479</td>\n",
       "      <td>-0.099434</td>\n",
       "      <td>0.028240</td>\n",
       "      <td>-0.023555</td>\n",
       "      <td>-0.078514</td>\n",
       "      <td>0.038134</td>\n",
       "      <td>0.041228</td>\n",
       "      <td>-0.006177</td>\n",
       "      <td>0.065062</td>\n",
       "      <td>0.128897</td>\n",
       "    </tr>\n",
       "    <tr>\n",
       "      <th>voc_type_itg_cd</th>\n",
       "      <td>0.359078</td>\n",
       "      <td>0.034400</td>\n",
       "      <td>1.000000</td>\n",
       "      <td>-0.044550</td>\n",
       "      <td>0.028270</td>\n",
       "      <td>-0.115274</td>\n",
       "      <td>-0.071957</td>\n",
       "      <td>0.057101</td>\n",
       "      <td>-0.096103</td>\n",
       "      <td>-0.122135</td>\n",
       "      <td>-0.030493</td>\n",
       "      <td>-0.152237</td>\n",
       "      <td>0.009837</td>\n",
       "      <td>0.000029</td>\n",
       "    </tr>\n",
       "    <tr>\n",
       "      <th>voc_sttus_itg_cd</th>\n",
       "      <td>0.015236</td>\n",
       "      <td>-0.025121</td>\n",
       "      <td>-0.044550</td>\n",
       "      <td>1.000000</td>\n",
       "      <td>0.040812</td>\n",
       "      <td>0.024235</td>\n",
       "      <td>-0.035165</td>\n",
       "      <td>0.065224</td>\n",
       "      <td>-0.043478</td>\n",
       "      <td>0.231308</td>\n",
       "      <td>0.027270</td>\n",
       "      <td>0.742378</td>\n",
       "      <td>-0.004294</td>\n",
       "      <td>-0.017064</td>\n",
       "    </tr>\n",
       "    <tr>\n",
       "      <th>cust_clas_itg_cd</th>\n",
       "      <td>0.004611</td>\n",
       "      <td>0.061479</td>\n",
       "      <td>0.028270</td>\n",
       "      <td>0.040812</td>\n",
       "      <td>1.000000</td>\n",
       "      <td>-0.316390</td>\n",
       "      <td>-0.122170</td>\n",
       "      <td>-0.133425</td>\n",
       "      <td>0.057156</td>\n",
       "      <td>-0.039095</td>\n",
       "      <td>0.025594</td>\n",
       "      <td>0.027504</td>\n",
       "      <td>0.025590</td>\n",
       "      <td>-0.086005</td>\n",
       "    </tr>\n",
       "    <tr>\n",
       "      <th>bprod_sbt_id</th>\n",
       "      <td>-0.041837</td>\n",
       "      <td>-0.099434</td>\n",
       "      <td>-0.115274</td>\n",
       "      <td>0.024235</td>\n",
       "      <td>-0.316390</td>\n",
       "      <td>1.000000</td>\n",
       "      <td>0.005315</td>\n",
       "      <td>0.106585</td>\n",
       "      <td>0.187280</td>\n",
       "      <td>0.018112</td>\n",
       "      <td>0.032026</td>\n",
       "      <td>0.033465</td>\n",
       "      <td>0.011937</td>\n",
       "      <td>0.046999</td>\n",
       "    </tr>\n",
       "    <tr>\n",
       "      <th>age_itg_cd</th>\n",
       "      <td>-0.025676</td>\n",
       "      <td>0.028240</td>\n",
       "      <td>-0.071957</td>\n",
       "      <td>-0.035165</td>\n",
       "      <td>-0.122170</td>\n",
       "      <td>0.005315</td>\n",
       "      <td>1.000000</td>\n",
       "      <td>-0.012683</td>\n",
       "      <td>0.039644</td>\n",
       "      <td>0.027999</td>\n",
       "      <td>-0.029451</td>\n",
       "      <td>0.009443</td>\n",
       "      <td>-0.012135</td>\n",
       "      <td>-0.045966</td>\n",
       "    </tr>\n",
       "    <tr>\n",
       "      <th>cont_sttus_itg_cd</th>\n",
       "      <td>0.030626</td>\n",
       "      <td>-0.023555</td>\n",
       "      <td>0.057101</td>\n",
       "      <td>0.065224</td>\n",
       "      <td>-0.133425</td>\n",
       "      <td>0.106585</td>\n",
       "      <td>-0.012683</td>\n",
       "      <td>1.000000</td>\n",
       "      <td>0.020766</td>\n",
       "      <td>0.096744</td>\n",
       "      <td>0.019424</td>\n",
       "      <td>0.080204</td>\n",
       "      <td>0.104523</td>\n",
       "      <td>0.017042</td>\n",
       "    </tr>\n",
       "    <tr>\n",
       "      <th>cust_dtl_ctg_itg_cd</th>\n",
       "      <td>-0.015780</td>\n",
       "      <td>-0.078514</td>\n",
       "      <td>-0.096103</td>\n",
       "      <td>-0.043478</td>\n",
       "      <td>0.057156</td>\n",
       "      <td>0.187280</td>\n",
       "      <td>0.039644</td>\n",
       "      <td>0.020766</td>\n",
       "      <td>1.000000</td>\n",
       "      <td>-0.014441</td>\n",
       "      <td>0.049766</td>\n",
       "      <td>-0.029496</td>\n",
       "      <td>-0.015476</td>\n",
       "      <td>-0.018712</td>\n",
       "    </tr>\n",
       "    <tr>\n",
       "      <th>voc_trt_degr_div_itg_cd</th>\n",
       "      <td>0.031132</td>\n",
       "      <td>0.038134</td>\n",
       "      <td>-0.122135</td>\n",
       "      <td>0.231308</td>\n",
       "      <td>-0.039095</td>\n",
       "      <td>0.018112</td>\n",
       "      <td>0.027999</td>\n",
       "      <td>0.096744</td>\n",
       "      <td>-0.014441</td>\n",
       "      <td>1.000000</td>\n",
       "      <td>0.021813</td>\n",
       "      <td>0.449008</td>\n",
       "      <td>0.113305</td>\n",
       "      <td>0.090044</td>\n",
       "    </tr>\n",
       "    <tr>\n",
       "      <th>voc_dupl_tmscnt</th>\n",
       "      <td>0.009258</td>\n",
       "      <td>0.041228</td>\n",
       "      <td>-0.030493</td>\n",
       "      <td>0.027270</td>\n",
       "      <td>0.025594</td>\n",
       "      <td>0.032026</td>\n",
       "      <td>-0.029451</td>\n",
       "      <td>0.019424</td>\n",
       "      <td>0.049766</td>\n",
       "      <td>0.021813</td>\n",
       "      <td>1.000000</td>\n",
       "      <td>0.056615</td>\n",
       "      <td>-0.002686</td>\n",
       "      <td>-0.010278</td>\n",
       "    </tr>\n",
       "    <tr>\n",
       "      <th>voc_trt_need_time_itg_cd</th>\n",
       "      <td>-0.060884</td>\n",
       "      <td>-0.006177</td>\n",
       "      <td>-0.152237</td>\n",
       "      <td>0.742378</td>\n",
       "      <td>0.027504</td>\n",
       "      <td>0.033465</td>\n",
       "      <td>0.009443</td>\n",
       "      <td>0.080204</td>\n",
       "      <td>-0.029496</td>\n",
       "      <td>0.449008</td>\n",
       "      <td>0.056615</td>\n",
       "      <td>1.000000</td>\n",
       "      <td>-0.007562</td>\n",
       "      <td>0.021026</td>\n",
       "    </tr>\n",
       "    <tr>\n",
       "      <th>cust_snsry_base_conf_need_time</th>\n",
       "      <td>0.003554</td>\n",
       "      <td>0.065062</td>\n",
       "      <td>0.009837</td>\n",
       "      <td>-0.004294</td>\n",
       "      <td>0.025590</td>\n",
       "      <td>0.011937</td>\n",
       "      <td>-0.012135</td>\n",
       "      <td>0.104523</td>\n",
       "      <td>-0.015476</td>\n",
       "      <td>0.113305</td>\n",
       "      <td>-0.002686</td>\n",
       "      <td>-0.007562</td>\n",
       "      <td>1.000000</td>\n",
       "      <td>-0.003106</td>\n",
       "    </tr>\n",
       "    <tr>\n",
       "      <th>trm_yn</th>\n",
       "      <td>0.013538</td>\n",
       "      <td>0.128897</td>\n",
       "      <td>0.000029</td>\n",
       "      <td>-0.017064</td>\n",
       "      <td>-0.086005</td>\n",
       "      <td>0.046999</td>\n",
       "      <td>-0.045966</td>\n",
       "      <td>0.017042</td>\n",
       "      <td>-0.018712</td>\n",
       "      <td>0.090044</td>\n",
       "      <td>-0.010278</td>\n",
       "      <td>0.021026</td>\n",
       "      <td>-0.003106</td>\n",
       "      <td>1.000000</td>\n",
       "    </tr>\n",
       "  </tbody>\n",
       "</table>\n",
       "</div>"
      ],
      "text/plain": [
       "                                voc_prod_sbt_id  voc_wjt_sorc_id  \\\n",
       "voc_prod_sbt_id                        1.000000         0.007781   \n",
       "voc_wjt_sorc_id                        0.007781         1.000000   \n",
       "voc_type_itg_cd                        0.359078         0.034400   \n",
       "voc_sttus_itg_cd                       0.015236        -0.025121   \n",
       "cust_clas_itg_cd                       0.004611         0.061479   \n",
       "bprod_sbt_id                          -0.041837        -0.099434   \n",
       "age_itg_cd                            -0.025676         0.028240   \n",
       "cont_sttus_itg_cd                      0.030626        -0.023555   \n",
       "cust_dtl_ctg_itg_cd                   -0.015780        -0.078514   \n",
       "voc_trt_degr_div_itg_cd                0.031132         0.038134   \n",
       "voc_dupl_tmscnt                        0.009258         0.041228   \n",
       "voc_trt_need_time_itg_cd              -0.060884        -0.006177   \n",
       "cust_snsry_base_conf_need_time         0.003554         0.065062   \n",
       "trm_yn                                 0.013538         0.128897   \n",
       "\n",
       "                                voc_type_itg_cd  voc_sttus_itg_cd  \\\n",
       "voc_prod_sbt_id                        0.359078          0.015236   \n",
       "voc_wjt_sorc_id                        0.034400         -0.025121   \n",
       "voc_type_itg_cd                        1.000000         -0.044550   \n",
       "voc_sttus_itg_cd                      -0.044550          1.000000   \n",
       "cust_clas_itg_cd                       0.028270          0.040812   \n",
       "bprod_sbt_id                          -0.115274          0.024235   \n",
       "age_itg_cd                            -0.071957         -0.035165   \n",
       "cont_sttus_itg_cd                      0.057101          0.065224   \n",
       "cust_dtl_ctg_itg_cd                   -0.096103         -0.043478   \n",
       "voc_trt_degr_div_itg_cd               -0.122135          0.231308   \n",
       "voc_dupl_tmscnt                       -0.030493          0.027270   \n",
       "voc_trt_need_time_itg_cd              -0.152237          0.742378   \n",
       "cust_snsry_base_conf_need_time         0.009837         -0.004294   \n",
       "trm_yn                                 0.000029         -0.017064   \n",
       "\n",
       "                                cust_clas_itg_cd  bprod_sbt_id  age_itg_cd  \\\n",
       "voc_prod_sbt_id                         0.004611     -0.041837   -0.025676   \n",
       "voc_wjt_sorc_id                         0.061479     -0.099434    0.028240   \n",
       "voc_type_itg_cd                         0.028270     -0.115274   -0.071957   \n",
       "voc_sttus_itg_cd                        0.040812      0.024235   -0.035165   \n",
       "cust_clas_itg_cd                        1.000000     -0.316390   -0.122170   \n",
       "bprod_sbt_id                           -0.316390      1.000000    0.005315   \n",
       "age_itg_cd                             -0.122170      0.005315    1.000000   \n",
       "cont_sttus_itg_cd                      -0.133425      0.106585   -0.012683   \n",
       "cust_dtl_ctg_itg_cd                     0.057156      0.187280    0.039644   \n",
       "voc_trt_degr_div_itg_cd                -0.039095      0.018112    0.027999   \n",
       "voc_dupl_tmscnt                         0.025594      0.032026   -0.029451   \n",
       "voc_trt_need_time_itg_cd                0.027504      0.033465    0.009443   \n",
       "cust_snsry_base_conf_need_time          0.025590      0.011937   -0.012135   \n",
       "trm_yn                                 -0.086005      0.046999   -0.045966   \n",
       "\n",
       "                                cont_sttus_itg_cd  cust_dtl_ctg_itg_cd  \\\n",
       "voc_prod_sbt_id                          0.030626            -0.015780   \n",
       "voc_wjt_sorc_id                         -0.023555            -0.078514   \n",
       "voc_type_itg_cd                          0.057101            -0.096103   \n",
       "voc_sttus_itg_cd                         0.065224            -0.043478   \n",
       "cust_clas_itg_cd                        -0.133425             0.057156   \n",
       "bprod_sbt_id                             0.106585             0.187280   \n",
       "age_itg_cd                              -0.012683             0.039644   \n",
       "cont_sttus_itg_cd                        1.000000             0.020766   \n",
       "cust_dtl_ctg_itg_cd                      0.020766             1.000000   \n",
       "voc_trt_degr_div_itg_cd                  0.096744            -0.014441   \n",
       "voc_dupl_tmscnt                          0.019424             0.049766   \n",
       "voc_trt_need_time_itg_cd                 0.080204            -0.029496   \n",
       "cust_snsry_base_conf_need_time           0.104523            -0.015476   \n",
       "trm_yn                                   0.017042            -0.018712   \n",
       "\n",
       "                                voc_trt_degr_div_itg_cd  voc_dupl_tmscnt  \\\n",
       "voc_prod_sbt_id                                0.031132         0.009258   \n",
       "voc_wjt_sorc_id                                0.038134         0.041228   \n",
       "voc_type_itg_cd                               -0.122135        -0.030493   \n",
       "voc_sttus_itg_cd                               0.231308         0.027270   \n",
       "cust_clas_itg_cd                              -0.039095         0.025594   \n",
       "bprod_sbt_id                                   0.018112         0.032026   \n",
       "age_itg_cd                                     0.027999        -0.029451   \n",
       "cont_sttus_itg_cd                              0.096744         0.019424   \n",
       "cust_dtl_ctg_itg_cd                           -0.014441         0.049766   \n",
       "voc_trt_degr_div_itg_cd                        1.000000         0.021813   \n",
       "voc_dupl_tmscnt                                0.021813         1.000000   \n",
       "voc_trt_need_time_itg_cd                       0.449008         0.056615   \n",
       "cust_snsry_base_conf_need_time                 0.113305        -0.002686   \n",
       "trm_yn                                         0.090044        -0.010278   \n",
       "\n",
       "                                voc_trt_need_time_itg_cd  \\\n",
       "voc_prod_sbt_id                                -0.060884   \n",
       "voc_wjt_sorc_id                                -0.006177   \n",
       "voc_type_itg_cd                                -0.152237   \n",
       "voc_sttus_itg_cd                                0.742378   \n",
       "cust_clas_itg_cd                                0.027504   \n",
       "bprod_sbt_id                                    0.033465   \n",
       "age_itg_cd                                      0.009443   \n",
       "cont_sttus_itg_cd                               0.080204   \n",
       "cust_dtl_ctg_itg_cd                            -0.029496   \n",
       "voc_trt_degr_div_itg_cd                         0.449008   \n",
       "voc_dupl_tmscnt                                 0.056615   \n",
       "voc_trt_need_time_itg_cd                        1.000000   \n",
       "cust_snsry_base_conf_need_time                 -0.007562   \n",
       "trm_yn                                          0.021026   \n",
       "\n",
       "                                cust_snsry_base_conf_need_time    trm_yn  \n",
       "voc_prod_sbt_id                                       0.003554  0.013538  \n",
       "voc_wjt_sorc_id                                       0.065062  0.128897  \n",
       "voc_type_itg_cd                                       0.009837  0.000029  \n",
       "voc_sttus_itg_cd                                     -0.004294 -0.017064  \n",
       "cust_clas_itg_cd                                      0.025590 -0.086005  \n",
       "bprod_sbt_id                                          0.011937  0.046999  \n",
       "age_itg_cd                                           -0.012135 -0.045966  \n",
       "cont_sttus_itg_cd                                     0.104523  0.017042  \n",
       "cust_dtl_ctg_itg_cd                                  -0.015476 -0.018712  \n",
       "voc_trt_degr_div_itg_cd                               0.113305  0.090044  \n",
       "voc_dupl_tmscnt                                      -0.002686 -0.010278  \n",
       "voc_trt_need_time_itg_cd                             -0.007562  0.021026  \n",
       "cust_snsry_base_conf_need_time                        1.000000 -0.003106  \n",
       "trm_yn                                               -0.003106  1.000000  "
      ]
     },
     "execution_count": 272,
     "metadata": {},
     "output_type": "execute_result"
    }
   ],
   "source": [
    "df1.corr()"
   ]
  },
  {
   "cell_type": "markdown",
   "metadata": {},
   "source": [
    "- 상관관계 히트맵(heatmap) 출력"
   ]
  },
  {
   "cell_type": "code",
   "execution_count": 273,
   "metadata": {},
   "outputs": [
    {
     "data": {
      "text/plain": [
       "<AxesSubplot:>"
      ]
     },
     "execution_count": 273,
     "metadata": {},
     "output_type": "execute_result"
    },
    {
     "data": {
      "image/png": "[encoded data removed]",
      "text/plain": [
       "<Figure size 1440x1152 with 2 Axes>"
      ]
     },
     "metadata": {},
     "output_type": "display_data"
    }
   ],
   "source": [
    "corr = df1.corr()\n",
    "sns.set(rc={'figure.figsize':(20,16)})\n",
    "sns.heatmap(corr, annot=True)"
   ]
  },
  {
   "cell_type": "markdown",
   "metadata": {},
   "source": [
    "- pairplot : ['voc_prod_sbt_id', 'bprod_sbt_id', 'voc_trt_degr_div_itg_cd','trm_yn']"
   ]
  },
  {
   "cell_type": "code",
   "execution_count": 274,
   "metadata": {},
   "outputs": [
    {
     "data": {
      "text/plain": [
       "<seaborn.axisgrid.PairGrid at 0x16176128908>"
      ]
     },
     "execution_count": 274,
     "metadata": {},
     "output_type": "execute_result"
    },
    {
     "data": {
      "image/png": "[encoded data removed]",
      "text/plain": [
       "<Figure size 720x720 with 20 Axes>"
      ]
     },
     "metadata": {},
     "output_type": "display_data"
    }
   ],
   "source": [
    "sns.pairplot(df1[['voc_prod_sbt_id', 'bprod_sbt_id', 'voc_trt_degr_div_itg_cd','trm_yn']])"
   ]
  },
  {
   "cell_type": "code",
   "execution_count": 275,
   "metadata": {},
   "outputs": [
    {
     "data": {
      "text/plain": [
       "<AxesSubplot:xlabel='voc_trt_degr_div_itg_cd', ylabel='trm_yn'>"
      ]
     },
     "execution_count": 275,
     "metadata": {},
     "output_type": "execute_result"
    },
    {
     "data": {
      "image/png": "[encoded data removed]",
      "text/plain": [
       "<Figure size 1440x432 with 3 Axes>"
      ]
     },
     "metadata": {},
     "output_type": "display_data"
    }
   ],
   "source": [
    "# scatterplot\n",
    "fig,(ax1,ax2,ax3) = plt.subplots(1,3)\n",
    "fig.set_size_inches(20, 6)\n",
    "sns.scatterplot(data=df1, x='voc_prod_sbt_id', y='trm_yn', ax=ax1)\n",
    "sns.scatterplot(data=df1, x='bprod_sbt_id', y='trm_yn', ax=ax2)\n",
    "sns.scatterplot(data=df1, x='voc_trt_degr_div_itg_cd', y='trm_yn', ax=ax3)"
   ]
  },
  {
   "cell_type": "markdown",
   "metadata": {},
   "source": [
    "- distplot: voc_prod_sbt_id, bprod_sbt_id, voc_trt_degr_div_itg_cd"
   ]
  },
  {
   "cell_type": "code",
   "execution_count": 276,
   "metadata": {},
   "outputs": [
    {
     "name": "stderr",
     "output_type": "stream",
     "text": [
      "c:\\users\\danny\\.conda\\envs\\tfenv\\lib\\site-packages\\seaborn\\distributions.py:2551: FutureWarning: `distplot` is a deprecated function and will be removed in a future version. Please adapt your code to use either `displot` (a figure-level function with similar flexibility) or `histplot` (an axes-level function for histograms).\n",
      "  warnings.warn(msg, FutureWarning)\n",
      "c:\\users\\danny\\.conda\\envs\\tfenv\\lib\\site-packages\\seaborn\\distributions.py:2551: FutureWarning: `distplot` is a deprecated function and will be removed in a future version. Please adapt your code to use either `displot` (a figure-level function with similar flexibility) or `histplot` (an axes-level function for histograms).\n",
      "  warnings.warn(msg, FutureWarning)\n",
      "c:\\users\\danny\\.conda\\envs\\tfenv\\lib\\site-packages\\seaborn\\distributions.py:2551: FutureWarning: `distplot` is a deprecated function and will be removed in a future version. Please adapt your code to use either `displot` (a figure-level function with similar flexibility) or `histplot` (an axes-level function for histograms).\n",
      "  warnings.warn(msg, FutureWarning)\n"
     ]
    },
    {
     "data": {
      "text/plain": [
       "<AxesSubplot:xlabel='voc_trt_degr_div_itg_cd', ylabel='Density'>"
      ]
     },
     "execution_count": 276,
     "metadata": {},
     "output_type": "execute_result"
    },
    {
     "data": {
      "image/png": "[encoded data removed]",
      "text/plain": [
       "<Figure size 1440x432 with 3 Axes>"
      ]
     },
     "metadata": {},
     "output_type": "display_data"
    }
   ],
   "source": [
    "fig,(ax1,ax2,ax3) = plt.subplots(1,3)\n",
    "fig.set_size_inches(20, 6)\n",
    "sns.distplot(df1['voc_prod_sbt_id'], ax=ax1)\n",
    "sns.distplot(df1['bprod_sbt_id'], ax=ax2)\n",
    "sns.distplot(df1['voc_trt_degr_div_itg_cd'], ax=ax3)"
   ]
  },
  {
   "cell_type": "markdown",
   "metadata": {},
   "source": [
    "# \n",
    "# 8. 머신러닝 모델 구현"
   ]
  },
  {
   "cell_type": "markdown",
   "metadata": {},
   "source": [
    "### 로지스틱 회귀 (LogisticRegression, 분류)"
   ]
  },
  {
   "cell_type": "code",
   "execution_count": 212,
   "metadata": {},
   "outputs": [],
   "source": [
    "from sklearn.linear_model import LogisticRegression\n",
    "from sklearn.metrics import confusion_matrix\n",
    "from sklearn.metrics import classification_report"
   ]
  },
  {
   "cell_type": "code",
   "execution_count": 213,
   "metadata": {},
   "outputs": [],
   "source": [
    "model = LogisticRegression(C=1.0,max_iter=5000).fit(X_train, y_train)"
   ]
  },
  {
   "cell_type": "markdown",
   "metadata": {},
   "source": [
    "- 분류기 성능 평가(score)"
   ]
  },
  {
   "cell_type": "code",
   "execution_count": 214,
   "metadata": {},
   "outputs": [
    {
     "data": {
      "text/plain": [
       "0.9841269841269841"
      ]
     },
     "execution_count": 214,
     "metadata": {},
     "output_type": "execute_result"
    }
   ],
   "source": [
    "model.score(X_test, y_test)"
   ]
  },
  {
   "cell_type": "markdown",
   "metadata": {},
   "source": [
    "- 분류기 성능 평가(confusion_matrix)"
   ]
  },
  {
   "cell_type": "code",
   "execution_count": 215,
   "metadata": {},
   "outputs": [],
   "source": [
    "pred = model.predict(X_test)"
   ]
  },
  {
   "cell_type": "code",
   "execution_count": 216,
   "metadata": {},
   "outputs": [
    {
     "data": {
      "text/plain": [
       "array([[248,   0],\n",
       "       [  4,   0]], dtype=int64)"
      ]
     },
     "execution_count": 216,
     "metadata": {},
     "output_type": "execute_result"
    }
   ],
   "source": [
    "confusion_matrix(y_test, pred)"
   ]
  },
  {
   "cell_type": "markdown",
   "metadata": {},
   "source": [
    "- 분류기 성능 평가(classification_report)"
   ]
  },
  {
   "cell_type": "code",
   "execution_count": 217,
   "metadata": {},
   "outputs": [
    {
     "name": "stdout",
     "output_type": "stream",
     "text": [
      "              precision    recall  f1-score   support\n",
      "\n",
      "     class 0       0.98      1.00      0.99       248\n",
      "     class 1       0.00      0.00      0.00         4\n",
      "\n",
      "    accuracy                           0.98       252\n",
      "   macro avg       0.49      0.50      0.50       252\n",
      "weighted avg       0.97      0.98      0.98       252\n",
      "\n"
     ]
    },
    {
     "name": "stderr",
     "output_type": "stream",
     "text": [
      "c:\\users\\danny\\.conda\\envs\\tfenv\\lib\\site-packages\\sklearn\\metrics\\_classification.py:1221: UndefinedMetricWarning: Precision and F-score are ill-defined and being set to 0.0 in labels with no predicted samples. Use `zero_division` parameter to control this behavior.\n",
      "  _warn_prf(average, modifier, msg_start, len(result))\n"
     ]
    }
   ],
   "source": [
    "print(classification_report(y_test, pred, target_names=['class 0', 'class 1']))"
   ]
  },
  {
   "cell_type": "markdown",
   "metadata": {},
   "source": [
    "###  \n",
    "###  결정트리(DecisionTree)"
   ]
  },
  {
   "cell_type": "code",
   "execution_count": 218,
   "metadata": {},
   "outputs": [],
   "source": [
    "from sklearn.tree import DecisionTreeClassifier"
   ]
  },
  {
   "cell_type": "code",
   "execution_count": 219,
   "metadata": {},
   "outputs": [],
   "source": [
    "clf = DecisionTreeClassifier(max_depth=10, random_state=42)"
   ]
  },
  {
   "cell_type": "code",
   "execution_count": 220,
   "metadata": {},
   "outputs": [
    {
     "data": {
      "text/plain": [
       "DecisionTreeClassifier(max_depth=10, random_state=42)"
      ]
     },
     "execution_count": 220,
     "metadata": {},
     "output_type": "execute_result"
    }
   ],
   "source": [
    "clf.fit(X_train, y_train)"
   ]
  },
  {
   "cell_type": "code",
   "execution_count": 221,
   "metadata": {},
   "outputs": [
    {
     "data": {
      "text/plain": [
       "0.9722222222222222"
      ]
     },
     "execution_count": 221,
     "metadata": {},
     "output_type": "execute_result"
    }
   ],
   "source": [
    "clf.score(X_test, y_test)"
   ]
  },
  {
   "cell_type": "markdown",
   "metadata": {},
   "source": [
    "###  \n",
    "###  랜덤포레스트(RandomForest)"
   ]
  },
  {
   "cell_type": "code",
   "execution_count": 222,
   "metadata": {},
   "outputs": [],
   "source": [
    "from sklearn.ensemble import RandomForestClassifier"
   ]
  },
  {
   "cell_type": "code",
   "execution_count": 223,
   "metadata": {},
   "outputs": [],
   "source": [
    "rfc = RandomForestClassifier(n_estimators=100, random_state=42)"
   ]
  },
  {
   "cell_type": "code",
   "execution_count": 224,
   "metadata": {},
   "outputs": [
    {
     "data": {
      "text/plain": [
       "RandomForestClassifier(random_state=42)"
      ]
     },
     "execution_count": 224,
     "metadata": {},
     "output_type": "execute_result"
    }
   ],
   "source": [
    "rfc.fit(X_train, y_train)"
   ]
  },
  {
   "cell_type": "code",
   "execution_count": 225,
   "metadata": {},
   "outputs": [
    {
     "data": {
      "text/plain": [
       "0.9841269841269841"
      ]
     },
     "execution_count": 225,
     "metadata": {},
     "output_type": "execute_result"
    }
   ],
   "source": [
    "rfc.score(X_test, y_test)"
   ]
  },
  {
   "cell_type": "markdown",
   "metadata": {},
   "source": [
    "###  \n",
    "###  선형회귀(Linear Regression, 예측)"
   ]
  },
  {
   "cell_type": "code",
   "execution_count": 226,
   "metadata": {},
   "outputs": [],
   "source": [
    "from sklearn.linear_model import LinearRegression"
   ]
  },
  {
   "cell_type": "code",
   "execution_count": 227,
   "metadata": {},
   "outputs": [],
   "source": [
    "x_data = np.array([1.6, 2.3, 3.5, 4.6]).reshape(-1,1)\n",
    "y_data = np.array([3.3, 5.5, 7.2, 9.9])"
   ]
  },
  {
   "cell_type": "code",
   "execution_count": 228,
   "metadata": {},
   "outputs": [],
   "source": [
    "lr = LinearRegression()"
   ]
  },
  {
   "cell_type": "code",
   "execution_count": 229,
   "metadata": {},
   "outputs": [
    {
     "data": {
      "text/plain": [
       "LinearRegression()"
      ]
     },
     "execution_count": 229,
     "metadata": {},
     "output_type": "execute_result"
    }
   ],
   "source": [
    "lr.fit(x_data, y_data)"
   ]
  },
  {
   "cell_type": "code",
   "execution_count": 230,
   "metadata": {},
   "outputs": [
    {
     "data": {
      "text/plain": [
       "0.9824368480454886"
      ]
     },
     "execution_count": 230,
     "metadata": {},
     "output_type": "execute_result"
    }
   ],
   "source": [
    "lr.score(x_data, y_data)"
   ]
  },
  {
   "cell_type": "code",
   "execution_count": 231,
   "metadata": {},
   "outputs": [
    {
     "data": {
      "text/plain": [
       "array([10.64610266])"
      ]
     },
     "execution_count": 231,
     "metadata": {},
     "output_type": "execute_result"
    }
   ],
   "source": [
    "lr.predict([[5]])"
   ]
  },
  {
   "cell_type": "markdown",
   "metadata": {},
   "source": [
    "#  \n",
    "# 9. 딥러닝 심층신경망 모델 구현"
   ]
  },
  {
   "cell_type": "code",
   "execution_count": 277,
   "metadata": {},
   "outputs": [],
   "source": [
    "from tensorflow.keras.models import Sequential, load_model\n",
    "from tensorflow.keras.layers import Dense, Dropout\n",
    "from tensorflow.keras.callbacks import EarlyStopping, ModelCheckpoint\n",
    "from tensorflow.keras.utils import to_categorical"
   ]
  },
  {
   "cell_type": "markdown",
   "metadata": {},
   "source": [
    "### 하이퍼파라미터 설정 : batch_size, epochs"
   ]
  },
  {
   "cell_type": "code",
   "execution_count": 278,
   "metadata": {},
   "outputs": [],
   "source": [
    "batch_size = 1024\n",
    "epochs = 50"
   ]
  },
  {
   "cell_type": "markdown",
   "metadata": {},
   "source": [
    "### 모델 입력(features) 갯수 확인"
   ]
  },
  {
   "cell_type": "code",
   "execution_count": 279,
   "metadata": {},
   "outputs": [
    {
     "data": {
      "text/plain": [
       "(756, 13)"
      ]
     },
     "execution_count": 279,
     "metadata": {},
     "output_type": "execute_result"
    }
   ],
   "source": [
    "X_train.shape"
   ]
  },
  {
   "cell_type": "markdown",
   "metadata": {},
   "source": [
    "### 모델 출력(label) 갯수 확인"
   ]
  },
  {
   "cell_type": "code",
   "execution_count": 280,
   "metadata": {},
   "outputs": [
    {
     "data": {
      "text/plain": [
       "(756,)"
      ]
     },
     "execution_count": 280,
     "metadata": {},
     "output_type": "execute_result"
    }
   ],
   "source": [
    "y_train.shape"
   ]
  },
  {
   "cell_type": "markdown",
   "metadata": {},
   "source": [
    "###  이진분류 모델 생성 : Sequential 모델"
   ]
  },
  {
   "cell_type": "code",
   "execution_count": 281,
   "metadata": {},
   "outputs": [],
   "source": [
    "model = Sequential()\n",
    "model.add(Dense(64, activation='relu', input_shape=(13,)))\n",
    "model.add(Dropout(0.2))\n",
    "model.add(Dense(32, activation='relu'))\n",
    "model.add(Dropout(0.2))\n",
    "model.add(Dense(16, activation='relu'))\n",
    "model.add(Dropout(0.2))\n",
    "model.add(Dense(1, activation='sigmoid'))"
   ]
  },
  {
   "cell_type": "markdown",
   "metadata": {},
   "source": [
    "### 모델  컴파일 : optimizer, optimizer 설정"
   ]
  },
  {
   "cell_type": "code",
   "execution_count": 282,
   "metadata": {},
   "outputs": [],
   "source": [
    "model.compile(optimizer='adam', loss='binary_crossentropy',metrics=['acc'])"
   ]
  },
  {
   "cell_type": "markdown",
   "metadata": {},
   "source": [
    "### callbacks 함수 설정 : EarlyStopping, ModelCheckpoint"
   ]
  },
  {
   "cell_type": "code",
   "execution_count": 283,
   "metadata": {},
   "outputs": [],
   "source": [
    "es = EarlyStopping(monitor='val_loss', patience=4, mode='min', verbose=1)\n",
    "mc = ModelCheckpoint('my_checkpoint.ckpt', monitor='val_loss', save_best_only=True, verbose=1)"
   ]
  },
  {
   "cell_type": "markdown",
   "metadata": {},
   "source": [
    "### 모델 훈련"
   ]
  },
  {
   "cell_type": "code",
   "execution_count": 284,
   "metadata": {},
   "outputs": [
    {
     "name": "stdout",
     "output_type": "stream",
     "text": [
      "Epoch 1/50\n",
      "1/1 [==============================] - ETA: 0s - loss: 0.6742 - acc: 0.6151\n",
      "Epoch 00001: val_loss improved from inf to 0.63930, saving model to my_checkpoint.ckpt\n",
      "INFO:tensorflow:Assets written to: my_checkpoint.ckpt\\assets\n",
      "1/1 [==============================] - 1s 738ms/step - loss: 0.6742 - acc: 0.6151 - val_loss: 0.6393 - val_acc: 0.9762\n",
      "Epoch 2/50\n",
      "1/1 [==============================] - ETA: 0s - loss: 0.6499 - acc: 0.7421\n",
      "Epoch 00002: val_loss improved from 0.63930 to 0.61889, saving model to my_checkpoint.ckpt\n",
      "INFO:tensorflow:Assets written to: my_checkpoint.ckpt\\assets\n",
      "1/1 [==============================] - 1s 632ms/step - loss: 0.6499 - acc: 0.7421 - val_loss: 0.6189 - val_acc: 0.9841\n",
      "Epoch 3/50\n",
      "1/1 [==============================] - ETA: 0s - loss: 0.6320 - acc: 0.7765\n",
      "Epoch 00003: val_loss improved from 0.61889 to 0.59974, saving model to my_checkpoint.ckpt\n",
      "INFO:tensorflow:Assets written to: my_checkpoint.ckpt\\assets\n",
      "1/1 [==============================] - 1s 660ms/step - loss: 0.6320 - acc: 0.7765 - val_loss: 0.5997 - val_acc: 0.9841\n",
      "Epoch 4/50\n",
      "1/1 [==============================] - ETA: 0s - loss: 0.6130 - acc: 0.8585\n",
      "Epoch 00004: val_loss improved from 0.59974 to 0.58235, saving model to my_checkpoint.ckpt\n",
      "INFO:tensorflow:Assets written to: my_checkpoint.ckpt\\assets\n",
      "1/1 [==============================] - 1s 661ms/step - loss: 0.6130 - acc: 0.8585 - val_loss: 0.5824 - val_acc: 0.9841\n",
      "Epoch 5/50\n",
      "1/1 [==============================] - ETA: 0s - loss: 0.5934 - acc: 0.9048\n",
      "Epoch 00005: val_loss improved from 0.58235 to 0.56576, saving model to my_checkpoint.ckpt\n",
      "INFO:tensorflow:Assets written to: my_checkpoint.ckpt\\assets\n",
      "1/1 [==============================] - 1s 646ms/step - loss: 0.5934 - acc: 0.9048 - val_loss: 0.5658 - val_acc: 0.9841\n",
      "Epoch 6/50\n",
      "1/1 [==============================] - ETA: 0s - loss: 0.5667 - acc: 0.9365\n",
      "Epoch 00006: val_loss improved from 0.56576 to 0.55007, saving model to my_checkpoint.ckpt\n",
      "INFO:tensorflow:Assets written to: my_checkpoint.ckpt\\assets\n",
      "1/1 [==============================] - 1s 636ms/step - loss: 0.5667 - acc: 0.9365 - val_loss: 0.5501 - val_acc: 0.9841\n",
      "Epoch 7/50\n",
      "1/1 [==============================] - ETA: 0s - loss: 0.5586 - acc: 0.9405\n",
      "Epoch 00007: val_loss improved from 0.55007 to 0.53484, saving model to my_checkpoint.ckpt\n",
      "INFO:tensorflow:Assets written to: my_checkpoint.ckpt\\assets\n",
      "1/1 [==============================] - 1s 660ms/step - loss: 0.5586 - acc: 0.9405 - val_loss: 0.5348 - val_acc: 0.9841\n",
      "Epoch 8/50\n",
      "1/1 [==============================] - ETA: 0s - loss: 0.5348 - acc: 0.9590\n",
      "Epoch 00008: val_loss improved from 0.53484 to 0.51978, saving model to my_checkpoint.ckpt\n",
      "INFO:tensorflow:Assets written to: my_checkpoint.ckpt\\assets\n",
      "1/1 [==============================] - 1s 670ms/step - loss: 0.5348 - acc: 0.9590 - val_loss: 0.5198 - val_acc: 0.9841\n",
      "Epoch 9/50\n",
      "1/1 [==============================] - ETA: 0s - loss: 0.5275 - acc: 0.9563\n",
      "Epoch 00009: val_loss improved from 0.51978 to 0.50478, saving model to my_checkpoint.ckpt\n",
      "INFO:tensorflow:Assets written to: my_checkpoint.ckpt\\assets\n",
      "1/1 [==============================] - 1s 649ms/step - loss: 0.5275 - acc: 0.9563 - val_loss: 0.5048 - val_acc: 0.9841\n",
      "Epoch 10/50\n",
      "1/1 [==============================] - ETA: 0s - loss: 0.5057 - acc: 0.9775\n",
      "Epoch 00010: val_loss improved from 0.50478 to 0.48953, saving model to my_checkpoint.ckpt\n",
      "INFO:tensorflow:Assets written to: my_checkpoint.ckpt\\assets\n",
      "1/1 [==============================] - 1s 660ms/step - loss: 0.5057 - acc: 0.9775 - val_loss: 0.4895 - val_acc: 0.9841\n",
      "Epoch 11/50\n",
      "1/1 [==============================] - ETA: 0s - loss: 0.4889 - acc: 0.9749\n",
      "Epoch 00011: val_loss improved from 0.48953 to 0.47398, saving model to my_checkpoint.ckpt\n",
      "INFO:tensorflow:Assets written to: my_checkpoint.ckpt\\assets\n",
      "1/1 [==============================] - 1s 648ms/step - loss: 0.4889 - acc: 0.9749 - val_loss: 0.4740 - val_acc: 0.9841\n",
      "Epoch 12/50\n",
      "1/1 [==============================] - ETA: 0s - loss: 0.4764 - acc: 0.9802\n",
      "Epoch 00012: val_loss improved from 0.47398 to 0.45844, saving model to my_checkpoint.ckpt\n",
      "INFO:tensorflow:Assets written to: my_checkpoint.ckpt\\assets\n",
      "1/1 [==============================] - 1s 654ms/step - loss: 0.4764 - acc: 0.9802 - val_loss: 0.4584 - val_acc: 0.9841\n",
      "Epoch 13/50\n",
      "1/1 [==============================] - ETA: 0s - loss: 0.4574 - acc: 0.9841\n",
      "Epoch 00013: val_loss improved from 0.45844 to 0.44260, saving model to my_checkpoint.ckpt\n",
      "INFO:tensorflow:Assets written to: my_checkpoint.ckpt\\assets\n",
      "1/1 [==============================] - 1s 630ms/step - loss: 0.4574 - acc: 0.9841 - val_loss: 0.4426 - val_acc: 0.9841\n",
      "Epoch 14/50\n",
      "1/1 [==============================] - ETA: 0s - loss: 0.4426 - acc: 0.9815\n",
      "Epoch 00014: val_loss improved from 0.44260 to 0.42663, saving model to my_checkpoint.ckpt\n",
      "INFO:tensorflow:Assets written to: my_checkpoint.ckpt\\assets\n",
      "1/1 [==============================] - 1s 645ms/step - loss: 0.4426 - acc: 0.9815 - val_loss: 0.4266 - val_acc: 0.9841\n",
      "Epoch 15/50\n",
      "1/1 [==============================] - ETA: 0s - loss: 0.4263 - acc: 0.9854\n",
      "Epoch 00015: val_loss improved from 0.42663 to 0.41064, saving model to my_checkpoint.ckpt\n",
      "INFO:tensorflow:Assets written to: my_checkpoint.ckpt\\assets\n",
      "1/1 [==============================] - 1s 657ms/step - loss: 0.4263 - acc: 0.9854 - val_loss: 0.4106 - val_acc: 0.9841\n",
      "Epoch 16/50\n",
      "1/1 [==============================] - ETA: 0s - loss: 0.4140 - acc: 0.9841\n",
      "Epoch 00016: val_loss improved from 0.41064 to 0.39461, saving model to my_checkpoint.ckpt\n",
      "INFO:tensorflow:Assets written to: my_checkpoint.ckpt\\assets\n",
      "1/1 [==============================] - 1s 663ms/step - loss: 0.4140 - acc: 0.9841 - val_loss: 0.3946 - val_acc: 0.9841\n",
      "Epoch 17/50\n",
      "1/1 [==============================] - ETA: 0s - loss: 0.3921 - acc: 0.9854\n",
      "Epoch 00017: val_loss improved from 0.39461 to 0.37861, saving model to my_checkpoint.ckpt\n",
      "INFO:tensorflow:Assets written to: my_checkpoint.ckpt\\assets\n",
      "1/1 [==============================] - 1s 644ms/step - loss: 0.3921 - acc: 0.9854 - val_loss: 0.3786 - val_acc: 0.9841\n",
      "Epoch 18/50\n",
      "1/1 [==============================] - ETA: 0s - loss: 0.3806 - acc: 0.9802\n",
      "Epoch 00018: val_loss improved from 0.37861 to 0.36268, saving model to my_checkpoint.ckpt\n",
      "INFO:tensorflow:Assets written to: my_checkpoint.ckpt\\assets\n",
      "1/1 [==============================] - 1s 658ms/step - loss: 0.3806 - acc: 0.9802 - val_loss: 0.3627 - val_acc: 0.9841\n",
      "Epoch 19/50\n",
      "1/1 [==============================] - ETA: 0s - loss: 0.3665 - acc: 0.9854\n",
      "Epoch 00019: val_loss improved from 0.36268 to 0.34686, saving model to my_checkpoint.ckpt\n",
      "INFO:tensorflow:Assets written to: my_checkpoint.ckpt\\assets\n",
      "1/1 [==============================] - 1s 654ms/step - loss: 0.3665 - acc: 0.9854 - val_loss: 0.3469 - val_acc: 0.9841\n",
      "Epoch 20/50\n",
      "1/1 [==============================] - ETA: 0s - loss: 0.3558 - acc: 0.9828\n",
      "Epoch 00020: val_loss improved from 0.34686 to 0.33087, saving model to my_checkpoint.ckpt\n",
      "INFO:tensorflow:Assets written to: my_checkpoint.ckpt\\assets\n",
      "1/1 [==============================] - 1s 676ms/step - loss: 0.3558 - acc: 0.9828 - val_loss: 0.3309 - val_acc: 0.9841\n",
      "Epoch 21/50\n",
      "1/1 [==============================] - ETA: 0s - loss: 0.3289 - acc: 0.9854\n",
      "Epoch 00021: val_loss improved from 0.33087 to 0.31471, saving model to my_checkpoint.ckpt\n",
      "INFO:tensorflow:Assets written to: my_checkpoint.ckpt\\assets\n",
      "1/1 [==============================] - 1s 604ms/step - loss: 0.3289 - acc: 0.9854 - val_loss: 0.3147 - val_acc: 0.9841\n",
      "Epoch 22/50\n",
      "1/1 [==============================] - ETA: 0s - loss: 0.3261 - acc: 0.9854\n",
      "Epoch 00022: val_loss improved from 0.31471 to 0.29873, saving model to my_checkpoint.ckpt\n",
      "INFO:tensorflow:Assets written to: my_checkpoint.ckpt\\assets\n",
      "1/1 [==============================] - 1s 606ms/step - loss: 0.3261 - acc: 0.9854 - val_loss: 0.2987 - val_acc: 0.9841\n",
      "Epoch 23/50\n",
      "1/1 [==============================] - ETA: 0s - loss: 0.3040 - acc: 0.9854\n",
      "Epoch 00023: val_loss improved from 0.29873 to 0.28304, saving model to my_checkpoint.ckpt\n",
      "INFO:tensorflow:Assets written to: my_checkpoint.ckpt\\assets\n",
      "1/1 [==============================] - 1s 664ms/step - loss: 0.3040 - acc: 0.9854 - val_loss: 0.2830 - val_acc: 0.9841\n"
     ]
    },
    {
     "name": "stdout",
     "output_type": "stream",
     "text": [
      "Epoch 24/50\n",
      "1/1 [==============================] - ETA: 0s - loss: 0.2839 - acc: 0.9854\n",
      "Epoch 00024: val_loss improved from 0.28304 to 0.26769, saving model to my_checkpoint.ckpt\n",
      "INFO:tensorflow:Assets written to: my_checkpoint.ckpt\\assets\n",
      "1/1 [==============================] - 1s 644ms/step - loss: 0.2839 - acc: 0.9854 - val_loss: 0.2677 - val_acc: 0.9841\n",
      "Epoch 25/50\n",
      "1/1 [==============================] - ETA: 0s - loss: 0.2719 - acc: 0.9841\n",
      "Epoch 00025: val_loss improved from 0.26769 to 0.25268, saving model to my_checkpoint.ckpt\n",
      "INFO:tensorflow:Assets written to: my_checkpoint.ckpt\\assets\n",
      "1/1 [==============================] - 1s 675ms/step - loss: 0.2719 - acc: 0.9841 - val_loss: 0.2527 - val_acc: 0.9841\n",
      "Epoch 26/50\n",
      "1/1 [==============================] - ETA: 0s - loss: 0.2687 - acc: 0.9854\n",
      "Epoch 00026: val_loss improved from 0.25268 to 0.23813, saving model to my_checkpoint.ckpt\n",
      "INFO:tensorflow:Assets written to: my_checkpoint.ckpt\\assets\n",
      "1/1 [==============================] - 1s 638ms/step - loss: 0.2687 - acc: 0.9854 - val_loss: 0.2381 - val_acc: 0.9841\n",
      "Epoch 27/50\n",
      "1/1 [==============================] - ETA: 0s - loss: 0.2536 - acc: 0.9854\n",
      "Epoch 00027: val_loss improved from 0.23813 to 0.22414, saving model to my_checkpoint.ckpt\n",
      "INFO:tensorflow:Assets written to: my_checkpoint.ckpt\\assets\n",
      "1/1 [==============================] - 1s 678ms/step - loss: 0.2536 - acc: 0.9854 - val_loss: 0.2241 - val_acc: 0.9841\n",
      "Epoch 28/50\n",
      "1/1 [==============================] - ETA: 0s - loss: 0.2371 - acc: 0.9854\n",
      "Epoch 00028: val_loss improved from 0.22414 to 0.21082, saving model to my_checkpoint.ckpt\n",
      "INFO:tensorflow:Assets written to: my_checkpoint.ckpt\\assets\n",
      "1/1 [==============================] - 1s 627ms/step - loss: 0.2371 - acc: 0.9854 - val_loss: 0.2108 - val_acc: 0.9841\n",
      "Epoch 29/50\n",
      "1/1 [==============================] - ETA: 0s - loss: 0.2261 - acc: 0.9854\n",
      "Epoch 00029: val_loss improved from 0.21082 to 0.19800, saving model to my_checkpoint.ckpt\n",
      "INFO:tensorflow:Assets written to: my_checkpoint.ckpt\\assets\n",
      "1/1 [==============================] - 1s 667ms/step - loss: 0.2261 - acc: 0.9854 - val_loss: 0.1980 - val_acc: 0.9841\n",
      "Epoch 30/50\n",
      "1/1 [==============================] - ETA: 0s - loss: 0.2177 - acc: 0.9841\n",
      "Epoch 00030: val_loss improved from 0.19800 to 0.18598, saving model to my_checkpoint.ckpt\n",
      "INFO:tensorflow:Assets written to: my_checkpoint.ckpt\\assets\n",
      "1/1 [==============================] - 1s 641ms/step - loss: 0.2177 - acc: 0.9841 - val_loss: 0.1860 - val_acc: 0.9841\n",
      "Epoch 31/50\n",
      "1/1 [==============================] - ETA: 0s - loss: 0.1986 - acc: 0.9854\n",
      "Epoch 00031: val_loss improved from 0.18598 to 0.17480, saving model to my_checkpoint.ckpt\n",
      "INFO:tensorflow:Assets written to: my_checkpoint.ckpt\\assets\n",
      "1/1 [==============================] - 1s 671ms/step - loss: 0.1986 - acc: 0.9854 - val_loss: 0.1748 - val_acc: 0.9841\n",
      "Epoch 32/50\n",
      "1/1 [==============================] - ETA: 0s - loss: 0.1907 - acc: 0.9854\n",
      "Epoch 00032: val_loss improved from 0.17480 to 0.16447, saving model to my_checkpoint.ckpt\n",
      "INFO:tensorflow:Assets written to: my_checkpoint.ckpt\\assets\n",
      "1/1 [==============================] - 1s 623ms/step - loss: 0.1907 - acc: 0.9854 - val_loss: 0.1645 - val_acc: 0.9841\n",
      "Epoch 33/50\n",
      "1/1 [==============================] - ETA: 0s - loss: 0.1811 - acc: 0.9854\n",
      "Epoch 00033: val_loss improved from 0.16447 to 0.15501, saving model to my_checkpoint.ckpt\n",
      "INFO:tensorflow:Assets written to: my_checkpoint.ckpt\\assets\n",
      "1/1 [==============================] - 1s 632ms/step - loss: 0.1811 - acc: 0.9854 - val_loss: 0.1550 - val_acc: 0.9841\n",
      "Epoch 34/50\n",
      "1/1 [==============================] - ETA: 0s - loss: 0.1727 - acc: 0.9854\n",
      "Epoch 00034: val_loss improved from 0.15501 to 0.14635, saving model to my_checkpoint.ckpt\n",
      "INFO:tensorflow:Assets written to: my_checkpoint.ckpt\\assets\n",
      "1/1 [==============================] - 1s 633ms/step - loss: 0.1727 - acc: 0.9854 - val_loss: 0.1463 - val_acc: 0.9841\n",
      "Epoch 35/50\n",
      "1/1 [==============================] - ETA: 0s - loss: 0.1608 - acc: 0.9854\n",
      "Epoch 00035: val_loss improved from 0.14635 to 0.13849, saving model to my_checkpoint.ckpt\n",
      "INFO:tensorflow:Assets written to: my_checkpoint.ckpt\\assets\n",
      "1/1 [==============================] - 1s 673ms/step - loss: 0.1608 - acc: 0.9854 - val_loss: 0.1385 - val_acc: 0.9841\n",
      "Epoch 36/50\n",
      "1/1 [==============================] - ETA: 0s - loss: 0.1559 - acc: 0.9854\n",
      "Epoch 00036: val_loss improved from 0.13849 to 0.13140, saving model to my_checkpoint.ckpt\n",
      "INFO:tensorflow:Assets written to: my_checkpoint.ckpt\\assets\n",
      "1/1 [==============================] - 1s 638ms/step - loss: 0.1559 - acc: 0.9854 - val_loss: 0.1314 - val_acc: 0.9841\n",
      "Epoch 37/50\n",
      "1/1 [==============================] - ETA: 0s - loss: 0.1514 - acc: 0.9854\n",
      "Epoch 00037: val_loss improved from 0.13140 to 0.12507, saving model to my_checkpoint.ckpt\n",
      "INFO:tensorflow:Assets written to: my_checkpoint.ckpt\\assets\n",
      "1/1 [==============================] - 1s 656ms/step - loss: 0.1514 - acc: 0.9854 - val_loss: 0.1251 - val_acc: 0.9841\n",
      "Epoch 38/50\n",
      "1/1 [==============================] - ETA: 0s - loss: 0.1362 - acc: 0.9854\n",
      "Epoch 00038: val_loss improved from 0.12507 to 0.11943, saving model to my_checkpoint.ckpt\n",
      "INFO:tensorflow:Assets written to: my_checkpoint.ckpt\\assets\n",
      "1/1 [==============================] - 1s 644ms/step - loss: 0.1362 - acc: 0.9854 - val_loss: 0.1194 - val_acc: 0.9841\n",
      "Epoch 39/50\n",
      "1/1 [==============================] - ETA: 0s - loss: 0.1320 - acc: 0.9854\n",
      "Epoch 00039: val_loss improved from 0.11943 to 0.11446, saving model to my_checkpoint.ckpt\n",
      "INFO:tensorflow:Assets written to: my_checkpoint.ckpt\\assets\n",
      "1/1 [==============================] - 1s 661ms/step - loss: 0.1320 - acc: 0.9854 - val_loss: 0.1145 - val_acc: 0.9841\n",
      "Epoch 40/50\n",
      "1/1 [==============================] - ETA: 0s - loss: 0.1308 - acc: 0.9854\n",
      "Epoch 00040: val_loss improved from 0.11446 to 0.11012, saving model to my_checkpoint.ckpt\n",
      "INFO:tensorflow:Assets written to: my_checkpoint.ckpt\\assets\n",
      "1/1 [==============================] - 1s 681ms/step - loss: 0.1308 - acc: 0.9854 - val_loss: 0.1101 - val_acc: 0.9841\n",
      "Epoch 41/50\n",
      "1/1 [==============================] - ETA: 0s - loss: 0.1201 - acc: 0.9854\n",
      "Epoch 00041: val_loss improved from 0.11012 to 0.10636, saving model to my_checkpoint.ckpt\n",
      "INFO:tensorflow:Assets written to: my_checkpoint.ckpt\\assets\n",
      "1/1 [==============================] - 1s 667ms/step - loss: 0.1201 - acc: 0.9854 - val_loss: 0.1064 - val_acc: 0.9841\n",
      "Epoch 42/50\n",
      "1/1 [==============================] - ETA: 0s - loss: 0.1281 - acc: 0.9854\n",
      "Epoch 00042: val_loss improved from 0.10636 to 0.10314, saving model to my_checkpoint.ckpt\n",
      "INFO:tensorflow:Assets written to: my_checkpoint.ckpt\\assets\n",
      "1/1 [==============================] - 1s 648ms/step - loss: 0.1281 - acc: 0.9854 - val_loss: 0.1031 - val_acc: 0.9841\n",
      "Epoch 43/50\n",
      "1/1 [==============================] - ETA: 0s - loss: 0.1202 - acc: 0.9854\n",
      "Epoch 00043: val_loss improved from 0.10314 to 0.10043, saving model to my_checkpoint.ckpt\n",
      "INFO:tensorflow:Assets written to: my_checkpoint.ckpt\\assets\n",
      "1/1 [==============================] - 1s 656ms/step - loss: 0.1202 - acc: 0.9854 - val_loss: 0.1004 - val_acc: 0.9841\n",
      "Epoch 44/50\n",
      "1/1 [==============================] - ETA: 0s - loss: 0.1086 - acc: 0.9854\n",
      "Epoch 00044: val_loss improved from 0.10043 to 0.09815, saving model to my_checkpoint.ckpt\n",
      "INFO:tensorflow:Assets written to: my_checkpoint.ckpt\\assets\n",
      "1/1 [==============================] - 1s 625ms/step - loss: 0.1086 - acc: 0.9854 - val_loss: 0.0981 - val_acc: 0.9841\n",
      "Epoch 45/50\n",
      "1/1 [==============================] - ETA: 0s - loss: 0.1129 - acc: 0.9854\n",
      "Epoch 00045: val_loss improved from 0.09815 to 0.09624, saving model to my_checkpoint.ckpt\n",
      "INFO:tensorflow:Assets written to: my_checkpoint.ckpt\\assets\n",
      "1/1 [==============================] - 1s 613ms/step - loss: 0.1129 - acc: 0.9854 - val_loss: 0.0962 - val_acc: 0.9841\n",
      "Epoch 46/50\n",
      "1/1 [==============================] - ETA: 0s - loss: 0.1163 - acc: 0.9854\n",
      "Epoch 00046: val_loss improved from 0.09624 to 0.09469, saving model to my_checkpoint.ckpt\n",
      "INFO:tensorflow:Assets written to: my_checkpoint.ckpt\\assets\n",
      "1/1 [==============================] - 1s 598ms/step - loss: 0.1163 - acc: 0.9854 - val_loss: 0.0947 - val_acc: 0.9841\n"
     ]
    },
    {
     "name": "stdout",
     "output_type": "stream",
     "text": [
      "Epoch 47/50\n",
      "1/1 [==============================] - ETA: 0s - loss: 0.1090 - acc: 0.9854\n",
      "Epoch 00047: val_loss improved from 0.09469 to 0.09345, saving model to my_checkpoint.ckpt\n",
      "INFO:tensorflow:Assets written to: my_checkpoint.ckpt\\assets\n",
      "1/1 [==============================] - 1s 597ms/step - loss: 0.1090 - acc: 0.9854 - val_loss: 0.0934 - val_acc: 0.9841\n",
      "Epoch 48/50\n",
      "1/1 [==============================] - ETA: 0s - loss: 0.1027 - acc: 0.9854\n",
      "Epoch 00048: val_loss improved from 0.09345 to 0.09248, saving model to my_checkpoint.ckpt\n",
      "INFO:tensorflow:Assets written to: my_checkpoint.ckpt\\assets\n",
      "1/1 [==============================] - 1s 615ms/step - loss: 0.1027 - acc: 0.9854 - val_loss: 0.0925 - val_acc: 0.9841\n",
      "Epoch 49/50\n",
      "1/1 [==============================] - ETA: 0s - loss: 0.1009 - acc: 0.9854\n",
      "Epoch 00049: val_loss improved from 0.09248 to 0.09175, saving model to my_checkpoint.ckpt\n",
      "INFO:tensorflow:Assets written to: my_checkpoint.ckpt\\assets\n",
      "1/1 [==============================] - 1s 614ms/step - loss: 0.1009 - acc: 0.9854 - val_loss: 0.0917 - val_acc: 0.9841\n",
      "Epoch 50/50\n",
      "1/1 [==============================] - ETA: 0s - loss: 0.0906 - acc: 0.9854\n",
      "Epoch 00050: val_loss improved from 0.09175 to 0.09122, saving model to my_checkpoint.ckpt\n",
      "INFO:tensorflow:Assets written to: my_checkpoint.ckpt\\assets\n",
      "1/1 [==============================] - 1s 637ms/step - loss: 0.0906 - acc: 0.9854 - val_loss: 0.0912 - val_acc: 0.9841\n"
     ]
    }
   ],
   "source": [
    "history = model.fit(X_train, y_train, \n",
    "                    batch_size=batch_size, \n",
    "                    epochs=epochs, \n",
    "                    callbacks=[es, mc],\n",
    "                    validation_data=(X_test, y_test), \n",
    "                    verbose=1)"
   ]
  },
  {
   "cell_type": "markdown",
   "metadata": {},
   "source": [
    "### 다중분류  모델 생성"
   ]
  },
  {
   "cell_type": "markdown",
   "metadata": {},
   "source": [
    "- y_train, y_test One-Hot-Encoding"
   ]
  },
  {
   "cell_type": "code",
   "execution_count": 285,
   "metadata": {},
   "outputs": [],
   "source": [
    "y_train_ohe = to_categorical(y_train)\n",
    "y_test_ohe = to_categorical(y_test)"
   ]
  },
  {
   "cell_type": "code",
   "execution_count": 286,
   "metadata": {},
   "outputs": [
    {
     "data": {
      "text/plain": [
       "array([[1., 0.],\n",
       "       [1., 0.],\n",
       "       [1., 0.],\n",
       "       ...,\n",
       "       [1., 0.],\n",
       "       [1., 0.],\n",
       "       [1., 0.]], dtype=float32)"
      ]
     },
     "execution_count": 286,
     "metadata": {},
     "output_type": "execute_result"
    }
   ],
   "source": [
    "y_train_ohe"
   ]
  },
  {
   "cell_type": "code",
   "execution_count": 287,
   "metadata": {},
   "outputs": [],
   "source": [
    "model = Sequential()\n",
    "model.add(Dense(64, activation='relu', input_shape=(13,)))\n",
    "model.add(Dropout(0.2))\n",
    "model.add(Dense(32, activation='relu'))\n",
    "model.add(Dropout(0.2))\n",
    "model.add(Dense(16, activation='relu'))\n",
    "model.add(Dropout(0.2))\n",
    "model.add(Dense(2, activation='softmax'))"
   ]
  },
  {
   "cell_type": "code",
   "execution_count": 288,
   "metadata": {},
   "outputs": [],
   "source": [
    "model.compile(optimizer='adam', loss='categorical_crossentropy',metrics=['acc'])"
   ]
  },
  {
   "cell_type": "code",
   "execution_count": 289,
   "metadata": {},
   "outputs": [
    {
     "name": "stdout",
     "output_type": "stream",
     "text": [
      "Epoch 1/50\n",
      "1/1 [==============================] - ETA: 0s - loss: 0.7290 - acc: 0.3638\n",
      "Epoch 00001: val_loss did not improve from 0.09122\n",
      "1/1 [==============================] - 0s 101ms/step - loss: 0.7290 - acc: 0.3638 - val_loss: 0.6799 - val_acc: 0.7460\n",
      "Epoch 2/50\n",
      "1/1 [==============================] - ETA: 0s - loss: 0.7112 - acc: 0.4392\n",
      "Epoch 00002: val_loss did not improve from 0.09122\n",
      "1/1 [==============================] - 0s 16ms/step - loss: 0.7112 - acc: 0.4392 - val_loss: 0.6615 - val_acc: 0.8214\n",
      "Epoch 3/50\n",
      "1/1 [==============================] - ETA: 0s - loss: 0.6920 - acc: 0.4947\n",
      "Epoch 00003: val_loss did not improve from 0.09122\n",
      "1/1 [==============================] - 0s 16ms/step - loss: 0.6920 - acc: 0.4947 - val_loss: 0.6442 - val_acc: 0.9802\n",
      "Epoch 4/50\n",
      "1/1 [==============================] - ETA: 0s - loss: 0.6756 - acc: 0.6111\n",
      "Epoch 00004: val_loss did not improve from 0.09122\n",
      "1/1 [==============================] - 0s 16ms/step - loss: 0.6756 - acc: 0.6111 - val_loss: 0.6286 - val_acc: 0.9841\n",
      "Epoch 5/50\n",
      "1/1 [==============================] - ETA: 0s - loss: 0.6625 - acc: 0.6640\n",
      "Epoch 00005: val_loss did not improve from 0.09122\n",
      "1/1 [==============================] - 0s 16ms/step - loss: 0.6625 - acc: 0.6640 - val_loss: 0.6137 - val_acc: 0.9841\n",
      "Epoch 6/50\n",
      "1/1 [==============================] - ETA: 0s - loss: 0.6438 - acc: 0.7566\n",
      "Epoch 00006: val_loss did not improve from 0.09122\n",
      "1/1 [==============================] - 0s 15ms/step - loss: 0.6438 - acc: 0.7566 - val_loss: 0.6005 - val_acc: 0.9841\n",
      "Epoch 7/50\n",
      "1/1 [==============================] - ETA: 0s - loss: 0.6302 - acc: 0.7989\n",
      "Epoch 00007: val_loss did not improve from 0.09122\n",
      "1/1 [==============================] - 0s 15ms/step - loss: 0.6302 - acc: 0.7989 - val_loss: 0.5878 - val_acc: 0.9841\n",
      "Epoch 8/50\n",
      "1/1 [==============================] - ETA: 0s - loss: 0.6179 - acc: 0.8254\n",
      "Epoch 00008: val_loss did not improve from 0.09122\n",
      "1/1 [==============================] - 0s 15ms/step - loss: 0.6179 - acc: 0.8254 - val_loss: 0.5753 - val_acc: 0.9841\n",
      "Epoch 9/50\n",
      "1/1 [==============================] - ETA: 0s - loss: 0.5993 - acc: 0.8717\n",
      "Epoch 00009: val_loss did not improve from 0.09122\n",
      "1/1 [==============================] - 0s 15ms/step - loss: 0.5993 - acc: 0.8717 - val_loss: 0.5636 - val_acc: 0.9841\n",
      "Epoch 10/50\n",
      "1/1 [==============================] - ETA: 0s - loss: 0.5921 - acc: 0.8849\n",
      "Epoch 00010: val_loss did not improve from 0.09122\n",
      "1/1 [==============================] - 0s 16ms/step - loss: 0.5921 - acc: 0.8849 - val_loss: 0.5528 - val_acc: 0.9841\n",
      "Epoch 11/50\n",
      "1/1 [==============================] - ETA: 0s - loss: 0.5785 - acc: 0.9140\n",
      "Epoch 00011: val_loss did not improve from 0.09122\n",
      "1/1 [==============================] - 0s 16ms/step - loss: 0.5785 - acc: 0.9140 - val_loss: 0.5426 - val_acc: 0.9841\n",
      "Epoch 12/50\n",
      "1/1 [==============================] - ETA: 0s - loss: 0.5621 - acc: 0.9339\n",
      "Epoch 00012: val_loss did not improve from 0.09122\n",
      "1/1 [==============================] - 0s 15ms/step - loss: 0.5621 - acc: 0.9339 - val_loss: 0.5325 - val_acc: 0.9841\n",
      "Epoch 13/50\n",
      "1/1 [==============================] - ETA: 0s - loss: 0.5511 - acc: 0.9484\n",
      "Epoch 00013: val_loss did not improve from 0.09122\n",
      "1/1 [==============================] - 0s 22ms/step - loss: 0.5511 - acc: 0.9484 - val_loss: 0.5225 - val_acc: 0.9841\n",
      "Epoch 14/50\n",
      "1/1 [==============================] - ETA: 0s - loss: 0.5461 - acc: 0.9405\n",
      "Epoch 00014: val_loss did not improve from 0.09122\n",
      "1/1 [==============================] - 0s 18ms/step - loss: 0.5461 - acc: 0.9405 - val_loss: 0.5123 - val_acc: 0.9841\n",
      "Epoch 15/50\n",
      "1/1 [==============================] - ETA: 0s - loss: 0.5309 - acc: 0.9471\n",
      "Epoch 00015: val_loss did not improve from 0.09122\n",
      "1/1 [==============================] - 0s 16ms/step - loss: 0.5309 - acc: 0.9471 - val_loss: 0.5019 - val_acc: 0.9841\n",
      "Epoch 16/50\n",
      "1/1 [==============================] - ETA: 0s - loss: 0.5184 - acc: 0.9563\n",
      "Epoch 00016: val_loss did not improve from 0.09122\n",
      "1/1 [==============================] - 0s 16ms/step - loss: 0.5184 - acc: 0.9563 - val_loss: 0.4912 - val_acc: 0.9841\n",
      "Epoch 17/50\n",
      "1/1 [==============================] - ETA: 0s - loss: 0.5055 - acc: 0.9537\n",
      "Epoch 00017: val_loss did not improve from 0.09122\n",
      "1/1 [==============================] - 0s 16ms/step - loss: 0.5055 - acc: 0.9537 - val_loss: 0.4802 - val_acc: 0.9841\n",
      "Epoch 18/50\n",
      "1/1 [==============================] - ETA: 0s - loss: 0.4907 - acc: 0.9709\n",
      "Epoch 00018: val_loss did not improve from 0.09122\n",
      "1/1 [==============================] - 0s 18ms/step - loss: 0.4907 - acc: 0.9709 - val_loss: 0.4689 - val_acc: 0.9841\n",
      "Epoch 19/50\n",
      "1/1 [==============================] - ETA: 0s - loss: 0.4832 - acc: 0.9656\n",
      "Epoch 00019: val_loss did not improve from 0.09122\n",
      "1/1 [==============================] - 0s 16ms/step - loss: 0.4832 - acc: 0.9656 - val_loss: 0.4572 - val_acc: 0.9841\n",
      "Epoch 20/50\n",
      "1/1 [==============================] - ETA: 0s - loss: 0.4696 - acc: 0.9749\n",
      "Epoch 00020: val_loss did not improve from 0.09122\n",
      "1/1 [==============================] - 0s 16ms/step - loss: 0.4696 - acc: 0.9749 - val_loss: 0.4453 - val_acc: 0.9841\n",
      "Epoch 21/50\n",
      "1/1 [==============================] - ETA: 0s - loss: 0.4594 - acc: 0.9788\n",
      "Epoch 00021: val_loss did not improve from 0.09122\n",
      "1/1 [==============================] - 0s 16ms/step - loss: 0.4594 - acc: 0.9788 - val_loss: 0.4330 - val_acc: 0.9841\n",
      "Epoch 22/50\n",
      "1/1 [==============================] - ETA: 0s - loss: 0.4435 - acc: 0.9815\n",
      "Epoch 00022: val_loss did not improve from 0.09122\n",
      "1/1 [==============================] - 0s 16ms/step - loss: 0.4435 - acc: 0.9815 - val_loss: 0.4204 - val_acc: 0.9841\n",
      "Epoch 23/50\n",
      "1/1 [==============================] - ETA: 0s - loss: 0.4316 - acc: 0.9815\n",
      "Epoch 00023: val_loss did not improve from 0.09122\n",
      "1/1 [==============================] - 0s 15ms/step - loss: 0.4316 - acc: 0.9815 - val_loss: 0.4075 - val_acc: 0.9841\n",
      "Epoch 24/50\n",
      "1/1 [==============================] - ETA: 0s - loss: 0.4235 - acc: 0.9802\n",
      "Epoch 00024: val_loss did not improve from 0.09122\n",
      "1/1 [==============================] - 0s 16ms/step - loss: 0.4235 - acc: 0.9802 - val_loss: 0.3944 - val_acc: 0.9841\n",
      "Epoch 25/50\n",
      "1/1 [==============================] - ETA: 0s - loss: 0.4113 - acc: 0.9815\n",
      "Epoch 00025: val_loss did not improve from 0.09122\n",
      "1/1 [==============================] - 0s 15ms/step - loss: 0.4113 - acc: 0.9815 - val_loss: 0.3812 - val_acc: 0.9841\n",
      "Epoch 26/50\n",
      "1/1 [==============================] - ETA: 0s - loss: 0.3922 - acc: 0.9762\n",
      "Epoch 00026: val_loss did not improve from 0.09122\n",
      "1/1 [==============================] - 0s 15ms/step - loss: 0.3922 - acc: 0.9762 - val_loss: 0.3678 - val_acc: 0.9841\n",
      "Epoch 27/50\n",
      "1/1 [==============================] - ETA: 0s - loss: 0.3832 - acc: 0.9788\n",
      "Epoch 00027: val_loss did not improve from 0.09122\n",
      "1/1 [==============================] - 0s 15ms/step - loss: 0.3832 - acc: 0.9788 - val_loss: 0.3543 - val_acc: 0.9841\n",
      "Epoch 28/50\n",
      "1/1 [==============================] - ETA: 0s - loss: 0.3694 - acc: 0.9854\n",
      "Epoch 00028: val_loss did not improve from 0.09122\n",
      "1/1 [==============================] - 0s 16ms/step - loss: 0.3694 - acc: 0.9854 - val_loss: 0.3407 - val_acc: 0.9841\n",
      "Epoch 29/50\n",
      "1/1 [==============================] - ETA: 0s - loss: 0.3559 - acc: 0.9828\n",
      "Epoch 00029: val_loss did not improve from 0.09122\n",
      "1/1 [==============================] - 0s 14ms/step - loss: 0.3559 - acc: 0.9828 - val_loss: 0.3272 - val_acc: 0.9841\n",
      "Epoch 30/50\n",
      "1/1 [==============================] - ETA: 0s - loss: 0.3538 - acc: 0.9815\n",
      "Epoch 00030: val_loss did not improve from 0.09122\n",
      "1/1 [==============================] - 0s 16ms/step - loss: 0.3538 - acc: 0.9815 - val_loss: 0.3137 - val_acc: 0.9841\n",
      "Epoch 31/50\n",
      "1/1 [==============================] - ETA: 0s - loss: 0.3332 - acc: 0.9841\n",
      "Epoch 00031: val_loss did not improve from 0.09122\n",
      "1/1 [==============================] - 0s 15ms/step - loss: 0.3332 - acc: 0.9841 - val_loss: 0.3004 - val_acc: 0.9841\n",
      "Epoch 32/50\n",
      "1/1 [==============================] - ETA: 0s - loss: 0.3175 - acc: 0.9841\n",
      "Epoch 00032: val_loss did not improve from 0.09122\n",
      "1/1 [==============================] - 0s 15ms/step - loss: 0.3175 - acc: 0.9841 - val_loss: 0.2872 - val_acc: 0.9841\n"
     ]
    },
    {
     "name": "stdout",
     "output_type": "stream",
     "text": [
      "Epoch 33/50\n",
      "1/1 [==============================] - ETA: 0s - loss: 0.3044 - acc: 0.9841\n",
      "Epoch 00033: val_loss did not improve from 0.09122\n",
      "1/1 [==============================] - 0s 16ms/step - loss: 0.3044 - acc: 0.9841 - val_loss: 0.2741 - val_acc: 0.9841\n",
      "Epoch 34/50\n",
      "1/1 [==============================] - ETA: 0s - loss: 0.2961 - acc: 0.9854\n",
      "Epoch 00034: val_loss did not improve from 0.09122\n",
      "1/1 [==============================] - 0s 14ms/step - loss: 0.2961 - acc: 0.9854 - val_loss: 0.2613 - val_acc: 0.9841\n",
      "Epoch 35/50\n",
      "1/1 [==============================] - ETA: 0s - loss: 0.2725 - acc: 0.9854\n",
      "Epoch 00035: val_loss did not improve from 0.09122\n",
      "1/1 [==============================] - 0s 15ms/step - loss: 0.2725 - acc: 0.9854 - val_loss: 0.2488 - val_acc: 0.9841\n",
      "Epoch 36/50\n",
      "1/1 [==============================] - ETA: 0s - loss: 0.2641 - acc: 0.9854\n",
      "Epoch 00036: val_loss did not improve from 0.09122\n",
      "1/1 [==============================] - 0s 15ms/step - loss: 0.2641 - acc: 0.9854 - val_loss: 0.2367 - val_acc: 0.9841\n",
      "Epoch 37/50\n",
      "1/1 [==============================] - ETA: 0s - loss: 0.2457 - acc: 0.9854\n",
      "Epoch 00037: val_loss did not improve from 0.09122\n",
      "1/1 [==============================] - 0s 16ms/step - loss: 0.2457 - acc: 0.9854 - val_loss: 0.2249 - val_acc: 0.9841\n",
      "Epoch 38/50\n",
      "1/1 [==============================] - ETA: 0s - loss: 0.2413 - acc: 0.9854\n",
      "Epoch 00038: val_loss did not improve from 0.09122\n",
      "1/1 [==============================] - 0s 15ms/step - loss: 0.2413 - acc: 0.9854 - val_loss: 0.2135 - val_acc: 0.9841\n",
      "Epoch 39/50\n",
      "1/1 [==============================] - ETA: 0s - loss: 0.2267 - acc: 0.9854\n",
      "Epoch 00039: val_loss did not improve from 0.09122\n",
      "1/1 [==============================] - 0s 15ms/step - loss: 0.2267 - acc: 0.9854 - val_loss: 0.2026 - val_acc: 0.9841\n",
      "Epoch 40/50\n",
      "1/1 [==============================] - ETA: 0s - loss: 0.2171 - acc: 0.9854\n",
      "Epoch 00040: val_loss did not improve from 0.09122\n",
      "1/1 [==============================] - 0s 14ms/step - loss: 0.2171 - acc: 0.9854 - val_loss: 0.1922 - val_acc: 0.9841\n",
      "Epoch 41/50\n",
      "1/1 [==============================] - ETA: 0s - loss: 0.2137 - acc: 0.9854\n",
      "Epoch 00041: val_loss did not improve from 0.09122\n",
      "1/1 [==============================] - 0s 15ms/step - loss: 0.2137 - acc: 0.9854 - val_loss: 0.1823 - val_acc: 0.9841\n",
      "Epoch 42/50\n",
      "1/1 [==============================] - ETA: 0s - loss: 0.1956 - acc: 0.9854\n",
      "Epoch 00042: val_loss did not improve from 0.09122\n",
      "1/1 [==============================] - 0s 15ms/step - loss: 0.1956 - acc: 0.9854 - val_loss: 0.1730 - val_acc: 0.9841\n",
      "Epoch 43/50\n",
      "1/1 [==============================] - ETA: 0s - loss: 0.1951 - acc: 0.9854\n",
      "Epoch 00043: val_loss did not improve from 0.09122\n",
      "1/1 [==============================] - 0s 16ms/step - loss: 0.1951 - acc: 0.9854 - val_loss: 0.1643 - val_acc: 0.9841\n",
      "Epoch 44/50\n",
      "1/1 [==============================] - ETA: 0s - loss: 0.1823 - acc: 0.9854\n",
      "Epoch 00044: val_loss did not improve from 0.09122\n",
      "1/1 [==============================] - 0s 14ms/step - loss: 0.1823 - acc: 0.9854 - val_loss: 0.1562 - val_acc: 0.9841\n",
      "Epoch 45/50\n",
      "1/1 [==============================] - ETA: 0s - loss: 0.1731 - acc: 0.9854\n",
      "Epoch 00045: val_loss did not improve from 0.09122\n",
      "1/1 [==============================] - 0s 16ms/step - loss: 0.1731 - acc: 0.9854 - val_loss: 0.1487 - val_acc: 0.9841\n",
      "Epoch 46/50\n",
      "1/1 [==============================] - ETA: 0s - loss: 0.1603 - acc: 0.9841\n",
      "Epoch 00046: val_loss did not improve from 0.09122\n",
      "1/1 [==============================] - 0s 15ms/step - loss: 0.1603 - acc: 0.9841 - val_loss: 0.1419 - val_acc: 0.9841\n",
      "Epoch 47/50\n",
      "1/1 [==============================] - ETA: 0s - loss: 0.1557 - acc: 0.9854\n",
      "Epoch 00047: val_loss did not improve from 0.09122\n",
      "1/1 [==============================] - 0s 16ms/step - loss: 0.1557 - acc: 0.9854 - val_loss: 0.1356 - val_acc: 0.9841\n",
      "Epoch 48/50\n",
      "1/1 [==============================] - ETA: 0s - loss: 0.1493 - acc: 0.9854\n",
      "Epoch 00048: val_loss did not improve from 0.09122\n",
      "1/1 [==============================] - 0s 15ms/step - loss: 0.1493 - acc: 0.9854 - val_loss: 0.1298 - val_acc: 0.9841\n",
      "Epoch 49/50\n",
      "1/1 [==============================] - ETA: 0s - loss: 0.1477 - acc: 0.9854\n",
      "Epoch 00049: val_loss did not improve from 0.09122\n",
      "1/1 [==============================] - 0s 16ms/step - loss: 0.1477 - acc: 0.9854 - val_loss: 0.1246 - val_acc: 0.9841\n",
      "Epoch 50/50\n",
      "1/1 [==============================] - ETA: 0s - loss: 0.1462 - acc: 0.9854\n",
      "Epoch 00050: val_loss did not improve from 0.09122\n",
      "1/1 [==============================] - 0s 15ms/step - loss: 0.1462 - acc: 0.9854 - val_loss: 0.1200 - val_acc: 0.9841\n"
     ]
    }
   ],
   "source": [
    "history = model.fit(X_train, y_train_ohe, batch_size=batch_size, epochs=epochs, callbacks=[es,mc], validation_data=(X_test, y_test_ohe), verbose=1)"
   ]
  },
  {
   "cell_type": "code",
   "execution_count": 290,
   "metadata": {},
   "outputs": [],
   "source": [
    "model.save('rcp_model.h5')"
   ]
  },
  {
   "cell_type": "markdown",
   "metadata": {},
   "source": [
    "# \n",
    "# 10. 모델 성능 평가"
   ]
  },
  {
   "cell_type": "markdown",
   "metadata": {},
   "source": [
    "### Accuracy"
   ]
  },
  {
   "cell_type": "code",
   "execution_count": 291,
   "metadata": {},
   "outputs": [
    {
     "data": {
      "text/plain": [
       "<matplotlib.legend.Legend at 0x1619da8aa48>"
      ]
     },
     "execution_count": 291,
     "metadata": {},
     "output_type": "execute_result"
    },
    {
     "data": {
      "image/png": "[encoded data removed]",
      "text/plain": [
       "<Figure size 720x360 with 1 Axes>"
      ]
     },
     "metadata": {},
     "output_type": "display_data"
    }
   ],
   "source": [
    "plt.figure(figsize=(10,5))\n",
    "plt.plot(history.history['acc'])\n",
    "plt.plot(history.history['val_acc'])\n",
    "plt.title('Model Accuracy')\n",
    "plt.xlabel('Epochs')\n",
    "plt.ylabel('Accuracy')\n",
    "plt.legend(['Train','Validation'], loc='lower right')"
   ]
  },
  {
   "cell_type": "markdown",
   "metadata": {},
   "source": [
    "### Loss"
   ]
  },
  {
   "cell_type": "code",
   "execution_count": 292,
   "metadata": {},
   "outputs": [
    {
     "data": {
      "text/plain": [
       "<matplotlib.legend.Legend at 0x1619da6f088>"
      ]
     },
     "execution_count": 292,
     "metadata": {},
     "output_type": "execute_result"
    },
    {
     "data": {
      "image/png": "[encoded data removed]",
      "text/plain": [
       "<Figure size 720x360 with 1 Axes>"
      ]
     },
     "metadata": {},
     "output_type": "display_data"
    }
   ],
   "source": [
    "plt.figure(figsize=(10,5))\n",
    "plt.plot(history.history['loss'], 'b', label='Train Loss')\n",
    "plt.plot(history.history['val_loss'], 'y', label='validaton Loss')\n",
    "plt.xlabel('Epochs')\n",
    "plt.ylabel('Loss')\n",
    "plt.legend()"
   ]
  },
  {
   "cell_type": "markdown",
   "metadata": {},
   "source": [
    "### 예측"
   ]
  },
  {
   "cell_type": "code",
   "execution_count": 248,
   "metadata": {},
   "outputs": [
    {
     "name": "stdout",
     "output_type": "stream",
     "text": [
      "1/1 [==============================] - 0s 999us/step\n"
     ]
    }
   ],
   "source": [
    "y_test_pred = model.predict(X_test, batch_size=batch_size, verbose=1)\n",
    "y_test = y_test_ohe"
   ]
  },
  {
   "cell_type": "markdown",
   "metadata": {},
   "source": [
    "- Confusion Matrix API 형식에 맞게 예측\n",
    "- 실제 해지 여부 가공(argmax함수를 사용하여  확률값을 0 또는1 로 변환)"
   ]
  },
  {
   "cell_type": "code",
   "execution_count": 249,
   "metadata": {},
   "outputs": [],
   "source": [
    "y_test_c = np.argmax(y_test_ohe, axis=1).reshape(-1,1)\n",
    "y_test_pred_c = np.argmax(y_test_pred, axis=1).reshape(-1,1)"
   ]
  },
  {
   "cell_type": "code",
   "execution_count": 250,
   "metadata": {},
   "outputs": [
    {
     "data": {
      "text/plain": [
       "((252, 1), (252, 1))"
      ]
     },
     "execution_count": 250,
     "metadata": {},
     "output_type": "execute_result"
    }
   ],
   "source": [
    "y_test_c.shape, y_test_pred_c.shape"
   ]
  },
  {
   "cell_type": "code",
   "execution_count": 251,
   "metadata": {},
   "outputs": [],
   "source": [
    "# # Confusion Matrix, ROC Curve 시각화에 표현될 라벨 이름\n",
    "# label_name = [\"no\",\"yes\"]\n",
    "\n",
    "# #Draw Confusion Matrix\n",
    "# aidu_framework.plot_confusion_matrix(\n",
    "#     y_true=y_test_c, # Label(Y) 의 정답 (numpy.array)\n",
    "#     y_pred=y_test_pred_c, # Label(Y) 의 예측결과 (numpy.array)\n",
    "#     target_names=label_name, # Label(Y) 의 이름 (array)\n",
    "#     title='Confusion Matrix', # matplotlib 객체의 타이틀 (옵션)\n",
    "#     cmap=None, # matplotlib 의 컬러맵 plt.get_cmap('Greys') ( 기본값 : None )\n",
    "#     normalize=False # 결과 값 Normalize 여부 ( 기본값 : True )\n",
    "# )\n",
    "\n",
    "# #Draw ROC Curve\n",
    "# aidu_framework.plot_roc_curve(\n",
    "#     y_true=y_test, # Label(Y) 의 정답 (numpy.array)\n",
    "#     y_pred=y_test_pred, # Label(Y) 의 예측결과 (numpy.array)\n",
    "#     n_classes=2, # Label(Y) 의 이름 갯수\n",
    "#     target_names=label_name, # Label(Y) 의 이름 (array)\n",
    "#     title='ROC Curve' # matplotlib 객체의 타이틀 (옵션)\n",
    "# )\n",
    "\n",
    "# #Draw Classification Report\n",
    "# aidu_framework.classification_report(\n",
    "#     y_true= y_test_c, # Label(Y) 의 정답 (numpy.array)\n",
    "#     y_pred=y_test_pred_c, # Label(Y) 의 예측결과 (numpy.array)\n",
    "#     target_names= label_name# Label(Y) 의 이름 (array)\n",
    "# )\n",
    "\n",
    "# #Graph Regulation\n",
    "# plt.figure(figsize=(8, 6), dpi=150) # 화면 배치 기준 50%\n",
    "# plt.savefig(\n",
    "#     aidu_framework.get_plot_save_filename(), # 자동으로 순차적인 파일명을 리턴\n",
    "#     dpi=150,\n",
    "#     bbox_inches='tight',\n",
    "#     pad_inches=0.5\n",
    "# )"
   ]
  },
  {
   "cell_type": "code",
   "execution_count": null,
   "metadata": {},
   "outputs": [],
   "source": []
  }
 ],
 "metadata": {
  "kernelspec": {
   "display_name": "Python 3",
   "language": "python",
   "name": "python3"
  },
  "language_info": {
   "codemirror_mode": {
    "name": "ipython",
    "version": 3
   },
   "file_extension": ".py",
   "mimetype": "text/x-python",
   "name": "python",
   "nbconvert_exporter": "python",
   "pygments_lexer": "ipython3",
   "version": "3.8.7"
  },
  "toc": {
   "base_numbering": 1,
   "nav_menu": {},
   "number_sections": true,
   "sideBar": true,
   "skip_h1_title": false,
   "title_cell": "Table of Contents",
   "title_sidebar": "Contents",
   "toc_cell": false,
   "toc_position": {},
   "toc_section_display": true,
   "toc_window_display": false
  }
 },
 "nbformat": 4,
 "nbformat_minor": 4
}
