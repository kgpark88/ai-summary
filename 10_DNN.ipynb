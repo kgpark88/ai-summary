{
 "cells": [
  {
   "cell_type": "markdown",
   "metadata": {
    "id": "W8p15qvhKu8f"
   },
   "source": [
    "# 심층신경망(DNN, Deep Neural Network)"
   ]
  },
  {
   "cell_type": "markdown",
   "metadata": {
    "id": "_fTY_LcgKu8j"
   },
   "source": [
    "① 라이브러리 임포트(import)  \n",
    "② 데이터 가져오기(Loading the data)  \n",
    "③ 탐색적 데이터 분석(Exploratory Data Analysis)  \n",
    "④ 데이터 전처리(Data PreProcessing) : 데이터타입 변환, Null 데이터 처리, 누락데이터 처리, \n",
    "카테고리 데이터, 더미특성 생성, 특성 추출 (feature engineering) 등  \n",
    "⑤ Train, Test  데이터셋 분할  \n",
    "⑥ 데이터 정규화(Normalizing the Data)  \n",
    "⑦ 모델 개발(Creating the Model)  \n",
    "⑧ 모델 성능 평가"
   ]
  },
  {
   "cell_type": "markdown",
   "metadata": {
    "id": "xznFHOI7Ku8j"
   },
   "source": [
    "### ① 라이브러리 임포트"
   ]
  },
  {
   "cell_type": "code",
   "execution_count": 1,
   "metadata": {
    "id": "1Xh5Bo7GKu8j"
   },
   "outputs": [],
   "source": [
    "import pandas as pd\n",
    "import seaborn as sns\n",
    "import matplotlib.pyplot as plt\n",
    "\n",
    "import tensorflow as tf\n",
    "from tensorflow.keras.models import Sequential\n",
    "from tensorflow.keras.layers import Dense, Activation, Dropout"
   ]
  },
  {
   "cell_type": "markdown",
   "metadata": {
    "id": "KcEkPszQKu8j"
   },
   "source": [
    "### ② 데이터 로드"
   ]
  },
  {
   "cell_type": "code",
   "execution_count": 2,
   "metadata": {
    "id": "IoFa3qY0Ku8j"
   },
   "outputs": [],
   "source": [
    "# df = pd.read_csv('churn_data.csv')\n",
    "df = pd.read_csv('https://raw.githubusercontent.com/kgpark88/ai-summary/main/churn_data.csv')"
   ]
  },
  {
   "cell_type": "markdown",
   "metadata": {
    "id": "GTKqo1pSKu8j"
   },
   "source": [
    "### ③ 데이터 분석"
   ]
  },
  {
   "cell_type": "code",
   "execution_count": 3,
   "metadata": {
    "colab": {
     "base_uri": "https://localhost:8080/"
    },
    "id": "OLi7Xv6XKu8j",
    "outputId": "439a5c0d-25b2-4e04-9dea-1c0c31830c33"
   },
   "outputs": [
    {
     "name": "stdout",
     "output_type": "stream",
     "text": [
      "<class 'pandas.core.frame.DataFrame'>\n",
      "RangeIndex: 7043 entries, 0 to 7042\n",
      "Data columns (total 21 columns):\n",
      " #   Column            Non-Null Count  Dtype  \n",
      "---  ------            --------------  -----  \n",
      " 0   customerID        7043 non-null   object \n",
      " 1   gender            7043 non-null   object \n",
      " 2   SeniorCitizen     7043 non-null   int64  \n",
      " 3   Partner           7043 non-null   object \n",
      " 4   Dependents        7043 non-null   object \n",
      " 5   tenure            7043 non-null   int64  \n",
      " 6   PhoneService      7043 non-null   object \n",
      " 7   MultipleLines     7043 non-null   object \n",
      " 8   InternetService   7043 non-null   object \n",
      " 9   OnlineSecurity    7043 non-null   object \n",
      " 10  OnlineBackup      7043 non-null   object \n",
      " 11  DeviceProtection  7043 non-null   object \n",
      " 12  TechSupport       7043 non-null   object \n",
      " 13  StreamingTV       7043 non-null   object \n",
      " 14  StreamingMovies   7043 non-null   object \n",
      " 15  Contract          7043 non-null   object \n",
      " 16  PaperlessBilling  7043 non-null   object \n",
      " 17  PaymentMethod     7043 non-null   object \n",
      " 18  MonthlyCharges    7043 non-null   float64\n",
      " 19  TotalCharges      7043 non-null   object \n",
      " 20  Churn             7043 non-null   object \n",
      "dtypes: float64(1), int64(2), object(18)\n",
      "memory usage: 1.1+ MB\n"
     ]
    }
   ],
   "source": [
    "df.info()"
   ]
  },
  {
   "cell_type": "code",
   "execution_count": 4,
   "metadata": {
    "colab": {
     "base_uri": "https://localhost:8080/"
    },
    "id": "omfjNiq4Ku8j",
    "outputId": "e29f00de-e64d-429f-e51f-5c7c43675bab"
   },
   "outputs": [
    {
     "data": {
      "text/plain": [
       "customerID          0\n",
       "gender              0\n",
       "SeniorCitizen       0\n",
       "Partner             0\n",
       "Dependents          0\n",
       "tenure              0\n",
       "PhoneService        0\n",
       "MultipleLines       0\n",
       "InternetService     0\n",
       "OnlineSecurity      0\n",
       "OnlineBackup        0\n",
       "DeviceProtection    0\n",
       "TechSupport         0\n",
       "StreamingTV         0\n",
       "StreamingMovies     0\n",
       "Contract            0\n",
       "PaperlessBilling    0\n",
       "PaymentMethod       0\n",
       "MonthlyCharges      0\n",
       "TotalCharges        0\n",
       "Churn               0\n",
       "dtype: int64"
      ]
     },
     "execution_count": 4,
     "metadata": {},
     "output_type": "execute_result"
    }
   ],
   "source": [
    "df.isnull().sum()"
   ]
  },
  {
   "cell_type": "code",
   "execution_count": 5,
   "metadata": {
    "colab": {
     "base_uri": "https://localhost:8080/",
     "height": 142
    },
    "id": "FvUDbj_DKu8j",
    "outputId": "b826f8cd-c29c-4bb1-a7e0-872729858da6"
   },
   "outputs": [
    {
     "data": {
      "text/html": [
       "<div>\n",
       "<style scoped>\n",
       "    .dataframe tbody tr th:only-of-type {\n",
       "        vertical-align: middle;\n",
       "    }\n",
       "\n",
       "    .dataframe tbody tr th {\n",
       "        vertical-align: top;\n",
       "    }\n",
       "\n",
       "    .dataframe thead th {\n",
       "        text-align: right;\n",
       "    }\n",
       "</style>\n",
       "<table border=\"1\" class=\"dataframe\">\n",
       "  <thead>\n",
       "    <tr style=\"text-align: right;\">\n",
       "      <th></th>\n",
       "      <th>count</th>\n",
       "      <th>mean</th>\n",
       "      <th>std</th>\n",
       "      <th>min</th>\n",
       "      <th>25%</th>\n",
       "      <th>50%</th>\n",
       "      <th>75%</th>\n",
       "      <th>max</th>\n",
       "    </tr>\n",
       "  </thead>\n",
       "  <tbody>\n",
       "    <tr>\n",
       "      <th>SeniorCitizen</th>\n",
       "      <td>7043.0</td>\n",
       "      <td>0.162147</td>\n",
       "      <td>0.368612</td>\n",
       "      <td>0.00</td>\n",
       "      <td>0.0</td>\n",
       "      <td>0.00</td>\n",
       "      <td>0.00</td>\n",
       "      <td>1.00</td>\n",
       "    </tr>\n",
       "    <tr>\n",
       "      <th>tenure</th>\n",
       "      <td>7043.0</td>\n",
       "      <td>32.371149</td>\n",
       "      <td>24.559481</td>\n",
       "      <td>0.00</td>\n",
       "      <td>9.0</td>\n",
       "      <td>29.00</td>\n",
       "      <td>55.00</td>\n",
       "      <td>72.00</td>\n",
       "    </tr>\n",
       "    <tr>\n",
       "      <th>MonthlyCharges</th>\n",
       "      <td>7043.0</td>\n",
       "      <td>64.761692</td>\n",
       "      <td>30.090047</td>\n",
       "      <td>18.25</td>\n",
       "      <td>35.5</td>\n",
       "      <td>70.35</td>\n",
       "      <td>89.85</td>\n",
       "      <td>118.75</td>\n",
       "    </tr>\n",
       "  </tbody>\n",
       "</table>\n",
       "</div>"
      ],
      "text/plain": [
       "                 count       mean        std    min   25%    50%    75%  \\\n",
       "SeniorCitizen   7043.0   0.162147   0.368612   0.00   0.0   0.00   0.00   \n",
       "tenure          7043.0  32.371149  24.559481   0.00   9.0  29.00  55.00   \n",
       "MonthlyCharges  7043.0  64.761692  30.090047  18.25  35.5  70.35  89.85   \n",
       "\n",
       "                   max  \n",
       "SeniorCitizen     1.00  \n",
       "tenure           72.00  \n",
       "MonthlyCharges  118.75  "
      ]
     },
     "execution_count": 5,
     "metadata": {},
     "output_type": "execute_result"
    }
   ],
   "source": [
    "df.describe().transpose()"
   ]
  },
  {
   "cell_type": "code",
   "execution_count": 6,
   "metadata": {
    "colab": {
     "base_uri": "https://localhost:8080/",
     "height": 339
    },
    "id": "yDhgvD15Ku8j",
    "outputId": "b08b1378-d300-4c58-f217-41228c6028df"
   },
   "outputs": [
    {
     "data": {
      "text/plain": [
       "<AxesSubplot:>"
      ]
     },
     "execution_count": 6,
     "metadata": {},
     "output_type": "execute_result"
    },
    {
     "data": {
      "image/png": "[encoded data removed]",
      "text/plain": [
       "<Figure size 432x288 with 1 Axes>"
      ]
     },
     "metadata": {
      "needs_background": "light"
     },
     "output_type": "display_data"
    }
   ],
   "source": [
    "df.corr()['MonthlyCharges'][:-1].sort_values().plot(kind='bar')"
   ]
  },
  {
   "cell_type": "markdown",
   "metadata": {
    "id": "WTvo7E9IKu8j"
   },
   "source": [
    "### ④ 데이터 전처리"
   ]
  },
  {
   "cell_type": "code",
   "execution_count": 7,
   "metadata": {
    "id": "EXoe4UgGKu8j"
   },
   "outputs": [],
   "source": [
    "df.drop('customerID', axis=1, inplace=True)"
   ]
  },
  {
   "cell_type": "code",
   "execution_count": 8,
   "metadata": {
    "id": "ix2MxklMKu8j"
   },
   "outputs": [],
   "source": [
    "df['TotalCharges'].replace([' '], ['0'], inplace=True)"
   ]
  },
  {
   "cell_type": "code",
   "execution_count": 9,
   "metadata": {
    "id": "9YIGe9P3Ku8j"
   },
   "outputs": [],
   "source": [
    "df['TotalCharges'] = df['TotalCharges'].astype(float)"
   ]
  },
  {
   "cell_type": "code",
   "execution_count": 10,
   "metadata": {
    "id": "5JnBDm85Ku8j"
   },
   "outputs": [],
   "source": [
    "df['Churn'].replace(['Yes', 'No'], [1, 0], inplace=True)"
   ]
  },
  {
   "cell_type": "markdown",
   "metadata": {
    "id": "OuWj2mlvKu8j"
   },
   "source": [
    "### 더미 특성 생성"
   ]
  },
  {
   "cell_type": "code",
   "execution_count": 11,
   "metadata": {
    "id": "VYpdqLJhKu8j"
   },
   "outputs": [],
   "source": [
    "cols = ['gender', 'Partner', 'Dependents', 'PhoneService', 'MultipleLines', \n",
    "        'InternetService', 'OnlineSecurity', 'OnlineBackup', 'DeviceProtection', \n",
    "        'TechSupport', 'StreamingTV', 'StreamingMovies', 'Contract', \n",
    "        'PaperlessBilling', 'PaymentMethod']"
   ]
  },
  {
   "cell_type": "code",
   "execution_count": 12,
   "metadata": {
    "id": "CyF-ixcVKu8j"
   },
   "outputs": [],
   "source": [
    "dummies = pd.get_dummies(df[cols], drop_first=True)"
   ]
  },
  {
   "cell_type": "code",
   "execution_count": 13,
   "metadata": {
    "id": "16FejSRAKu8j"
   },
   "outputs": [],
   "source": [
    "df = df.drop(cols, axis=1)"
   ]
  },
  {
   "cell_type": "code",
   "execution_count": 14,
   "metadata": {
    "id": "WCO9vB6eKu8j"
   },
   "outputs": [],
   "source": [
    "df = pd.concat([df, dummies], axis=1)"
   ]
  },
  {
   "cell_type": "code",
   "execution_count": 15,
   "metadata": {
    "id": "_W4nTny7Ku8j"
   },
   "outputs": [],
   "source": [
    "# df = pd.get_dummies(df)\n",
    "# cols = list(df.select_dtypes('object').columns)"
   ]
  },
  {
   "cell_type": "markdown",
   "metadata": {
    "id": "pyKBvo_gKu8j"
   },
   "source": [
    "### ⑤ Train, Test  데이터셋 분할"
   ]
  },
  {
   "cell_type": "code",
   "execution_count": 16,
   "metadata": {
    "id": "uBzPO0bTKu8j"
   },
   "outputs": [],
   "source": [
    "from sklearn.model_selection import train_test_split"
   ]
  },
  {
   "cell_type": "code",
   "execution_count": 17,
   "metadata": {
    "id": "kVxOkKkwKu8j"
   },
   "outputs": [],
   "source": [
    "X = df.drop('Churn', axis=1).values\n",
    "y = df['Churn'].values"
   ]
  },
  {
   "cell_type": "code",
   "execution_count": 18,
   "metadata": {
    "id": "xViKA0VeKu8j"
   },
   "outputs": [],
   "source": [
    "X_train, X_test, y_train, y_test = train_test_split(X, y, \n",
    "                                                    test_size=0.3, \n",
    "                                                    random_state=42)"
   ]
  },
  {
   "cell_type": "code",
   "execution_count": 19,
   "metadata": {
    "colab": {
     "base_uri": "https://localhost:8080/"
    },
    "id": "WOB04re_Ku8j",
    "outputId": "1e77618c-9296-4adb-cb2b-74f1def13839"
   },
   "outputs": [
    {
     "data": {
      "text/plain": [
       "(4930, 30)"
      ]
     },
     "execution_count": 19,
     "metadata": {},
     "output_type": "execute_result"
    }
   ],
   "source": [
    "X_train.shape"
   ]
  },
  {
   "cell_type": "code",
   "execution_count": 20,
   "metadata": {
    "colab": {
     "base_uri": "https://localhost:8080/"
    },
    "id": "WYzAtawMKu8j",
    "outputId": "286b3e7a-e5f2-474d-a22b-7c68548bdc1d"
   },
   "outputs": [
    {
     "data": {
      "text/plain": [
       "(4930,)"
      ]
     },
     "execution_count": 20,
     "metadata": {},
     "output_type": "execute_result"
    }
   ],
   "source": [
    "y_train.shape"
   ]
  },
  {
   "cell_type": "markdown",
   "metadata": {
    "id": "SqCsgHxiKu8j"
   },
   "source": [
    "### 데이터 정규화/스케일링(Normalizing/Scaling)"
   ]
  },
  {
   "cell_type": "code",
   "execution_count": 21,
   "metadata": {
    "id": "HlwzqwefKu8j"
   },
   "outputs": [],
   "source": [
    "from sklearn.preprocessing import MinMaxScaler"
   ]
  },
  {
   "cell_type": "code",
   "execution_count": 22,
   "metadata": {
    "id": "l9ENFbSbKu8k"
   },
   "outputs": [],
   "source": [
    "scaler = MinMaxScaler()\n",
    "scaler.fit(X_train)\n",
    "X_train = scaler.transform(X_train)\n",
    "X_test = scaler.transform(X_test)"
   ]
  },
  {
   "cell_type": "markdown",
   "metadata": {
    "id": "qeJNY_B3Ku8k"
   },
   "source": [
    "### 모델 입력갯수, 출력갯수 확인"
   ]
  },
  {
   "cell_type": "code",
   "execution_count": 23,
   "metadata": {
    "colab": {
     "base_uri": "https://localhost:8080/"
    },
    "id": "Cf4SXnH9Ku8k",
    "outputId": "3015816d-86cb-4f1e-9e03-0fbca4fdb7b4"
   },
   "outputs": [
    {
     "data": {
      "text/plain": [
       "(4930, 30)"
      ]
     },
     "execution_count": 23,
     "metadata": {},
     "output_type": "execute_result"
    }
   ],
   "source": [
    "X_train.shape"
   ]
  },
  {
   "cell_type": "code",
   "execution_count": 24,
   "metadata": {
    "colab": {
     "base_uri": "https://localhost:8080/"
    },
    "id": "SZVMsZTLKu8k",
    "outputId": "980cedcb-0c7b-4909-ac07-f5794eba8953"
   },
   "outputs": [
    {
     "data": {
      "text/plain": [
       "(4930,)"
      ]
     },
     "execution_count": 24,
     "metadata": {},
     "output_type": "execute_result"
    }
   ],
   "source": [
    "y_train.shape"
   ]
  },
  {
   "cell_type": "markdown",
   "metadata": {
    "id": "spOGOLdWKu8k"
   },
   "source": [
    "### ⑦ 모델 구성"
   ]
  },
  {
   "cell_type": "code",
   "execution_count": 25,
   "metadata": {
    "id": "kB0tNJLPKu8k"
   },
   "outputs": [],
   "source": [
    "model = Sequential()\n",
    "\n",
    "# input layer\n",
    "model.add(Dense(64, activation='relu', input_shape=(30,)))\n",
    "\n",
    "# hidden layer\n",
    "model.add(Dense(64, activation='relu'))\n",
    "\n",
    "# hidden layer\n",
    "model.add(Dense(32, activation='relu'))\n",
    "\n",
    "# output layer\n",
    "model.add(Dense(1, activation='sigmoid'))"
   ]
  },
  {
   "cell_type": "markdown",
   "metadata": {
    "id": "GXJFTfrZKu8k"
   },
   "source": [
    "### 모델 구성 -  과적합 방지"
   ]
  },
  {
   "cell_type": "code",
   "execution_count": 26,
   "metadata": {
    "id": "-togVAJGKu8k"
   },
   "outputs": [],
   "source": [
    "model = Sequential()\n",
    "model.add(Dense(128, activation='relu', input_shape=(30,)))\n",
    "model.add(Dropout(0.5))\n",
    "model.add(Dense(64, activation='relu'))\n",
    "model.add(Dropout(0.5))\n",
    "model.add(Dense(64, activation='relu'))\n",
    "model.add(Dropout(0.5))\n",
    "model.add(Dense(32, activation='relu'))\n",
    "model.add(Dropout(0.5))\n",
    "\n",
    "model.add(Dense(1, activation='sigmoid'))"
   ]
  },
  {
   "cell_type": "markdown",
   "metadata": {
    "id": "h6GUkt9uKu8k"
   },
   "source": [
    "### 모델 확인"
   ]
  },
  {
   "cell_type": "code",
   "execution_count": 27,
   "metadata": {
    "colab": {
     "base_uri": "https://localhost:8080/"
    },
    "id": "evHyumLfKu8k",
    "outputId": "2b47af3e-b3b5-4a9b-ad3d-86ade304aaee"
   },
   "outputs": [
    {
     "name": "stdout",
     "output_type": "stream",
     "text": [
      "Model: \"sequential_1\"\n",
      "_________________________________________________________________\n",
      "Layer (type)                 Output Shape              Param #   \n",
      "=================================================================\n",
      "dense_4 (Dense)              (None, 128)               3968      \n",
      "_________________________________________________________________\n",
      "dropout (Dropout)            (None, 128)               0         \n",
      "_________________________________________________________________\n",
      "dense_5 (Dense)              (None, 64)                8256      \n",
      "_________________________________________________________________\n",
      "dropout_1 (Dropout)          (None, 64)                0         \n",
      "_________________________________________________________________\n",
      "dense_6 (Dense)              (None, 64)                4160      \n",
      "_________________________________________________________________\n",
      "dropout_2 (Dropout)          (None, 64)                0         \n",
      "_________________________________________________________________\n",
      "dense_7 (Dense)              (None, 32)                2080      \n",
      "_________________________________________________________________\n",
      "dropout_3 (Dropout)          (None, 32)                0         \n",
      "_________________________________________________________________\n",
      "dense_8 (Dense)              (None, 1)                 33        \n",
      "=================================================================\n",
      "Total params: 18,497\n",
      "Trainable params: 18,497\n",
      "Non-trainable params: 0\n",
      "_________________________________________________________________\n"
     ]
    }
   ],
   "source": [
    "model.summary()"
   ]
  },
  {
   "cell_type": "code",
   "execution_count": 28,
   "metadata": {
    "id": "65Boa6dlKu8k"
   },
   "outputs": [],
   "source": [
    "hidden1 = model.layers[0]"
   ]
  },
  {
   "cell_type": "code",
   "execution_count": 29,
   "metadata": {
    "id": "0jri7H_4Ku8k"
   },
   "outputs": [],
   "source": [
    "weights, biases = hidden1.get_weights()"
   ]
  },
  {
   "cell_type": "code",
   "execution_count": 30,
   "metadata": {
    "colab": {
     "base_uri": "https://localhost:8080/"
    },
    "id": "vADUjkHrKu8k",
    "outputId": "ff9b3455-cd1f-4206-8967-9fa4985902c1"
   },
   "outputs": [
    {
     "name": "stdout",
     "output_type": "stream",
     "text": [
      "[[ 0.07805131 -0.06475793  0.17851852 ... -0.17326975  0.12140559\n",
      "   0.10373129]\n",
      " [-0.18355693  0.07428049  0.06770067 ...  0.0849119   0.00692113\n",
      "  -0.0606834 ]\n",
      " [ 0.16285755 -0.15311824  0.10382806 ...  0.07554771 -0.01873975\n",
      "   0.00546695]\n",
      " ...\n",
      " [ 0.17103802  0.01891486  0.13395573 ...  0.08380376  0.1766579\n",
      "   0.18439843]\n",
      " [ 0.17426823 -0.1860043  -0.06648739 ... -0.04474232 -0.0051488\n",
      "   0.05049866]\n",
      " [-0.18879673  0.04706958 -0.16539343 ... -0.06996744 -0.06610167\n",
      "   0.03122583]]\n"
     ]
    }
   ],
   "source": [
    "print(weights)"
   ]
  },
  {
   "cell_type": "code",
   "execution_count": 31,
   "metadata": {
    "colab": {
     "base_uri": "https://localhost:8080/"
    },
    "id": "bLD6yKMbKu8k",
    "outputId": "ad74d578-3b59-4391-fa72-17b7b39a8235"
   },
   "outputs": [
    {
     "name": "stdout",
     "output_type": "stream",
     "text": [
      "[0. 0. 0. 0. 0. 0. 0. 0. 0. 0. 0. 0. 0. 0. 0. 0. 0. 0. 0. 0. 0. 0. 0. 0.\n",
      " 0. 0. 0. 0. 0. 0. 0. 0. 0. 0. 0. 0. 0. 0. 0. 0. 0. 0. 0. 0. 0. 0. 0. 0.\n",
      " 0. 0. 0. 0. 0. 0. 0. 0. 0. 0. 0. 0. 0. 0. 0. 0. 0. 0. 0. 0. 0. 0. 0. 0.\n",
      " 0. 0. 0. 0. 0. 0. 0. 0. 0. 0. 0. 0. 0. 0. 0. 0. 0. 0. 0. 0. 0. 0. 0. 0.\n",
      " 0. 0. 0. 0. 0. 0. 0. 0. 0. 0. 0. 0. 0. 0. 0. 0. 0. 0. 0. 0. 0. 0. 0. 0.\n",
      " 0. 0. 0. 0. 0. 0. 0. 0.]\n"
     ]
    }
   ],
   "source": [
    "print(biases)"
   ]
  },
  {
   "cell_type": "markdown",
   "metadata": {
    "id": "KVwM9R5oKu8k"
   },
   "source": [
    "#### 모델 컴파일 – 이진 분류 모델"
   ]
  },
  {
   "cell_type": "code",
   "execution_count": 32,
   "metadata": {
    "id": "lWCoaAU6Ku8k"
   },
   "outputs": [],
   "source": [
    "model.compile(optimizer='adam', \n",
    "              loss='binary_crossentropy', \n",
    "              metrics=['accuracy']) "
   ]
  },
  {
   "cell_type": "markdown",
   "metadata": {
    "id": "k65qcMpZKu8k"
   },
   "source": [
    "- 모델 컴파일 – 다중 분류 모델  \n",
    "model.compile(optimizer='adam', \n",
    "              loss='categorical_crossentropy', \n",
    "              metrics=['accuracy']) \n"
   ]
  },
  {
   "cell_type": "markdown",
   "metadata": {
    "id": "ORJmg8O_Ku8k"
   },
   "source": [
    "- 모델 컴파일 – 예측 모델\n",
    "model.compile(optimizer='adam', loss='mse')"
   ]
  },
  {
   "cell_type": "markdown",
   "metadata": {
    "id": "eBJhPOMmKu8k"
   },
   "source": [
    "### 모델 훈련(학습) 하기"
   ]
  },
  {
   "cell_type": "code",
   "execution_count": 33,
   "metadata": {
    "colab": {
     "base_uri": "https://localhost:8080/"
    },
    "id": "Ien9p8A9Ku8k",
    "outputId": "c2494f36-80a8-4142-d3b9-415cc5411c49"
   },
   "outputs": [
    {
     "name": "stdout",
     "output_type": "stream",
     "text": [
      "Epoch 1/20\n",
      "493/493 [==============================] - 1s 2ms/step - loss: 0.5371 - accuracy: 0.7343 - val_loss: 0.4490 - val_accuracy: 0.7908\n",
      "Epoch 2/20\n",
      "493/493 [==============================] - 1s 2ms/step - loss: 0.4886 - accuracy: 0.7669 - val_loss: 0.4368 - val_accuracy: 0.7993\n",
      "Epoch 3/20\n",
      "493/493 [==============================] - 1s 2ms/step - loss: 0.4690 - accuracy: 0.7722 - val_loss: 0.4286 - val_accuracy: 0.7946\n",
      "Epoch 4/20\n",
      "493/493 [==============================] - 1s 2ms/step - loss: 0.4628 - accuracy: 0.7838 - val_loss: 0.4293 - val_accuracy: 0.8022\n",
      "Epoch 5/20\n",
      "493/493 [==============================] - 1s 2ms/step - loss: 0.4582 - accuracy: 0.7862 - val_loss: 0.4318 - val_accuracy: 0.7974\n",
      "Epoch 6/20\n",
      "493/493 [==============================] - 1s 2ms/step - loss: 0.4492 - accuracy: 0.7888 - val_loss: 0.4266 - val_accuracy: 0.7970\n",
      "Epoch 7/20\n",
      "493/493 [==============================] - 1s 2ms/step - loss: 0.4509 - accuracy: 0.7884 - val_loss: 0.4321 - val_accuracy: 0.8022\n",
      "Epoch 8/20\n",
      "493/493 [==============================] - 1s 2ms/step - loss: 0.4430 - accuracy: 0.7899 - val_loss: 0.4243 - val_accuracy: 0.8055\n",
      "Epoch 9/20\n",
      "493/493 [==============================] - 1s 2ms/step - loss: 0.4441 - accuracy: 0.7903 - val_loss: 0.4154 - val_accuracy: 0.8027\n",
      "Epoch 10/20\n",
      "493/493 [==============================] - 1s 2ms/step - loss: 0.4447 - accuracy: 0.7957 - val_loss: 0.4245 - val_accuracy: 0.8041\n",
      "Epoch 11/20\n",
      "493/493 [==============================] - 1s 2ms/step - loss: 0.4416 - accuracy: 0.7929 - val_loss: 0.4175 - val_accuracy: 0.8093\n",
      "Epoch 12/20\n",
      "493/493 [==============================] - 1s 2ms/step - loss: 0.4387 - accuracy: 0.7959 - val_loss: 0.4244 - val_accuracy: 0.8017\n",
      "Epoch 13/20\n",
      "493/493 [==============================] - 1s 2ms/step - loss: 0.4342 - accuracy: 0.7968 - val_loss: 0.4235 - val_accuracy: 0.8060\n",
      "Epoch 14/20\n",
      "493/493 [==============================] - 1s 2ms/step - loss: 0.4465 - accuracy: 0.7888 - val_loss: 0.4155 - val_accuracy: 0.8079\n",
      "Epoch 15/20\n",
      "493/493 [==============================] - 1s 2ms/step - loss: 0.4361 - accuracy: 0.7988 - val_loss: 0.4268 - val_accuracy: 0.7979\n",
      "Epoch 16/20\n",
      "493/493 [==============================] - 1s 2ms/step - loss: 0.4346 - accuracy: 0.7992 - val_loss: 0.4240 - val_accuracy: 0.8003\n",
      "Epoch 17/20\n",
      "493/493 [==============================] - 1s 2ms/step - loss: 0.4336 - accuracy: 0.7970 - val_loss: 0.4250 - val_accuracy: 0.8050\n",
      "Epoch 18/20\n",
      "493/493 [==============================] - 1s 2ms/step - loss: 0.4327 - accuracy: 0.8043 - val_loss: 0.4181 - val_accuracy: 0.8045\n",
      "Epoch 19/20\n",
      "493/493 [==============================] - 1s 2ms/step - loss: 0.4275 - accuracy: 0.8004 - val_loss: 0.4169 - val_accuracy: 0.8022\n",
      "Epoch 20/20\n",
      "493/493 [==============================] - 1s 2ms/step - loss: 0.4283 - accuracy: 0.8032 - val_loss: 0.4343 - val_accuracy: 0.7913\n"
     ]
    },
    {
     "data": {
      "text/plain": [
       "<tensorflow.python.keras.callbacks.History at 0x280b673a748>"
      ]
     },
     "execution_count": 33,
     "metadata": {},
     "output_type": "execute_result"
    }
   ],
   "source": [
    "model.fit(X_train, y_train, \n",
    "          validation_data=(X_test, y_test),\n",
    "          epochs=20, \n",
    "          batch_size=10)"
   ]
  },
  {
   "cell_type": "markdown",
   "metadata": {
    "id": "P9nFZr6KKu8k"
   },
   "source": [
    "### 모델 훈련(학습) - 조기종료"
   ]
  },
  {
   "cell_type": "code",
   "execution_count": 34,
   "metadata": {
    "id": "ufprCOfHKu8k"
   },
   "outputs": [],
   "source": [
    "from tensorflow.keras.callbacks import EarlyStopping, ModelCheckpoint"
   ]
  },
  {
   "cell_type": "code",
   "execution_count": 35,
   "metadata": {
    "id": "Fu9j-6_sKu8k"
   },
   "outputs": [],
   "source": [
    "early_stop = EarlyStopping(monitor='val_loss', mode='min', \n",
    "                           verbose=1, patience=25)"
   ]
  },
  {
   "cell_type": "code",
   "execution_count": 36,
   "metadata": {
    "id": "EZe2nIkaKu8k"
   },
   "outputs": [],
   "source": [
    "check_point = ModelCheckpoint('best_model.h5', verbose=1,\n",
    "                              monitor='val_loss', mode='min', \n",
    "                              save_best_only=True)"
   ]
  },
  {
   "cell_type": "code",
   "execution_count": 37,
   "metadata": {
    "colab": {
     "base_uri": "https://localhost:8080/"
    },
    "id": "i9msPJxqKu8k",
    "outputId": "66690ce1-0e9d-44cb-cb2d-d5eb079b56ad"
   },
   "outputs": [
    {
     "name": "stdout",
     "output_type": "stream",
     "text": [
      "Epoch 1/50\n",
      "243/247 [============================>.] - ETA: 0s - loss: 0.4282 - accuracy: 0.8019\n",
      "Epoch 00001: val_loss improved from inf to 0.41879, saving model to best_model.h5\n",
      "247/247 [==============================] - 1s 3ms/step - loss: 0.4282 - accuracy: 0.8024 - val_loss: 0.4188 - val_accuracy: 0.8017\n",
      "Epoch 2/50\n",
      "244/247 [============================>.] - ETA: 0s - loss: 0.4216 - accuracy: 0.8064\n",
      "Epoch 00002: val_loss did not improve from 0.41879\n",
      "247/247 [==============================] - 1s 2ms/step - loss: 0.4222 - accuracy: 0.8061 - val_loss: 0.4190 - val_accuracy: 0.7993\n",
      "Epoch 3/50\n",
      "237/247 [===========================>..] - ETA: 0s - loss: 0.4225 - accuracy: 0.8034\n",
      "Epoch 00003: val_loss did not improve from 0.41879\n",
      "247/247 [==============================] - 1s 2ms/step - loss: 0.4221 - accuracy: 0.8030 - val_loss: 0.4190 - val_accuracy: 0.8027\n",
      "Epoch 4/50\n",
      "232/247 [===========================>..] - ETA: 0s - loss: 0.4164 - accuracy: 0.8091\n",
      "Epoch 00004: val_loss did not improve from 0.41879\n",
      "247/247 [==============================] - 1s 2ms/step - loss: 0.4194 - accuracy: 0.8067 - val_loss: 0.4270 - val_accuracy: 0.8036\n",
      "Epoch 5/50\n",
      "231/247 [===========================>..] - ETA: 0s - loss: 0.4197 - accuracy: 0.8050\n",
      "Epoch 00005: val_loss did not improve from 0.41879\n",
      "247/247 [==============================] - 1s 2ms/step - loss: 0.4172 - accuracy: 0.8075 - val_loss: 0.4207 - val_accuracy: 0.8022\n",
      "Epoch 6/50\n",
      "227/247 [==========================>...] - ETA: 0s - loss: 0.4154 - accuracy: 0.8037\n",
      "Epoch 00006: val_loss did not improve from 0.41879\n",
      "247/247 [==============================] - 1s 3ms/step - loss: 0.4169 - accuracy: 0.8034 - val_loss: 0.4215 - val_accuracy: 0.7979\n",
      "Epoch 7/50\n",
      "226/247 [==========================>...] - ETA: 0s - loss: 0.4157 - accuracy: 0.8035\n",
      "Epoch 00007: val_loss did not improve from 0.41879\n",
      "247/247 [==============================] - 1s 3ms/step - loss: 0.4158 - accuracy: 0.8043 - val_loss: 0.4211 - val_accuracy: 0.8012\n",
      "Epoch 8/50\n",
      "228/247 [==========================>...] - ETA: 0s - loss: 0.4151 - accuracy: 0.8029\n",
      "Epoch 00008: val_loss did not improve from 0.41879\n",
      "247/247 [==============================] - 1s 3ms/step - loss: 0.4121 - accuracy: 0.8053 - val_loss: 0.4193 - val_accuracy: 0.7974\n",
      "Epoch 9/50\n",
      "224/247 [==========================>...] - ETA: 0s - loss: 0.4162 - accuracy: 0.8136\n",
      "Epoch 00009: val_loss improved from 0.41879 to 0.41875, saving model to best_model.h5\n",
      "247/247 [==============================] - 1s 3ms/step - loss: 0.4174 - accuracy: 0.8108 - val_loss: 0.4187 - val_accuracy: 0.8003\n",
      "Epoch 10/50\n",
      "226/247 [==========================>...] - ETA: 0s - loss: 0.4112 - accuracy: 0.8115\n",
      "Epoch 00010: val_loss did not improve from 0.41875\n",
      "247/247 [==============================] - 1s 3ms/step - loss: 0.4130 - accuracy: 0.8099 - val_loss: 0.4189 - val_accuracy: 0.8012\n",
      "Epoch 11/50\n",
      "226/247 [==========================>...] - ETA: 0s - loss: 0.4152 - accuracy: 0.8095\n",
      "Epoch 00011: val_loss improved from 0.41875 to 0.41817, saving model to best_model.h5\n",
      "247/247 [==============================] - 1s 3ms/step - loss: 0.4130 - accuracy: 0.8099 - val_loss: 0.4182 - val_accuracy: 0.8027\n",
      "Epoch 12/50\n",
      "226/247 [==========================>...] - ETA: 0s - loss: 0.4187 - accuracy: 0.8064\n",
      "Epoch 00012: val_loss did not improve from 0.41817\n",
      "247/247 [==============================] - 1s 3ms/step - loss: 0.4142 - accuracy: 0.8093 - val_loss: 0.4191 - val_accuracy: 0.7984\n",
      "Epoch 13/50\n",
      "226/247 [==========================>...] - ETA: 0s - loss: 0.4124 - accuracy: 0.8051\n",
      "Epoch 00013: val_loss did not improve from 0.41817\n",
      "247/247 [==============================] - 1s 3ms/step - loss: 0.4131 - accuracy: 0.8049 - val_loss: 0.4225 - val_accuracy: 0.8003\n",
      "Epoch 14/50\n",
      "229/247 [==========================>...] - ETA: 0s - loss: 0.4147 - accuracy: 0.8007\n",
      "Epoch 00014: val_loss did not improve from 0.41817\n",
      "247/247 [==============================] - 1s 2ms/step - loss: 0.4126 - accuracy: 0.8020 - val_loss: 0.4234 - val_accuracy: 0.7965\n",
      "Epoch 15/50\n",
      "246/247 [============================>.] - ETA: 0s - loss: 0.4125 - accuracy: 0.8142\n",
      "Epoch 00015: val_loss did not improve from 0.41817\n",
      "247/247 [==============================] - 1s 3ms/step - loss: 0.4125 - accuracy: 0.8142 - val_loss: 0.4271 - val_accuracy: 0.8017\n",
      "Epoch 16/50\n",
      "225/247 [==========================>...] - ETA: 0s - loss: 0.4050 - accuracy: 0.8084\n",
      "Epoch 00016: val_loss did not improve from 0.41817\n",
      "247/247 [==============================] - 1s 3ms/step - loss: 0.4006 - accuracy: 0.8120 - val_loss: 0.4247 - val_accuracy: 0.7989\n",
      "Epoch 17/50\n",
      "228/247 [==========================>...] - ETA: 0s - loss: 0.4083 - accuracy: 0.8121\n",
      "Epoch 00017: val_loss did not improve from 0.41817\n",
      "247/247 [==============================] - 1s 3ms/step - loss: 0.4113 - accuracy: 0.8101 - val_loss: 0.4304 - val_accuracy: 0.7989\n",
      "Epoch 18/50\n",
      "247/247 [==============================] - ETA: 0s - loss: 0.4110 - accuracy: 0.8077\n",
      "Epoch 00018: val_loss did not improve from 0.41817\n",
      "247/247 [==============================] - 1s 3ms/step - loss: 0.4110 - accuracy: 0.8077 - val_loss: 0.4257 - val_accuracy: 0.7984\n",
      "Epoch 19/50\n",
      "224/247 [==========================>...] - ETA: 0s - loss: 0.4123 - accuracy: 0.8141\n",
      "Epoch 00019: val_loss did not improve from 0.41817\n",
      "247/247 [==============================] - 1s 3ms/step - loss: 0.4098 - accuracy: 0.8152 - val_loss: 0.4272 - val_accuracy: 0.7965\n",
      "Epoch 20/50\n",
      "227/247 [==========================>...] - ETA: 0s - loss: 0.4094 - accuracy: 0.8101\n",
      "Epoch 00020: val_loss did not improve from 0.41817\n",
      "247/247 [==============================] - 1s 3ms/step - loss: 0.4079 - accuracy: 0.8093 - val_loss: 0.4315 - val_accuracy: 0.7918\n",
      "Epoch 21/50\n",
      "226/247 [==========================>...] - ETA: 0s - loss: 0.4024 - accuracy: 0.8173\n",
      "Epoch 00021: val_loss did not improve from 0.41817\n",
      "247/247 [==============================] - 1s 3ms/step - loss: 0.4052 - accuracy: 0.8152 - val_loss: 0.4275 - val_accuracy: 0.7951\n",
      "Epoch 22/50\n",
      "226/247 [==========================>...] - ETA: 0s - loss: 0.4078 - accuracy: 0.8113\n",
      "Epoch 00022: val_loss did not improve from 0.41817\n",
      "247/247 [==============================] - 1s 3ms/step - loss: 0.4079 - accuracy: 0.8103 - val_loss: 0.4264 - val_accuracy: 0.7941\n",
      "Epoch 23/50\n",
      "230/247 [==========================>...] - ETA: 0s - loss: 0.4051 - accuracy: 0.8098\n",
      "Epoch 00023: val_loss did not improve from 0.41817\n",
      "247/247 [==============================] - 1s 2ms/step - loss: 0.4013 - accuracy: 0.8112 - val_loss: 0.4335 - val_accuracy: 0.7932\n",
      "Epoch 24/50\n",
      "229/247 [==========================>...] - ETA: 0s - loss: 0.4044 - accuracy: 0.8124\n",
      "Epoch 00024: val_loss did not improve from 0.41817\n",
      "247/247 [==============================] - 1s 3ms/step - loss: 0.4094 - accuracy: 0.8095 - val_loss: 0.4274 - val_accuracy: 0.7946\n",
      "Epoch 25/50\n",
      "226/247 [==========================>...] - ETA: 0s - loss: 0.4021 - accuracy: 0.8128\n",
      "Epoch 00025: val_loss did not improve from 0.41817\n",
      "247/247 [==============================] - 1s 3ms/step - loss: 0.4030 - accuracy: 0.8120 - val_loss: 0.4287 - val_accuracy: 0.7974\n",
      "Epoch 26/50\n",
      "225/247 [==========================>...] - ETA: 0s - loss: 0.4017 - accuracy: 0.8153\n",
      "Epoch 00026: val_loss did not improve from 0.41817\n",
      "247/247 [==============================] - 1s 3ms/step - loss: 0.4031 - accuracy: 0.8140 - val_loss: 0.4321 - val_accuracy: 0.7889\n",
      "Epoch 27/50\n",
      "228/247 [==========================>...] - ETA: 0s - loss: 0.3945 - accuracy: 0.8147\n",
      "Epoch 00027: val_loss did not improve from 0.41817\n",
      "247/247 [==============================] - 1s 3ms/step - loss: 0.4012 - accuracy: 0.8126 - val_loss: 0.4340 - val_accuracy: 0.7899\n",
      "Epoch 28/50\n",
      "226/247 [==========================>...] - ETA: 0s - loss: 0.3993 - accuracy: 0.8153\n",
      "Epoch 00028: val_loss did not improve from 0.41817\n",
      "247/247 [==============================] - 1s 3ms/step - loss: 0.3992 - accuracy: 0.8158 - val_loss: 0.4284 - val_accuracy: 0.7970\n",
      "Epoch 29/50\n",
      "224/247 [==========================>...] - ETA: 0s - loss: 0.4012 - accuracy: 0.8141\n",
      "Epoch 00029: val_loss did not improve from 0.41817\n",
      "247/247 [==============================] - 1s 3ms/step - loss: 0.4051 - accuracy: 0.8130 - val_loss: 0.4328 - val_accuracy: 0.7903\n",
      "Epoch 30/50\n"
     ]
    },
    {
     "name": "stdout",
     "output_type": "stream",
     "text": [
      "225/247 [==========================>...] - ETA: 0s - loss: 0.3985 - accuracy: 0.8178\n",
      "Epoch 00030: val_loss did not improve from 0.41817\n",
      "247/247 [==============================] - 1s 3ms/step - loss: 0.3976 - accuracy: 0.8168 - val_loss: 0.4341 - val_accuracy: 0.7970\n",
      "Epoch 31/50\n",
      "224/247 [==========================>...] - ETA: 0s - loss: 0.3997 - accuracy: 0.8123\n",
      "Epoch 00031: val_loss did not improve from 0.41817\n",
      "247/247 [==============================] - 1s 3ms/step - loss: 0.3971 - accuracy: 0.8144 - val_loss: 0.4336 - val_accuracy: 0.7965\n",
      "Epoch 32/50\n",
      "227/247 [==========================>...] - ETA: 0s - loss: 0.4015 - accuracy: 0.8150\n",
      "Epoch 00032: val_loss did not improve from 0.41817\n",
      "247/247 [==============================] - 1s 3ms/step - loss: 0.4004 - accuracy: 0.8154 - val_loss: 0.4334 - val_accuracy: 0.7989\n",
      "Epoch 33/50\n",
      "227/247 [==========================>...] - ETA: 0s - loss: 0.3959 - accuracy: 0.8145\n",
      "Epoch 00033: val_loss did not improve from 0.41817\n",
      "247/247 [==============================] - 1s 3ms/step - loss: 0.3961 - accuracy: 0.8146 - val_loss: 0.4332 - val_accuracy: 0.7979\n",
      "Epoch 34/50\n",
      "243/247 [============================>.] - ETA: 0s - loss: 0.3916 - accuracy: 0.8202\n",
      "Epoch 00034: val_loss did not improve from 0.41817\n",
      "247/247 [==============================] - 1s 3ms/step - loss: 0.3951 - accuracy: 0.8185 - val_loss: 0.4375 - val_accuracy: 0.7965\n",
      "Epoch 35/50\n",
      "230/247 [==========================>...] - ETA: 0s - loss: 0.4033 - accuracy: 0.8165\n",
      "Epoch 00035: val_loss did not improve from 0.41817\n",
      "247/247 [==============================] - 1s 2ms/step - loss: 0.4024 - accuracy: 0.8164 - val_loss: 0.4372 - val_accuracy: 0.7941\n",
      "Epoch 36/50\n",
      "225/247 [==========================>...] - ETA: 0s - loss: 0.3961 - accuracy: 0.8167\n",
      "Epoch 00036: val_loss did not improve from 0.41817\n",
      "247/247 [==============================] - 1s 3ms/step - loss: 0.3953 - accuracy: 0.8178 - val_loss: 0.4386 - val_accuracy: 0.7951\n",
      "Epoch 00036: early stopping\n"
     ]
    }
   ],
   "source": [
    "history = model.fit(x=X_train, y=y_train, \n",
    "          epochs=50 , batch_size=20,\n",
    "          validation_data=(X_test, y_test), \n",
    "          verbose=1,\n",
    "          callbacks=[early_stop, check_point])"
   ]
  },
  {
   "cell_type": "markdown",
   "metadata": {
    "id": "fgSwdiKhKu8k"
   },
   "source": [
    "### ⑧ 모델 성능 평가"
   ]
  },
  {
   "cell_type": "code",
   "execution_count": 38,
   "metadata": {
    "id": "UwcNzzP7Ku8k"
   },
   "outputs": [],
   "source": [
    "losses = pd.DataFrame(model.history.history)"
   ]
  },
  {
   "cell_type": "code",
   "execution_count": 39,
   "metadata": {
    "colab": {
     "base_uri": "https://localhost:8080/",
     "height": 204
    },
    "id": "_bVnHXztKu8k",
    "outputId": "0fcf1211-e1e2-4bc2-f945-8a51adb09143"
   },
   "outputs": [
    {
     "data": {
      "text/html": [
       "<div>\n",
       "<style scoped>\n",
       "    .dataframe tbody tr th:only-of-type {\n",
       "        vertical-align: middle;\n",
       "    }\n",
       "\n",
       "    .dataframe tbody tr th {\n",
       "        vertical-align: top;\n",
       "    }\n",
       "\n",
       "    .dataframe thead th {\n",
       "        text-align: right;\n",
       "    }\n",
       "</style>\n",
       "<table border=\"1\" class=\"dataframe\">\n",
       "  <thead>\n",
       "    <tr style=\"text-align: right;\">\n",
       "      <th></th>\n",
       "      <th>loss</th>\n",
       "      <th>accuracy</th>\n",
       "      <th>val_loss</th>\n",
       "      <th>val_accuracy</th>\n",
       "    </tr>\n",
       "  </thead>\n",
       "  <tbody>\n",
       "    <tr>\n",
       "      <th>0</th>\n",
       "      <td>0.428208</td>\n",
       "      <td>0.802434</td>\n",
       "      <td>0.418795</td>\n",
       "      <td>0.801704</td>\n",
       "    </tr>\n",
       "    <tr>\n",
       "      <th>1</th>\n",
       "      <td>0.422162</td>\n",
       "      <td>0.806085</td>\n",
       "      <td>0.418960</td>\n",
       "      <td>0.799337</td>\n",
       "    </tr>\n",
       "    <tr>\n",
       "      <th>2</th>\n",
       "      <td>0.422052</td>\n",
       "      <td>0.803043</td>\n",
       "      <td>0.418985</td>\n",
       "      <td>0.802650</td>\n",
       "    </tr>\n",
       "    <tr>\n",
       "      <th>3</th>\n",
       "      <td>0.419442</td>\n",
       "      <td>0.806694</td>\n",
       "      <td>0.427009</td>\n",
       "      <td>0.803597</td>\n",
       "    </tr>\n",
       "    <tr>\n",
       "      <th>4</th>\n",
       "      <td>0.417203</td>\n",
       "      <td>0.807505</td>\n",
       "      <td>0.420746</td>\n",
       "      <td>0.802177</td>\n",
       "    </tr>\n",
       "  </tbody>\n",
       "</table>\n",
       "</div>"
      ],
      "text/plain": [
       "       loss  accuracy  val_loss  val_accuracy\n",
       "0  0.428208  0.802434  0.418795      0.801704\n",
       "1  0.422162  0.806085  0.418960      0.799337\n",
       "2  0.422052  0.803043  0.418985      0.802650\n",
       "3  0.419442  0.806694  0.427009      0.803597\n",
       "4  0.417203  0.807505  0.420746      0.802177"
      ]
     },
     "execution_count": 39,
     "metadata": {},
     "output_type": "execute_result"
    }
   ],
   "source": [
    "losses.head()"
   ]
  },
  {
   "cell_type": "code",
   "execution_count": 40,
   "metadata": {
    "colab": {
     "base_uri": "https://localhost:8080/",
     "height": 283
    },
    "id": "x1-xsEdrKu8k",
    "outputId": "99bb1918-799e-4c19-996a-5a56e9b35078"
   },
   "outputs": [
    {
     "data": {
      "text/plain": [
       "<AxesSubplot:>"
      ]
     },
     "execution_count": 40,
     "metadata": {},
     "output_type": "execute_result"
    },
    {
     "data": {
      "image/png": "[encoded data removed]",
      "text/plain": [
       "<Figure size 432x288 with 1 Axes>"
      ]
     },
     "metadata": {
      "needs_background": "light"
     },
     "output_type": "display_data"
    }
   ],
   "source": [
    "losses[['loss','val_loss']].plot()"
   ]
  },
  {
   "cell_type": "code",
   "execution_count": 41,
   "metadata": {
    "colab": {
     "base_uri": "https://localhost:8080/",
     "height": 283
    },
    "id": "QZ5NV7wsKu8k",
    "outputId": "cf4367ef-cfcf-4040-dfe9-4d5f7555b34d"
   },
   "outputs": [
    {
     "data": {
      "text/plain": [
       "<AxesSubplot:>"
      ]
     },
     "execution_count": 41,
     "metadata": {},
     "output_type": "execute_result"
    },
    {
     "data": {
      "image/png": "[encoded data removed]",
      "text/plain": [
       "<Figure size 432x288 with 1 Axes>"
      ]
     },
     "metadata": {
      "needs_background": "light"
     },
     "output_type": "display_data"
    }
   ],
   "source": [
    "losses[['loss','val_loss', 'accuracy','val_accuracy']].plot()"
   ]
  },
  {
   "cell_type": "code",
   "execution_count": 42,
   "metadata": {
    "id": "rnTWGE5fKu8k"
   },
   "outputs": [],
   "source": [
    "from sklearn.metrics import classification_report,confusion_matrix"
   ]
  },
  {
   "cell_type": "code",
   "execution_count": 43,
   "metadata": {
    "colab": {
     "base_uri": "https://localhost:8080/"
    },
    "id": "TLRkWvR3Ku8k",
    "outputId": "e7a0ff11-e8f3-4c22-cadb-c6f0cbdf5f35"
   },
   "outputs": [
    {
     "name": "stdout",
     "output_type": "stream",
     "text": [
      "WARNING:tensorflow:From <ipython-input-43-bc83193b8b59>:1: Sequential.predict_classes (from tensorflow.python.keras.engine.sequential) is deprecated and will be removed after 2021-01-01.\n",
      "Instructions for updating:\n",
      "Please use instead:* `np.argmax(model.predict(x), axis=-1)`,   if your model does multi-class classification   (e.g. if it uses a `softmax` last-layer activation).* `(model.predict(x) > 0.5).astype(\"int32\")`,   if your model does binary classification   (e.g. if it uses a `sigmoid` last-layer activation).\n"
     ]
    }
   ],
   "source": [
    "predictions = model.predict_classes(X_test)"
   ]
  },
  {
   "cell_type": "code",
   "execution_count": 44,
   "metadata": {
    "colab": {
     "base_uri": "https://localhost:8080/"
    },
    "id": "5iTIpXKPKu8k",
    "outputId": "21743575-b987-4795-e692-d2a472a5cbef"
   },
   "outputs": [
    {
     "name": "stdout",
     "output_type": "stream",
     "text": [
      "              precision    recall  f1-score   support\n",
      "\n",
      "           0       0.83      0.90      0.86      1539\n",
      "           1       0.66      0.51      0.58       574\n",
      "\n",
      "    accuracy                           0.80      2113\n",
      "   macro avg       0.74      0.71      0.72      2113\n",
      "weighted avg       0.78      0.80      0.79      2113\n",
      "\n"
     ]
    }
   ],
   "source": [
    "print(classification_report(y_test,predictions))"
   ]
  },
  {
   "cell_type": "code",
   "execution_count": 45,
   "metadata": {
    "colab": {
     "base_uri": "https://localhost:8080/"
    },
    "id": "CX3mBwaeKu8k",
    "outputId": "456769ad-91a3-4d3e-dec7-fee8ea00465b"
   },
   "outputs": [
    {
     "name": "stdout",
     "output_type": "stream",
     "text": [
      "[[1385  154]\n",
      " [ 279  295]]\n"
     ]
    }
   ],
   "source": [
    "print(confusion_matrix(y_test,predictions))"
   ]
  },
  {
   "cell_type": "code",
   "execution_count": null,
   "metadata": {
    "id": "H9sP0iH3Ku8k"
   },
   "outputs": [],
   "source": []
  }
 ],
 "metadata": {
  "colab": {
   "collapsed_sections": [],
   "name": "ai_modeling.ipynb",
   "provenance": []
  },
  "kernelspec": {
   "display_name": "Python 3",
   "language": "python",
   "name": "python3"
  },
  "language_info": {
   "codemirror_mode": {
    "name": "ipython",
    "version": 3
   },
   "file_extension": ".py",
   "mimetype": "text/x-python",
   "name": "python",
   "nbconvert_exporter": "python",
   "pygments_lexer": "ipython3",
   "version": "3.7.9"
  }
 },
 "nbformat": 4,
 "nbformat_minor": 1
}
