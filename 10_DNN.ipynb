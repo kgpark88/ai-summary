{
  "nbformat": 4,
  "nbformat_minor": 0,
  "metadata": {
    "colab": {
      "name": "ai_modeling.ipynb",
      "provenance": [],
      "collapsed_sections": [],
      "include_colab_link": true
    },
    "kernelspec": {
      "display_name": "Python 3",
      "language": "python",
      "name": "python3"
    },
    "language_info": {
      "codemirror_mode": {
        "name": "ipython",
        "version": 3
      },
      "file_extension": ".py",
      "mimetype": "text/x-python",
      "name": "python",
      "nbconvert_exporter": "python",
      "pygments_lexer": "ipython3",
      "version": "3.7.9"
    }
  },
  "cells": [
    {
      "cell_type": "markdown",
      "metadata": {
        "id": "view-in-github",
        "colab_type": "text"
      },
      "source": [
        "<a href=\"https://colab.research.google.com/github/kgpark88/ai-summary/blob/main/10_DNN.ipynb\" target=\"_parent\"><img src=\"https://colab.research.google.com/assets/colab-badge.svg\" alt=\"Open In Colab\"/></a>"
      ]
    },
    {
      "cell_type": "markdown",
      "metadata": {
        "id": "W8p15qvhKu8f"
      },
      "source": [
        "# 심층신경망(DNN, Deep Neural Network)"
      ]
    },
    {
      "cell_type": "markdown",
      "metadata": {
        "id": "_fTY_LcgKu8j"
      },
      "source": [
        "① 라이브러리 임포트(import)  \n",
        "② 데이터 가져오기(Loading the data)  \n",
        "③ 탐색적 데이터 분석(Exploratory Data Analysis)  \n",
        "④ 데이터 전처리(Data PreProcessing) : 데이터타입 변환, Null 데이터 처리, 누락데이터 처리, \n",
        "카테고리 데이터, 더미특성 생성, 특성 추출 (feature engineering) 등  \n",
        "⑤ Train, Test  데이터셋 분할  \n",
        "⑥ 데이터 정규화(Normalizing the Data)  \n",
        "⑦ 모델 개발(Creating the Model)  \n",
        "⑧ 모델 성능 평가"
      ]
    },
    {
      "cell_type": "markdown",
      "metadata": {
        "id": "xznFHOI7Ku8j"
      },
      "source": [
        "### ① 라이브러리 임포트"
      ]
    },
    {
      "cell_type": "code",
      "metadata": {
        "id": "1Xh5Bo7GKu8j"
      },
      "source": [
        "import pandas as pd\n",
        "import seaborn as sns\n",
        "import matplotlib.pyplot as plt\n",
        "\n",
        "import tensorflow as tf\n",
        "from tensorflow.keras.models import Sequential\n",
        "from tensorflow.keras.layers import Dense, Activation, Dropout"
      ],
      "execution_count": 1,
      "outputs": []
    },
    {
      "cell_type": "markdown",
      "metadata": {
        "id": "KcEkPszQKu8j"
      },
      "source": [
        "### ② 데이터 로드"
      ]
    },
    {
      "cell_type": "code",
      "metadata": {
        "id": "IoFa3qY0Ku8j"
      },
      "source": [
        "# df = pd.read_csv('churn_data.csv')\n",
        "df = pd.read_csv('https://raw.githubusercontent.com/kgpark88/ai-summary/main/churn_data.csv')"
      ],
      "execution_count": 2,
      "outputs": []
    },
    {
      "cell_type": "markdown",
      "metadata": {
        "id": "GTKqo1pSKu8j"
      },
      "source": [
        "### ③ 데이터 분석"
      ]
    },
    {
      "cell_type": "code",
      "metadata": {
        "colab": {
          "base_uri": "https://localhost:8080/"
        },
        "id": "OLi7Xv6XKu8j",
        "outputId": "dfc759dd-76a5-4165-cc7d-53b2869945d6"
      },
      "source": [
        "df.info()"
      ],
      "execution_count": 3,
      "outputs": [
        {
          "output_type": "stream",
          "text": [
            "<class 'pandas.core.frame.DataFrame'>\n",
            "RangeIndex: 7043 entries, 0 to 7042\n",
            "Data columns (total 21 columns):\n",
            " #   Column            Non-Null Count  Dtype  \n",
            "---  ------            --------------  -----  \n",
            " 0   customerID        7043 non-null   object \n",
            " 1   gender            7043 non-null   object \n",
            " 2   SeniorCitizen     7043 non-null   int64  \n",
            " 3   Partner           7043 non-null   object \n",
            " 4   Dependents        7043 non-null   object \n",
            " 5   tenure            7043 non-null   int64  \n",
            " 6   PhoneService      7043 non-null   object \n",
            " 7   MultipleLines     7043 non-null   object \n",
            " 8   InternetService   7043 non-null   object \n",
            " 9   OnlineSecurity    7043 non-null   object \n",
            " 10  OnlineBackup      7043 non-null   object \n",
            " 11  DeviceProtection  7043 non-null   object \n",
            " 12  TechSupport       7043 non-null   object \n",
            " 13  StreamingTV       7043 non-null   object \n",
            " 14  StreamingMovies   7043 non-null   object \n",
            " 15  Contract          7043 non-null   object \n",
            " 16  PaperlessBilling  7043 non-null   object \n",
            " 17  PaymentMethod     7043 non-null   object \n",
            " 18  MonthlyCharges    7043 non-null   float64\n",
            " 19  TotalCharges      7043 non-null   object \n",
            " 20  Churn             7043 non-null   object \n",
            "dtypes: float64(1), int64(2), object(18)\n",
            "memory usage: 1.1+ MB\n"
          ],
          "name": "stdout"
        }
      ]
    },
    {
      "cell_type": "code",
      "metadata": {
        "colab": {
          "base_uri": "https://localhost:8080/"
        },
        "id": "omfjNiq4Ku8j",
        "outputId": "af773496-2ac3-42b1-c714-a04334c57f60"
      },
      "source": [
        "df.isnull().sum()"
      ],
      "execution_count": 4,
      "outputs": [
        {
          "output_type": "execute_result",
          "data": {
            "text/plain": [
              "customerID          0\n",
              "gender              0\n",
              "SeniorCitizen       0\n",
              "Partner             0\n",
              "Dependents          0\n",
              "tenure              0\n",
              "PhoneService        0\n",
              "MultipleLines       0\n",
              "InternetService     0\n",
              "OnlineSecurity      0\n",
              "OnlineBackup        0\n",
              "DeviceProtection    0\n",
              "TechSupport         0\n",
              "StreamingTV         0\n",
              "StreamingMovies     0\n",
              "Contract            0\n",
              "PaperlessBilling    0\n",
              "PaymentMethod       0\n",
              "MonthlyCharges      0\n",
              "TotalCharges        0\n",
              "Churn               0\n",
              "dtype: int64"
            ]
          },
          "metadata": {
            "tags": []
          },
          "execution_count": 4
        }
      ]
    },
    {
      "cell_type": "code",
      "metadata": {
        "colab": {
          "base_uri": "https://localhost:8080/",
          "height": 138
        },
        "id": "FvUDbj_DKu8j",
        "outputId": "ecd7a4ac-f61d-4f0d-c949-7747abccd5d6"
      },
      "source": [
        "df.describe().transpose()"
      ],
      "execution_count": 5,
      "outputs": [
        {
          "output_type": "execute_result",
          "data": {
            "text/html": [
              "<div>\n",
              "<style scoped>\n",
              "    .dataframe tbody tr th:only-of-type {\n",
              "        vertical-align: middle;\n",
              "    }\n",
              "\n",
              "    .dataframe tbody tr th {\n",
              "        vertical-align: top;\n",
              "    }\n",
              "\n",
              "    .dataframe thead th {\n",
              "        text-align: right;\n",
              "    }\n",
              "</style>\n",
              "<table border=\"1\" class=\"dataframe\">\n",
              "  <thead>\n",
              "    <tr style=\"text-align: right;\">\n",
              "      <th></th>\n",
              "      <th>count</th>\n",
              "      <th>mean</th>\n",
              "      <th>std</th>\n",
              "      <th>min</th>\n",
              "      <th>25%</th>\n",
              "      <th>50%</th>\n",
              "      <th>75%</th>\n",
              "      <th>max</th>\n",
              "    </tr>\n",
              "  </thead>\n",
              "  <tbody>\n",
              "    <tr>\n",
              "      <th>SeniorCitizen</th>\n",
              "      <td>7043.0</td>\n",
              "      <td>0.162147</td>\n",
              "      <td>0.368612</td>\n",
              "      <td>0.00</td>\n",
              "      <td>0.0</td>\n",
              "      <td>0.00</td>\n",
              "      <td>0.00</td>\n",
              "      <td>1.00</td>\n",
              "    </tr>\n",
              "    <tr>\n",
              "      <th>tenure</th>\n",
              "      <td>7043.0</td>\n",
              "      <td>32.371149</td>\n",
              "      <td>24.559481</td>\n",
              "      <td>0.00</td>\n",
              "      <td>9.0</td>\n",
              "      <td>29.00</td>\n",
              "      <td>55.00</td>\n",
              "      <td>72.00</td>\n",
              "    </tr>\n",
              "    <tr>\n",
              "      <th>MonthlyCharges</th>\n",
              "      <td>7043.0</td>\n",
              "      <td>64.761692</td>\n",
              "      <td>30.090047</td>\n",
              "      <td>18.25</td>\n",
              "      <td>35.5</td>\n",
              "      <td>70.35</td>\n",
              "      <td>89.85</td>\n",
              "      <td>118.75</td>\n",
              "    </tr>\n",
              "  </tbody>\n",
              "</table>\n",
              "</div>"
            ],
            "text/plain": [
              "                 count       mean        std    min   25%    50%    75%     max\n",
              "SeniorCitizen   7043.0   0.162147   0.368612   0.00   0.0   0.00   0.00    1.00\n",
              "tenure          7043.0  32.371149  24.559481   0.00   9.0  29.00  55.00   72.00\n",
              "MonthlyCharges  7043.0  64.761692  30.090047  18.25  35.5  70.35  89.85  118.75"
            ]
          },
          "metadata": {
            "tags": []
          },
          "execution_count": 5
        }
      ]
    },
    {
      "cell_type": "code",
      "metadata": {
        "colab": {
          "base_uri": "https://localhost:8080/",
          "height": 339
        },
        "id": "yDhgvD15Ku8j",
        "outputId": "32e60ad3-7c96-4ae6-8459-5d55b099e082"
      },
      "source": [
        "df.corr()['MonthlyCharges'][:-1].sort_values().plot(kind='bar')"
      ],
      "execution_count": 6,
      "outputs": [
        {
          "output_type": "execute_result",
          "data": {
            "text/plain": [
              "<matplotlib.axes._subplots.AxesSubplot at 0x7fe441ea3710>"
            ]
          },
          "metadata": {
            "tags": []
          },
          "execution_count": 6
        },
        {
          "output_type": "display_data",
          "data": {
            "image/png": "[encoded data removed]",
            "text/plain": [
              "<Figure size 432x288 with 1 Axes>"
            ]
          },
          "metadata": {
            "tags": [],
            "needs_background": "light"
          }
        }
      ]
    },
    {
      "cell_type": "markdown",
      "metadata": {
        "id": "WTvo7E9IKu8j"
      },
      "source": [
        "### ④ 데이터 전처리"
      ]
    },
    {
      "cell_type": "code",
      "metadata": {
        "id": "EXoe4UgGKu8j"
      },
      "source": [
        "df.drop('customerID', axis=1, inplace=True)"
      ],
      "execution_count": 7,
      "outputs": []
    },
    {
      "cell_type": "code",
      "metadata": {
        "id": "ix2MxklMKu8j"
      },
      "source": [
        "df['TotalCharges'].replace([' '], ['0'], inplace=True)"
      ],
      "execution_count": 8,
      "outputs": []
    },
    {
      "cell_type": "code",
      "metadata": {
        "id": "9YIGe9P3Ku8j"
      },
      "source": [
        "df['TotalCharges'] = df['TotalCharges'].astype(float)"
      ],
      "execution_count": 9,
      "outputs": []
    },
    {
      "cell_type": "code",
      "metadata": {
        "id": "5JnBDm85Ku8j"
      },
      "source": [
        "df['Churn'].replace(['Yes', 'No'], [1, 0], inplace=True)"
      ],
      "execution_count": 10,
      "outputs": []
    },
    {
      "cell_type": "markdown",
      "metadata": {
        "id": "OuWj2mlvKu8j"
      },
      "source": [
        "### 더미 특성 생성"
      ]
    },
    {
      "cell_type": "code",
      "metadata": {
        "id": "VYpdqLJhKu8j"
      },
      "source": [
        "cols = ['gender', 'Partner', 'Dependents', 'PhoneService', 'MultipleLines', \n",
        "        'InternetService', 'OnlineSecurity', 'OnlineBackup', 'DeviceProtection', \n",
        "        'TechSupport', 'StreamingTV', 'StreamingMovies', 'Contract', \n",
        "        'PaperlessBilling', 'PaymentMethod']"
      ],
      "execution_count": 11,
      "outputs": []
    },
    {
      "cell_type": "code",
      "metadata": {
        "id": "CyF-ixcVKu8j"
      },
      "source": [
        "dummies = pd.get_dummies(df[cols], drop_first=True)"
      ],
      "execution_count": 12,
      "outputs": []
    },
    {
      "cell_type": "code",
      "metadata": {
        "id": "16FejSRAKu8j"
      },
      "source": [
        "df = df.drop(cols, axis=1)"
      ],
      "execution_count": 13,
      "outputs": []
    },
    {
      "cell_type": "code",
      "metadata": {
        "id": "WCO9vB6eKu8j"
      },
      "source": [
        "df = pd.concat([df, dummies], axis=1)"
      ],
      "execution_count": 14,
      "outputs": []
    },
    {
      "cell_type": "code",
      "metadata": {
        "id": "_W4nTny7Ku8j"
      },
      "source": [
        "# df = pd.get_dummies(df)\n",
        "# cols = list(df.select_dtypes('object').columns)"
      ],
      "execution_count": 15,
      "outputs": []
    },
    {
      "cell_type": "markdown",
      "metadata": {
        "id": "pyKBvo_gKu8j"
      },
      "source": [
        "### ⑤ Train, Test  데이터셋 분할"
      ]
    },
    {
      "cell_type": "code",
      "metadata": {
        "id": "uBzPO0bTKu8j"
      },
      "source": [
        "from sklearn.model_selection import train_test_split"
      ],
      "execution_count": 16,
      "outputs": []
    },
    {
      "cell_type": "code",
      "metadata": {
        "id": "kVxOkKkwKu8j"
      },
      "source": [
        "X = df.drop('Churn', axis=1).values\n",
        "y = df['Churn'].values"
      ],
      "execution_count": 17,
      "outputs": []
    },
    {
      "cell_type": "code",
      "metadata": {
        "id": "xViKA0VeKu8j"
      },
      "source": [
        "X_train, X_test, y_train, y_test = train_test_split(X, y, \n",
        "                                                    test_size=0.3, \n",
        "                                                    random_state=42)"
      ],
      "execution_count": 18,
      "outputs": []
    },
    {
      "cell_type": "code",
      "metadata": {
        "colab": {
          "base_uri": "https://localhost:8080/"
        },
        "id": "WOB04re_Ku8j",
        "outputId": "0c994d8d-34ee-4e58-b06b-11b42d2cbd2b"
      },
      "source": [
        "X_train.shape"
      ],
      "execution_count": 19,
      "outputs": [
        {
          "output_type": "execute_result",
          "data": {
            "text/plain": [
              "(4930, 30)"
            ]
          },
          "metadata": {
            "tags": []
          },
          "execution_count": 19
        }
      ]
    },
    {
      "cell_type": "code",
      "metadata": {
        "colab": {
          "base_uri": "https://localhost:8080/"
        },
        "id": "WYzAtawMKu8j",
        "outputId": "dbfbb22d-2a85-41f5-a5b5-a8972277c6da"
      },
      "source": [
        "y_train.shape"
      ],
      "execution_count": 20,
      "outputs": [
        {
          "output_type": "execute_result",
          "data": {
            "text/plain": [
              "(4930,)"
            ]
          },
          "metadata": {
            "tags": []
          },
          "execution_count": 20
        }
      ]
    },
    {
      "cell_type": "markdown",
      "metadata": {
        "id": "SqCsgHxiKu8j"
      },
      "source": [
        "### 데이터 정규화/스케일링(Normalizing/Scaling)"
      ]
    },
    {
      "cell_type": "code",
      "metadata": {
        "id": "HlwzqwefKu8j"
      },
      "source": [
        "from sklearn.preprocessing import MinMaxScaler"
      ],
      "execution_count": 21,
      "outputs": []
    },
    {
      "cell_type": "code",
      "metadata": {
        "id": "l9ENFbSbKu8k"
      },
      "source": [
        "scaler = MinMaxScaler()\n",
        "scaler.fit(X_train)\n",
        "X_train = scaler.transform(X_train)\n",
        "X_test = scaler.transform(X_test)"
      ],
      "execution_count": 22,
      "outputs": []
    },
    {
      "cell_type": "markdown",
      "metadata": {
        "id": "qeJNY_B3Ku8k"
      },
      "source": [
        "### 모델 입력갯수, 출력갯수 확인"
      ]
    },
    {
      "cell_type": "code",
      "metadata": {
        "colab": {
          "base_uri": "https://localhost:8080/"
        },
        "id": "Cf4SXnH9Ku8k",
        "outputId": "782ade81-1744-473b-9978-93956234852a"
      },
      "source": [
        "X_train.shape"
      ],
      "execution_count": 23,
      "outputs": [
        {
          "output_type": "execute_result",
          "data": {
            "text/plain": [
              "(4930, 30)"
            ]
          },
          "metadata": {
            "tags": []
          },
          "execution_count": 23
        }
      ]
    },
    {
      "cell_type": "code",
      "metadata": {
        "colab": {
          "base_uri": "https://localhost:8080/"
        },
        "id": "SZVMsZTLKu8k",
        "outputId": "5133bfbc-4f5f-4c7d-d355-75e75b0718e2"
      },
      "source": [
        "y_train.shape"
      ],
      "execution_count": 24,
      "outputs": [
        {
          "output_type": "execute_result",
          "data": {
            "text/plain": [
              "(4930,)"
            ]
          },
          "metadata": {
            "tags": []
          },
          "execution_count": 24
        }
      ]
    },
    {
      "cell_type": "markdown",
      "metadata": {
        "id": "spOGOLdWKu8k"
      },
      "source": [
        "### ⑦ 모델 구성"
      ]
    },
    {
      "cell_type": "code",
      "metadata": {
        "id": "kB0tNJLPKu8k"
      },
      "source": [
        "model = Sequential()\n",
        "\n",
        "# input layer\n",
        "model.add(Dense(64, activation='relu', input_shape=(30,)))\n",
        "\n",
        "# hidden layer\n",
        "model.add(Dense(64, activation='relu'))\n",
        "\n",
        "# hidden layer\n",
        "model.add(Dense(32, activation='relu'))\n",
        "\n",
        "# output layer\n",
        "model.add(Dense(1, activation='sigmoid'))"
      ],
      "execution_count": 25,
      "outputs": []
    },
    {
      "cell_type": "markdown",
      "metadata": {
        "id": "GXJFTfrZKu8k"
      },
      "source": [
        "### 모델 구성 -  과적합 방지"
      ]
    },
    {
      "cell_type": "code",
      "metadata": {
        "id": "-togVAJGKu8k"
      },
      "source": [
        "model = Sequential()\n",
        "model.add(Dense(128, activation='relu', input_shape=(30,)))\n",
        "model.add(Dropout(0.5))\n",
        "model.add(Dense(64, activation='relu'))\n",
        "model.add(Dropout(0.5))\n",
        "model.add(Dense(64, activation='relu'))\n",
        "model.add(Dropout(0.5))\n",
        "model.add(Dense(32, activation='relu'))\n",
        "model.add(Dropout(0.5))\n",
        "\n",
        "model.add(Dense(1, activation='sigmoid'))"
      ],
      "execution_count": 26,
      "outputs": []
    },
    {
      "cell_type": "markdown",
      "metadata": {
        "id": "h6GUkt9uKu8k"
      },
      "source": [
        "### 모델 확인"
      ]
    },
    {
      "cell_type": "code",
      "metadata": {
        "colab": {
          "base_uri": "https://localhost:8080/"
        },
        "id": "evHyumLfKu8k",
        "outputId": "fb219048-2d03-45bf-d823-57dc6f8181ec"
      },
      "source": [
        "model.summary()"
      ],
      "execution_count": 27,
      "outputs": [
        {
          "output_type": "stream",
          "text": [
            "Model: \"sequential_1\"\n",
            "_________________________________________________________________\n",
            "Layer (type)                 Output Shape              Param #   \n",
            "=================================================================\n",
            "dense_4 (Dense)              (None, 128)               3968      \n",
            "_________________________________________________________________\n",
            "dropout (Dropout)            (None, 128)               0         \n",
            "_________________________________________________________________\n",
            "dense_5 (Dense)              (None, 64)                8256      \n",
            "_________________________________________________________________\n",
            "dropout_1 (Dropout)          (None, 64)                0         \n",
            "_________________________________________________________________\n",
            "dense_6 (Dense)              (None, 64)                4160      \n",
            "_________________________________________________________________\n",
            "dropout_2 (Dropout)          (None, 64)                0         \n",
            "_________________________________________________________________\n",
            "dense_7 (Dense)              (None, 32)                2080      \n",
            "_________________________________________________________________\n",
            "dropout_3 (Dropout)          (None, 32)                0         \n",
            "_________________________________________________________________\n",
            "dense_8 (Dense)              (None, 1)                 33        \n",
            "=================================================================\n",
            "Total params: 18,497\n",
            "Trainable params: 18,497\n",
            "Non-trainable params: 0\n",
            "_________________________________________________________________\n"
          ],
          "name": "stdout"
        }
      ]
    },
    {
      "cell_type": "code",
      "metadata": {
        "id": "65Boa6dlKu8k"
      },
      "source": [
        "hidden1 = model.layers[0]"
      ],
      "execution_count": 28,
      "outputs": []
    },
    {
      "cell_type": "code",
      "metadata": {
        "id": "0jri7H_4Ku8k"
      },
      "source": [
        "weights, biases = hidden1.get_weights()"
      ],
      "execution_count": 29,
      "outputs": []
    },
    {
      "cell_type": "code",
      "metadata": {
        "colab": {
          "base_uri": "https://localhost:8080/"
        },
        "id": "vADUjkHrKu8k",
        "outputId": "e7b2ed79-be96-41b6-baae-f976780cade3"
      },
      "source": [
        "print(weights)"
      ],
      "execution_count": 30,
      "outputs": [
        {
          "output_type": "stream",
          "text": [
            "[[ 0.02810812  0.18819292  0.10317309 ...  0.04661189 -0.14314598\n",
            "   0.11605792]\n",
            " [ 0.09687813  0.1941119  -0.07337595 ... -0.1485458  -0.08147421\n",
            "  -0.1332342 ]\n",
            " [-0.066119   -0.18570411 -0.16213527 ...  0.01532312  0.11359324\n",
            "   0.00366367]\n",
            " ...\n",
            " [ 0.08052294 -0.07215872 -0.01417966 ...  0.11955984  0.01762985\n",
            "  -0.15598956]\n",
            " [-0.09364393 -0.19462925 -0.13115536 ... -0.12091734  0.18455197\n",
            "  -0.10880588]\n",
            " [-0.07482088 -0.18610582  0.07496415 ...  0.11601935  0.02340201\n",
            "  -0.17060128]]\n"
          ],
          "name": "stdout"
        }
      ]
    },
    {
      "cell_type": "code",
      "metadata": {
        "colab": {
          "base_uri": "https://localhost:8080/"
        },
        "id": "bLD6yKMbKu8k",
        "outputId": "cf1d5c18-cb2a-4105-eff6-91c7a4715bf3"
      },
      "source": [
        "print(biases)"
      ],
      "execution_count": 31,
      "outputs": [
        {
          "output_type": "stream",
          "text": [
            "[0. 0. 0. 0. 0. 0. 0. 0. 0. 0. 0. 0. 0. 0. 0. 0. 0. 0. 0. 0. 0. 0. 0. 0.\n",
            " 0. 0. 0. 0. 0. 0. 0. 0. 0. 0. 0. 0. 0. 0. 0. 0. 0. 0. 0. 0. 0. 0. 0. 0.\n",
            " 0. 0. 0. 0. 0. 0. 0. 0. 0. 0. 0. 0. 0. 0. 0. 0. 0. 0. 0. 0. 0. 0. 0. 0.\n",
            " 0. 0. 0. 0. 0. 0. 0. 0. 0. 0. 0. 0. 0. 0. 0. 0. 0. 0. 0. 0. 0. 0. 0. 0.\n",
            " 0. 0. 0. 0. 0. 0. 0. 0. 0. 0. 0. 0. 0. 0. 0. 0. 0. 0. 0. 0. 0. 0. 0. 0.\n",
            " 0. 0. 0. 0. 0. 0. 0. 0.]\n"
          ],
          "name": "stdout"
        }
      ]
    },
    {
      "cell_type": "markdown",
      "metadata": {
        "id": "KVwM9R5oKu8k"
      },
      "source": [
        "#### 모델 컴파일 – 이진 분류 모델"
      ]
    },
    {
      "cell_type": "code",
      "metadata": {
        "id": "lWCoaAU6Ku8k"
      },
      "source": [
        "model.compile(optimizer='adam', \n",
        "              loss='binary_crossentropy', \n",
        "              metrics=['accuracy']) "
      ],
      "execution_count": 32,
      "outputs": []
    },
    {
      "cell_type": "markdown",
      "metadata": {
        "id": "k65qcMpZKu8k"
      },
      "source": [
        "- 모델 컴파일 – 다중 분류 모델  \n",
        "model.compile(optimizer='adam', \n",
        "              loss='categorical_crossentropy', \n",
        "              metrics=['accuracy']) \n"
      ]
    },
    {
      "cell_type": "markdown",
      "metadata": {
        "id": "ORJmg8O_Ku8k"
      },
      "source": [
        "- 모델 컴파일 – 예측 모델\n",
        "model.compile(optimizer='adam', loss='mse')"
      ]
    },
    {
      "cell_type": "markdown",
      "metadata": {
        "id": "eBJhPOMmKu8k"
      },
      "source": [
        "### 모델 훈련(학습) 하기"
      ]
    },
    {
      "cell_type": "code",
      "metadata": {
        "colab": {
          "base_uri": "https://localhost:8080/"
        },
        "id": "Ien9p8A9Ku8k",
        "outputId": "736ca25c-bbb6-4fdf-81d7-4c7e48c6a51e"
      },
      "source": [
        "model.fit(X_train, y_train, \n",
        "          validation_data=(X_test, y_test),\n",
        "          epochs=20, \n",
        "          batch_size=10)"
      ],
      "execution_count": 33,
      "outputs": [
        {
          "output_type": "stream",
          "text": [
            "Epoch 1/20\n",
            "493/493 [==============================] - 3s 3ms/step - loss: 0.5697 - accuracy: 0.7160 - val_loss: 0.4529 - val_accuracy: 0.7283\n",
            "Epoch 2/20\n",
            "493/493 [==============================] - 1s 2ms/step - loss: 0.4936 - accuracy: 0.7360 - val_loss: 0.4641 - val_accuracy: 0.7922\n",
            "Epoch 3/20\n",
            "493/493 [==============================] - 1s 2ms/step - loss: 0.4855 - accuracy: 0.7575 - val_loss: 0.4511 - val_accuracy: 0.7993\n",
            "Epoch 4/20\n",
            "493/493 [==============================] - 1s 2ms/step - loss: 0.4698 - accuracy: 0.7865 - val_loss: 0.4294 - val_accuracy: 0.8022\n",
            "Epoch 5/20\n",
            "493/493 [==============================] - 1s 2ms/step - loss: 0.4699 - accuracy: 0.7717 - val_loss: 0.4232 - val_accuracy: 0.8003\n",
            "Epoch 6/20\n",
            "493/493 [==============================] - 1s 2ms/step - loss: 0.4482 - accuracy: 0.7923 - val_loss: 0.4414 - val_accuracy: 0.7984\n",
            "Epoch 7/20\n",
            "493/493 [==============================] - 1s 2ms/step - loss: 0.4451 - accuracy: 0.7874 - val_loss: 0.4315 - val_accuracy: 0.7941\n",
            "Epoch 8/20\n",
            "493/493 [==============================] - 1s 2ms/step - loss: 0.4425 - accuracy: 0.7916 - val_loss: 0.4210 - val_accuracy: 0.7974\n",
            "Epoch 9/20\n",
            "493/493 [==============================] - 1s 2ms/step - loss: 0.4565 - accuracy: 0.7978 - val_loss: 0.4221 - val_accuracy: 0.7989\n",
            "Epoch 10/20\n",
            "493/493 [==============================] - 1s 2ms/step - loss: 0.4317 - accuracy: 0.8003 - val_loss: 0.4252 - val_accuracy: 0.8017\n",
            "Epoch 11/20\n",
            "493/493 [==============================] - 1s 2ms/step - loss: 0.4414 - accuracy: 0.7991 - val_loss: 0.4253 - val_accuracy: 0.8012\n",
            "Epoch 12/20\n",
            "493/493 [==============================] - 1s 2ms/step - loss: 0.4275 - accuracy: 0.8011 - val_loss: 0.4326 - val_accuracy: 0.7974\n",
            "Epoch 13/20\n",
            "493/493 [==============================] - 1s 2ms/step - loss: 0.4256 - accuracy: 0.8039 - val_loss: 0.4281 - val_accuracy: 0.8050\n",
            "Epoch 14/20\n",
            "493/493 [==============================] - 1s 2ms/step - loss: 0.4457 - accuracy: 0.7873 - val_loss: 0.4251 - val_accuracy: 0.8064\n",
            "Epoch 15/20\n",
            "493/493 [==============================] - 1s 2ms/step - loss: 0.4322 - accuracy: 0.7996 - val_loss: 0.4186 - val_accuracy: 0.8036\n",
            "Epoch 16/20\n",
            "493/493 [==============================] - 1s 2ms/step - loss: 0.4363 - accuracy: 0.7908 - val_loss: 0.4339 - val_accuracy: 0.7989\n",
            "Epoch 17/20\n",
            "493/493 [==============================] - 1s 2ms/step - loss: 0.4280 - accuracy: 0.8051 - val_loss: 0.4285 - val_accuracy: 0.8012\n",
            "Epoch 18/20\n",
            "493/493 [==============================] - 1s 2ms/step - loss: 0.4434 - accuracy: 0.8072 - val_loss: 0.4255 - val_accuracy: 0.7965\n",
            "Epoch 19/20\n",
            "493/493 [==============================] - 1s 2ms/step - loss: 0.4169 - accuracy: 0.7996 - val_loss: 0.4240 - val_accuracy: 0.8027\n",
            "Epoch 20/20\n",
            "493/493 [==============================] - 1s 2ms/step - loss: 0.4341 - accuracy: 0.8021 - val_loss: 0.4284 - val_accuracy: 0.8036\n"
          ],
          "name": "stdout"
        },
        {
          "output_type": "execute_result",
          "data": {
            "text/plain": [
              "<tensorflow.python.keras.callbacks.History at 0x7fe43c848390>"
            ]
          },
          "metadata": {
            "tags": []
          },
          "execution_count": 33
        }
      ]
    },
    {
      "cell_type": "markdown",
      "metadata": {
        "id": "P9nFZr6KKu8k"
      },
      "source": [
        "### 모델 훈련(학습) - 조기종료"
      ]
    },
    {
      "cell_type": "code",
      "metadata": {
        "id": "ufprCOfHKu8k"
      },
      "source": [
        "from tensorflow.keras.callbacks import EarlyStopping, ModelCheckpoint"
      ],
      "execution_count": 34,
      "outputs": []
    },
    {
      "cell_type": "code",
      "metadata": {
        "id": "Fu9j-6_sKu8k"
      },
      "source": [
        "early_stop = EarlyStopping(monitor='val_loss', mode='min', \n",
        "                           verbose=1, patience=25)"
      ],
      "execution_count": 35,
      "outputs": []
    },
    {
      "cell_type": "code",
      "metadata": {
        "id": "EZe2nIkaKu8k"
      },
      "source": [
        "check_point = ModelCheckpoint('best_model.h5', verbose=1,\n",
        "                              monitor='val_loss', mode='min', \n",
        "                              save_best_only=True)"
      ],
      "execution_count": 36,
      "outputs": []
    },
    {
      "cell_type": "code",
      "metadata": {
        "colab": {
          "base_uri": "https://localhost:8080/"
        },
        "id": "i9msPJxqKu8k",
        "outputId": "1d423fa5-6df0-4e65-fba3-623348f093bf"
      },
      "source": [
        "history = model.fit(x=X_train, y=y_train, \n",
        "          epochs=50 , batch_size=20,\n",
        "          validation_data=(X_test, y_test), \n",
        "          verbose=1,\n",
        "          callbacks=[early_stop, check_point])"
      ],
      "execution_count": 37,
      "outputs": [
        {
          "output_type": "stream",
          "text": [
            "Epoch 1/50\n",
            "247/247 [==============================] - 1s 4ms/step - loss: 0.4228 - accuracy: 0.8030 - val_loss: 0.4230 - val_accuracy: 0.7984\n",
            "\n",
            "Epoch 00001: val_loss improved from inf to 0.42298, saving model to best_model.h5\n",
            "Epoch 2/50\n",
            "247/247 [==============================] - 1s 3ms/step - loss: 0.4247 - accuracy: 0.8034 - val_loss: 0.4334 - val_accuracy: 0.8022\n",
            "\n",
            "Epoch 00002: val_loss did not improve from 0.42298\n",
            "Epoch 3/50\n",
            "247/247 [==============================] - 1s 3ms/step - loss: 0.4151 - accuracy: 0.8071 - val_loss: 0.4260 - val_accuracy: 0.8022\n",
            "\n",
            "Epoch 00003: val_loss did not improve from 0.42298\n",
            "Epoch 4/50\n",
            "247/247 [==============================] - 1s 3ms/step - loss: 0.4170 - accuracy: 0.8047 - val_loss: 0.4227 - val_accuracy: 0.8045\n",
            "\n",
            "Epoch 00004: val_loss improved from 0.42298 to 0.42272, saving model to best_model.h5\n",
            "Epoch 5/50\n",
            "247/247 [==============================] - 1s 3ms/step - loss: 0.4190 - accuracy: 0.8063 - val_loss: 0.4265 - val_accuracy: 0.8008\n",
            "\n",
            "Epoch 00005: val_loss did not improve from 0.42272\n",
            "Epoch 6/50\n",
            "247/247 [==============================] - 1s 3ms/step - loss: 0.4175 - accuracy: 0.8008 - val_loss: 0.4241 - val_accuracy: 0.8031\n",
            "\n",
            "Epoch 00006: val_loss did not improve from 0.42272\n",
            "Epoch 7/50\n",
            "247/247 [==============================] - 1s 3ms/step - loss: 0.4164 - accuracy: 0.8012 - val_loss: 0.4274 - val_accuracy: 0.8060\n",
            "\n",
            "Epoch 00007: val_loss did not improve from 0.42272\n",
            "Epoch 8/50\n",
            "247/247 [==============================] - 1s 3ms/step - loss: 0.4149 - accuracy: 0.8108 - val_loss: 0.4234 - val_accuracy: 0.8060\n",
            "\n",
            "Epoch 00008: val_loss did not improve from 0.42272\n",
            "Epoch 9/50\n",
            "247/247 [==============================] - 1s 3ms/step - loss: 0.4144 - accuracy: 0.8075 - val_loss: 0.4257 - val_accuracy: 0.8031\n",
            "\n",
            "Epoch 00009: val_loss did not improve from 0.42272\n",
            "Epoch 10/50\n",
            "247/247 [==============================] - 1s 3ms/step - loss: 0.4145 - accuracy: 0.8075 - val_loss: 0.4271 - val_accuracy: 0.7989\n",
            "\n",
            "Epoch 00010: val_loss did not improve from 0.42272\n",
            "Epoch 11/50\n",
            "247/247 [==============================] - 1s 3ms/step - loss: 0.4194 - accuracy: 0.8116 - val_loss: 0.4228 - val_accuracy: 0.8008\n",
            "\n",
            "Epoch 00011: val_loss did not improve from 0.42272\n",
            "Epoch 12/50\n",
            "247/247 [==============================] - 1s 3ms/step - loss: 0.4147 - accuracy: 0.8081 - val_loss: 0.4242 - val_accuracy: 0.8064\n",
            "\n",
            "Epoch 00012: val_loss did not improve from 0.42272\n",
            "Epoch 13/50\n",
            "247/247 [==============================] - 1s 3ms/step - loss: 0.4157 - accuracy: 0.8095 - val_loss: 0.4250 - val_accuracy: 0.8050\n",
            "\n",
            "Epoch 00013: val_loss did not improve from 0.42272\n",
            "Epoch 14/50\n",
            "247/247 [==============================] - 1s 3ms/step - loss: 0.4123 - accuracy: 0.8120 - val_loss: 0.4253 - val_accuracy: 0.7979\n",
            "\n",
            "Epoch 00014: val_loss did not improve from 0.42272\n",
            "Epoch 15/50\n",
            "247/247 [==============================] - 1s 3ms/step - loss: 0.4073 - accuracy: 0.8061 - val_loss: 0.4239 - val_accuracy: 0.8017\n",
            "\n",
            "Epoch 00015: val_loss did not improve from 0.42272\n",
            "Epoch 16/50\n",
            "247/247 [==============================] - 1s 3ms/step - loss: 0.4081 - accuracy: 0.8124 - val_loss: 0.4251 - val_accuracy: 0.7993\n",
            "\n",
            "Epoch 00016: val_loss did not improve from 0.42272\n",
            "Epoch 17/50\n",
            "247/247 [==============================] - 1s 3ms/step - loss: 0.4072 - accuracy: 0.8089 - val_loss: 0.4257 - val_accuracy: 0.8041\n",
            "\n",
            "Epoch 00017: val_loss did not improve from 0.42272\n",
            "Epoch 18/50\n",
            "247/247 [==============================] - 1s 3ms/step - loss: 0.4117 - accuracy: 0.8105 - val_loss: 0.4331 - val_accuracy: 0.8036\n",
            "\n",
            "Epoch 00018: val_loss did not improve from 0.42272\n",
            "Epoch 19/50\n",
            "247/247 [==============================] - 1s 3ms/step - loss: 0.4114 - accuracy: 0.8099 - val_loss: 0.4287 - val_accuracy: 0.8036\n",
            "\n",
            "Epoch 00019: val_loss did not improve from 0.42272\n",
            "Epoch 20/50\n",
            "247/247 [==============================] - 1s 3ms/step - loss: 0.4069 - accuracy: 0.8172 - val_loss: 0.4342 - val_accuracy: 0.7974\n",
            "\n",
            "Epoch 00020: val_loss did not improve from 0.42272\n",
            "Epoch 21/50\n",
            "247/247 [==============================] - 1s 3ms/step - loss: 0.4058 - accuracy: 0.8103 - val_loss: 0.4309 - val_accuracy: 0.7979\n",
            "\n",
            "Epoch 00021: val_loss did not improve from 0.42272\n",
            "Epoch 22/50\n",
            "247/247 [==============================] - 1s 3ms/step - loss: 0.4092 - accuracy: 0.8116 - val_loss: 0.4334 - val_accuracy: 0.7965\n",
            "\n",
            "Epoch 00022: val_loss did not improve from 0.42272\n",
            "Epoch 23/50\n",
            "247/247 [==============================] - 1s 3ms/step - loss: 0.4067 - accuracy: 0.8128 - val_loss: 0.4330 - val_accuracy: 0.7941\n",
            "\n",
            "Epoch 00023: val_loss did not improve from 0.42272\n",
            "Epoch 24/50\n",
            "247/247 [==============================] - 1s 3ms/step - loss: 0.4097 - accuracy: 0.8130 - val_loss: 0.4325 - val_accuracy: 0.7970\n",
            "\n",
            "Epoch 00024: val_loss did not improve from 0.42272\n",
            "Epoch 25/50\n",
            "247/247 [==============================] - 1s 3ms/step - loss: 0.3985 - accuracy: 0.8152 - val_loss: 0.4367 - val_accuracy: 0.7937\n",
            "\n",
            "Epoch 00025: val_loss did not improve from 0.42272\n",
            "Epoch 26/50\n",
            "247/247 [==============================] - 1s 3ms/step - loss: 0.4022 - accuracy: 0.8205 - val_loss: 0.4335 - val_accuracy: 0.7941\n",
            "\n",
            "Epoch 00026: val_loss did not improve from 0.42272\n",
            "Epoch 27/50\n",
            "247/247 [==============================] - 1s 3ms/step - loss: 0.4006 - accuracy: 0.8170 - val_loss: 0.4408 - val_accuracy: 0.7970\n",
            "\n",
            "Epoch 00027: val_loss did not improve from 0.42272\n",
            "Epoch 28/50\n",
            "247/247 [==============================] - 1s 3ms/step - loss: 0.4017 - accuracy: 0.8136 - val_loss: 0.4347 - val_accuracy: 0.7946\n",
            "\n",
            "Epoch 00028: val_loss did not improve from 0.42272\n",
            "Epoch 29/50\n",
            "247/247 [==============================] - 1s 3ms/step - loss: 0.3980 - accuracy: 0.8181 - val_loss: 0.4359 - val_accuracy: 0.7970\n",
            "\n",
            "Epoch 00029: val_loss did not improve from 0.42272\n",
            "Epoch 00029: early stopping\n"
          ],
          "name": "stdout"
        }
      ]
    },
    {
      "cell_type": "markdown",
      "metadata": {
        "id": "fgSwdiKhKu8k"
      },
      "source": [
        "### ⑧ 모델 성능 평가"
      ]
    },
    {
      "cell_type": "code",
      "metadata": {
        "id": "UwcNzzP7Ku8k"
      },
      "source": [
        "losses = pd.DataFrame(model.history.history)"
      ],
      "execution_count": 38,
      "outputs": []
    },
    {
      "cell_type": "code",
      "metadata": {
        "colab": {
          "base_uri": "https://localhost:8080/",
          "height": 198
        },
        "id": "_bVnHXztKu8k",
        "outputId": "eb894ee7-72b2-4ea1-e51d-68729665d5b9"
      },
      "source": [
        "losses.head()"
      ],
      "execution_count": 39,
      "outputs": [
        {
          "output_type": "execute_result",
          "data": {
            "text/html": [
              "<div>\n",
              "<style scoped>\n",
              "    .dataframe tbody tr th:only-of-type {\n",
              "        vertical-align: middle;\n",
              "    }\n",
              "\n",
              "    .dataframe tbody tr th {\n",
              "        vertical-align: top;\n",
              "    }\n",
              "\n",
              "    .dataframe thead th {\n",
              "        text-align: right;\n",
              "    }\n",
              "</style>\n",
              "<table border=\"1\" class=\"dataframe\">\n",
              "  <thead>\n",
              "    <tr style=\"text-align: right;\">\n",
              "      <th></th>\n",
              "      <th>loss</th>\n",
              "      <th>accuracy</th>\n",
              "      <th>val_loss</th>\n",
              "      <th>val_accuracy</th>\n",
              "    </tr>\n",
              "  </thead>\n",
              "  <tbody>\n",
              "    <tr>\n",
              "      <th>0</th>\n",
              "      <td>0.422832</td>\n",
              "      <td>0.803043</td>\n",
              "      <td>0.422983</td>\n",
              "      <td>0.798391</td>\n",
              "    </tr>\n",
              "    <tr>\n",
              "      <th>1</th>\n",
              "      <td>0.424704</td>\n",
              "      <td>0.803448</td>\n",
              "      <td>0.433357</td>\n",
              "      <td>0.802177</td>\n",
              "    </tr>\n",
              "    <tr>\n",
              "      <th>2</th>\n",
              "      <td>0.415137</td>\n",
              "      <td>0.807099</td>\n",
              "      <td>0.425966</td>\n",
              "      <td>0.802177</td>\n",
              "    </tr>\n",
              "    <tr>\n",
              "      <th>3</th>\n",
              "      <td>0.417009</td>\n",
              "      <td>0.804665</td>\n",
              "      <td>0.422723</td>\n",
              "      <td>0.804543</td>\n",
              "    </tr>\n",
              "    <tr>\n",
              "      <th>4</th>\n",
              "      <td>0.418991</td>\n",
              "      <td>0.806288</td>\n",
              "      <td>0.426476</td>\n",
              "      <td>0.800757</td>\n",
              "    </tr>\n",
              "  </tbody>\n",
              "</table>\n",
              "</div>"
            ],
            "text/plain": [
              "       loss  accuracy  val_loss  val_accuracy\n",
              "0  0.422832  0.803043  0.422983      0.798391\n",
              "1  0.424704  0.803448  0.433357      0.802177\n",
              "2  0.415137  0.807099  0.425966      0.802177\n",
              "3  0.417009  0.804665  0.422723      0.804543\n",
              "4  0.418991  0.806288  0.426476      0.800757"
            ]
          },
          "metadata": {
            "tags": []
          },
          "execution_count": 39
        }
      ]
    },
    {
      "cell_type": "code",
      "metadata": {
        "colab": {
          "base_uri": "https://localhost:8080/",
          "height": 283
        },
        "id": "x1-xsEdrKu8k",
        "outputId": "1b117ab3-e00b-4442-8c56-f35ed17cf77a"
      },
      "source": [
        "losses[['loss','val_loss']].plot()"
      ],
      "execution_count": 40,
      "outputs": [
        {
          "output_type": "execute_result",
          "data": {
            "text/plain": [
              "<matplotlib.axes._subplots.AxesSubplot at 0x7fe43bfcb9d0>"
            ]
          },
          "metadata": {
            "tags": []
          },
          "execution_count": 40
        },
        {
          "output_type": "display_data",
          "data": {
            "image/png": "[encoded data removed]",
            "text/plain": [
              "<Figure size 432x288 with 1 Axes>"
            ]
          },
          "metadata": {
            "tags": [],
            "needs_background": "light"
          }
        }
      ]
    },
    {
      "cell_type": "code",
      "metadata": {
        "colab": {
          "base_uri": "https://localhost:8080/",
          "height": 283
        },
        "id": "QZ5NV7wsKu8k",
        "outputId": "db20c7f7-58d9-4aa4-d76c-9a723247463b"
      },
      "source": [
        "losses[['loss','val_loss', 'accuracy','val_accuracy']].plot()"
      ],
      "execution_count": 41,
      "outputs": [
        {
          "output_type": "execute_result",
          "data": {
            "text/plain": [
              "<matplotlib.axes._subplots.AxesSubplot at 0x7fe438d1d310>"
            ]
          },
          "metadata": {
            "tags": []
          },
          "execution_count": 41
        },
        {
          "output_type": "display_data",
          "data": {
            "image/png": "[encoded data removed]",
            "text/plain": [
              "<Figure size 432x288 with 1 Axes>"
            ]
          },
          "metadata": {
            "tags": [],
            "needs_background": "light"
          }
        }
      ]
    },
    {
      "cell_type": "code",
      "metadata": {
        "id": "rnTWGE5fKu8k"
      },
      "source": [
        "from sklearn.metrics import classification_report,confusion_matrix"
      ],
      "execution_count": 42,
      "outputs": []
    },
    {
      "cell_type": "code",
      "metadata": {
        "colab": {
          "base_uri": "https://localhost:8080/"
        },
        "id": "TLRkWvR3Ku8k",
        "outputId": "73181230-ddbf-49b4-9332-daa1c08c5ec5"
      },
      "source": [
        "predictions = model.predict_classes(X_test)"
      ],
      "execution_count": 43,
      "outputs": [
        {
          "output_type": "stream",
          "text": [
            "/usr/local/lib/python3.7/dist-packages/tensorflow/python/keras/engine/sequential.py:450: UserWarning: `model.predict_classes()` is deprecated and will be removed after 2021-01-01. Please use instead:* `np.argmax(model.predict(x), axis=-1)`,   if your model does multi-class classification   (e.g. if it uses a `softmax` last-layer activation).* `(model.predict(x) > 0.5).astype(\"int32\")`,   if your model does binary classification   (e.g. if it uses a `sigmoid` last-layer activation).\n",
            "  warnings.warn('`model.predict_classes()` is deprecated and '\n"
          ],
          "name": "stderr"
        }
      ]
    },
    {
      "cell_type": "code",
      "metadata": {
        "colab": {
          "base_uri": "https://localhost:8080/"
        },
        "id": "5iTIpXKPKu8k",
        "outputId": "7559c11c-86d0-4885-98dd-6db0d3d65863"
      },
      "source": [
        "print(classification_report(y_test,predictions))"
      ],
      "execution_count": 44,
      "outputs": [
        {
          "output_type": "stream",
          "text": [
            "              precision    recall  f1-score   support\n",
            "\n",
            "           0       0.85      0.87      0.86      1539\n",
            "           1       0.64      0.59      0.61       574\n",
            "\n",
            "    accuracy                           0.80      2113\n",
            "   macro avg       0.74      0.73      0.74      2113\n",
            "weighted avg       0.79      0.80      0.79      2113\n",
            "\n"
          ],
          "name": "stdout"
        }
      ]
    },
    {
      "cell_type": "code",
      "metadata": {
        "colab": {
          "base_uri": "https://localhost:8080/"
        },
        "id": "CX3mBwaeKu8k",
        "outputId": "e75e0a9f-897b-429a-8bb7-7fede66d5443"
      },
      "source": [
        "print(confusion_matrix(y_test,predictions))"
      ],
      "execution_count": 45,
      "outputs": [
        {
          "output_type": "stream",
          "text": [
            "[[1346  193]\n",
            " [ 236  338]]\n"
          ],
          "name": "stdout"
        }
      ]
    },
    {
      "cell_type": "code",
      "metadata": {
        "id": "H9sP0iH3Ku8k"
      },
      "source": [
        ""
      ],
      "execution_count": 45,
      "outputs": []
    }
  ]
}